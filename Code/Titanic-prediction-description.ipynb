{
 "cells": [
  {
   "cell_type": "markdown",
   "execution_count": null,
   "metadata": {
    "papermill": {
     "duration": 0.020378,
     "end_time": "2020-08-27T22:37:24.718794",
     "exception": false,
     "start_time": "2020-08-27T22:37:24.698416",
     "status": "completed"
    },
    "tags": []
   },
   "source": []
  },
  {
   "cell_type": "markdown",
   "execution_count": null,
   "metadata": {
    "papermill": {
     "duration": 0.01667,
     "end_time": "2020-08-27T22:37:24.752685",
     "exception": false,
     "start_time": "2020-08-27T22:37:24.736015",
     "status": "completed"
    },
    "tags": []
   },
   "source": [
    "# 1. Load raw data and preliminary data check"
   ]
  },
  {
   "cell_type": "code",
   "execution_count": 1,
   "metadata": {
    "execution": {
     "iopub.execute_input": "2020-08-27T22:37:24.794570Z",
     "iopub.status.busy": "2020-08-27T22:37:24.793527Z",
     "iopub.status.idle": "2020-08-27T22:37:24.799038Z",
     "shell.execute_reply": "2020-08-27T22:37:24.798278Z"
    },
    "papermill": {
     "duration": 0.029333,
     "end_time": "2020-08-27T22:37:24.799160",
     "exception": false,
     "start_time": "2020-08-27T22:37:24.769827",
     "status": "completed"
    },
    "tags": []
   },
   "outputs": [
    {
     "name": "stdout",
     "output_type": "stream",
     "text": [
      "/kaggle/input/titanic/train.csv\n",
      "/kaggle/input/titanic/gender_submission.csv\n",
      "/kaggle/input/titanic/test.csv\n"
     ]
    }
   ],
   "source": [
    "# This Python 3 environment comes with many helpful analytics libraries installed\n",
    "# It is defined by the kaggle/python Docker image: https://github.com/kaggle/docker-python\n",
    "# For example, here's several helpful packages to load\n",
    "\n",
    "import numpy as np # linear algebra\n",
    "import pandas as pd # data processing, CSV file I/O (e.g. pd.read_csv)\n",
    "\n",
    "# Input data files are available in the read-only \"../input/\" directory\n",
    "# For example, running this (by clicking run or pressing Shift+Enter) will list all files under the input directory\n",
    "\n",
    "import os\n",
    "for dirname, _, filenames in os.walk('/kaggle/input'):\n",
    "    for filename in filenames:\n",
    "        print(os.path.join(dirname, filename))\n",
    "\n",
    "# You can write up to 5GB to the current directory (/kaggle/working/) that gets preserved as output when you create a version using \"Save & Run All\" \n",
    "# You can also write temporary files to /kaggle/temp/, but they won't be saved outside of the current session\n"
   ]
  },
  {
   "cell_type": "code",
   "execution_count": 2,
   "metadata": {
    "execution": {
     "iopub.execute_input": "2020-08-27T22:37:24.839293Z",
     "iopub.status.busy": "2020-08-27T22:37:24.838595Z",
     "iopub.status.idle": "2020-08-27T22:37:24.872891Z",
     "shell.execute_reply": "2020-08-27T22:37:24.873475Z"
    },
    "papermill": {
     "duration": 0.05719,
     "end_time": "2020-08-27T22:37:24.873630",
     "exception": false,
     "start_time": "2020-08-27T22:37:24.816440",
     "status": "completed"
    },
    "tags": []
   },
   "outputs": [
    {
     "data": {
      "text/html": [
       "<div>\n",
       "<style scoped>\n",
       "    .dataframe tbody tr th:only-of-type {\n",
       "        vertical-align: middle;\n",
       "    }\n",
       "\n",
       "    .dataframe tbody tr th {\n",
       "        vertical-align: top;\n",
       "    }\n",
       "\n",
       "    .dataframe thead th {\n",
       "        text-align: right;\n",
       "    }\n",
       "</style>\n",
       "<table border=\"1\" class=\"dataframe\">\n",
       "  <thead>\n",
       "    <tr style=\"text-align: right;\">\n",
       "      <th></th>\n",
       "      <th>PassengerId</th>\n",
       "      <th>Survived</th>\n",
       "      <th>Pclass</th>\n",
       "      <th>Name</th>\n",
       "      <th>Sex</th>\n",
       "      <th>Age</th>\n",
       "      <th>SibSp</th>\n",
       "      <th>Parch</th>\n",
       "      <th>Ticket</th>\n",
       "      <th>Fare</th>\n",
       "      <th>Cabin</th>\n",
       "      <th>Embarked</th>\n",
       "    </tr>\n",
       "  </thead>\n",
       "  <tbody>\n",
       "    <tr>\n",
       "      <th>0</th>\n",
       "      <td>1</td>\n",
       "      <td>0</td>\n",
       "      <td>3</td>\n",
       "      <td>Braund, Mr. Owen Harris</td>\n",
       "      <td>male</td>\n",
       "      <td>22.0</td>\n",
       "      <td>1</td>\n",
       "      <td>0</td>\n",
       "      <td>A/5 21171</td>\n",
       "      <td>7.2500</td>\n",
       "      <td>NaN</td>\n",
       "      <td>S</td>\n",
       "    </tr>\n",
       "    <tr>\n",
       "      <th>1</th>\n",
       "      <td>2</td>\n",
       "      <td>1</td>\n",
       "      <td>1</td>\n",
       "      <td>Cumings, Mrs. John Bradley (Florence Briggs Th...</td>\n",
       "      <td>female</td>\n",
       "      <td>38.0</td>\n",
       "      <td>1</td>\n",
       "      <td>0</td>\n",
       "      <td>PC 17599</td>\n",
       "      <td>71.2833</td>\n",
       "      <td>C85</td>\n",
       "      <td>C</td>\n",
       "    </tr>\n",
       "    <tr>\n",
       "      <th>2</th>\n",
       "      <td>3</td>\n",
       "      <td>1</td>\n",
       "      <td>3</td>\n",
       "      <td>Heikkinen, Miss. Laina</td>\n",
       "      <td>female</td>\n",
       "      <td>26.0</td>\n",
       "      <td>0</td>\n",
       "      <td>0</td>\n",
       "      <td>STON/O2. 3101282</td>\n",
       "      <td>7.9250</td>\n",
       "      <td>NaN</td>\n",
       "      <td>S</td>\n",
       "    </tr>\n",
       "    <tr>\n",
       "      <th>3</th>\n",
       "      <td>4</td>\n",
       "      <td>1</td>\n",
       "      <td>1</td>\n",
       "      <td>Futrelle, Mrs. Jacques Heath (Lily May Peel)</td>\n",
       "      <td>female</td>\n",
       "      <td>35.0</td>\n",
       "      <td>1</td>\n",
       "      <td>0</td>\n",
       "      <td>113803</td>\n",
       "      <td>53.1000</td>\n",
       "      <td>C123</td>\n",
       "      <td>S</td>\n",
       "    </tr>\n",
       "    <tr>\n",
       "      <th>4</th>\n",
       "      <td>5</td>\n",
       "      <td>0</td>\n",
       "      <td>3</td>\n",
       "      <td>Allen, Mr. William Henry</td>\n",
       "      <td>male</td>\n",
       "      <td>35.0</td>\n",
       "      <td>0</td>\n",
       "      <td>0</td>\n",
       "      <td>373450</td>\n",
       "      <td>8.0500</td>\n",
       "      <td>NaN</td>\n",
       "      <td>S</td>\n",
       "    </tr>\n",
       "  </tbody>\n",
       "</table>\n",
       "</div>"
      ],
      "text/plain": [
       "   PassengerId  Survived  Pclass  \\\n",
       "0            1         0       3   \n",
       "1            2         1       1   \n",
       "2            3         1       3   \n",
       "3            4         1       1   \n",
       "4            5         0       3   \n",
       "\n",
       "                                                Name     Sex   Age  SibSp  \\\n",
       "0                            Braund, Mr. Owen Harris    male  22.0      1   \n",
       "1  Cumings, Mrs. John Bradley (Florence Briggs Th...  female  38.0      1   \n",
       "2                             Heikkinen, Miss. Laina  female  26.0      0   \n",
       "3       Futrelle, Mrs. Jacques Heath (Lily May Peel)  female  35.0      1   \n",
       "4                           Allen, Mr. William Henry    male  35.0      0   \n",
       "\n",
       "   Parch            Ticket     Fare Cabin Embarked  \n",
       "0      0         A/5 21171   7.2500   NaN        S  \n",
       "1      0          PC 17599  71.2833   C85        C  \n",
       "2      0  STON/O2. 3101282   7.9250   NaN        S  \n",
       "3      0            113803  53.1000  C123        S  \n",
       "4      0            373450   8.0500   NaN        S  "
      ]
     },
     "execution_count": 2,
     "metadata": {},
     "output_type": "execute_result"
    }
   ],
   "source": [
    "train = pd.read_csv('/kaggle/input/titanic/train.csv')\n",
    "train.head()"
   ]
  },
  {
   "cell_type": "code",
   "execution_count": 3,
   "metadata": {
    "execution": {
     "iopub.execute_input": "2020-08-27T22:37:24.923626Z",
     "iopub.status.busy": "2020-08-27T22:37:24.922595Z",
     "iopub.status.idle": "2020-08-27T22:37:24.951285Z",
     "shell.execute_reply": "2020-08-27T22:37:24.951881Z"
    },
    "papermill": {
     "duration": 0.060598,
     "end_time": "2020-08-27T22:37:24.952045",
     "exception": false,
     "start_time": "2020-08-27T22:37:24.891447",
     "status": "completed"
    },
    "tags": []
   },
   "outputs": [
    {
     "data": {
      "text/html": [
       "<div>\n",
       "<style scoped>\n",
       "    .dataframe tbody tr th:only-of-type {\n",
       "        vertical-align: middle;\n",
       "    }\n",
       "\n",
       "    .dataframe tbody tr th {\n",
       "        vertical-align: top;\n",
       "    }\n",
       "\n",
       "    .dataframe thead th {\n",
       "        text-align: right;\n",
       "    }\n",
       "</style>\n",
       "<table border=\"1\" class=\"dataframe\">\n",
       "  <thead>\n",
       "    <tr style=\"text-align: right;\">\n",
       "      <th></th>\n",
       "      <th>PassengerId</th>\n",
       "      <th>Pclass</th>\n",
       "      <th>Name</th>\n",
       "      <th>Sex</th>\n",
       "      <th>Age</th>\n",
       "      <th>SibSp</th>\n",
       "      <th>Parch</th>\n",
       "      <th>Ticket</th>\n",
       "      <th>Fare</th>\n",
       "      <th>Cabin</th>\n",
       "      <th>Embarked</th>\n",
       "    </tr>\n",
       "  </thead>\n",
       "  <tbody>\n",
       "    <tr>\n",
       "      <th>0</th>\n",
       "      <td>892</td>\n",
       "      <td>3</td>\n",
       "      <td>Kelly, Mr. James</td>\n",
       "      <td>male</td>\n",
       "      <td>34.5</td>\n",
       "      <td>0</td>\n",
       "      <td>0</td>\n",
       "      <td>330911</td>\n",
       "      <td>7.8292</td>\n",
       "      <td>NaN</td>\n",
       "      <td>Q</td>\n",
       "    </tr>\n",
       "    <tr>\n",
       "      <th>1</th>\n",
       "      <td>893</td>\n",
       "      <td>3</td>\n",
       "      <td>Wilkes, Mrs. James (Ellen Needs)</td>\n",
       "      <td>female</td>\n",
       "      <td>47.0</td>\n",
       "      <td>1</td>\n",
       "      <td>0</td>\n",
       "      <td>363272</td>\n",
       "      <td>7.0000</td>\n",
       "      <td>NaN</td>\n",
       "      <td>S</td>\n",
       "    </tr>\n",
       "    <tr>\n",
       "      <th>2</th>\n",
       "      <td>894</td>\n",
       "      <td>2</td>\n",
       "      <td>Myles, Mr. Thomas Francis</td>\n",
       "      <td>male</td>\n",
       "      <td>62.0</td>\n",
       "      <td>0</td>\n",
       "      <td>0</td>\n",
       "      <td>240276</td>\n",
       "      <td>9.6875</td>\n",
       "      <td>NaN</td>\n",
       "      <td>Q</td>\n",
       "    </tr>\n",
       "    <tr>\n",
       "      <th>3</th>\n",
       "      <td>895</td>\n",
       "      <td>3</td>\n",
       "      <td>Wirz, Mr. Albert</td>\n",
       "      <td>male</td>\n",
       "      <td>27.0</td>\n",
       "      <td>0</td>\n",
       "      <td>0</td>\n",
       "      <td>315154</td>\n",
       "      <td>8.6625</td>\n",
       "      <td>NaN</td>\n",
       "      <td>S</td>\n",
       "    </tr>\n",
       "    <tr>\n",
       "      <th>4</th>\n",
       "      <td>896</td>\n",
       "      <td>3</td>\n",
       "      <td>Hirvonen, Mrs. Alexander (Helga E Lindqvist)</td>\n",
       "      <td>female</td>\n",
       "      <td>22.0</td>\n",
       "      <td>1</td>\n",
       "      <td>1</td>\n",
       "      <td>3101298</td>\n",
       "      <td>12.2875</td>\n",
       "      <td>NaN</td>\n",
       "      <td>S</td>\n",
       "    </tr>\n",
       "  </tbody>\n",
       "</table>\n",
       "</div>"
      ],
      "text/plain": [
       "   PassengerId  Pclass                                          Name     Sex  \\\n",
       "0          892       3                              Kelly, Mr. James    male   \n",
       "1          893       3              Wilkes, Mrs. James (Ellen Needs)  female   \n",
       "2          894       2                     Myles, Mr. Thomas Francis    male   \n",
       "3          895       3                              Wirz, Mr. Albert    male   \n",
       "4          896       3  Hirvonen, Mrs. Alexander (Helga E Lindqvist)  female   \n",
       "\n",
       "    Age  SibSp  Parch   Ticket     Fare Cabin Embarked  \n",
       "0  34.5      0      0   330911   7.8292   NaN        Q  \n",
       "1  47.0      1      0   363272   7.0000   NaN        S  \n",
       "2  62.0      0      0   240276   9.6875   NaN        Q  \n",
       "3  27.0      0      0   315154   8.6625   NaN        S  \n",
       "4  22.0      1      1  3101298  12.2875   NaN        S  "
      ]
     },
     "execution_count": 3,
     "metadata": {},
     "output_type": "execute_result"
    }
   ],
   "source": [
    "test = pd.read_csv('/kaggle/input/titanic/test.csv')\n",
    "testid = test['PassengerId']\n",
    "test.head()"
   ]
  },
  {
   "cell_type": "code",
   "execution_count": 4,
   "metadata": {
    "execution": {
     "iopub.execute_input": "2020-08-27T22:37:25.010805Z",
     "iopub.status.busy": "2020-08-27T22:37:25.010026Z",
     "iopub.status.idle": "2020-08-27T22:37:25.031446Z",
     "shell.execute_reply": "2020-08-27T22:37:25.030636Z"
    },
    "papermill": {
     "duration": 0.060538,
     "end_time": "2020-08-27T22:37:25.031599",
     "exception": false,
     "start_time": "2020-08-27T22:37:24.971061",
     "status": "completed"
    },
    "tags": []
   },
   "outputs": [
    {
     "name": "stdout",
     "output_type": "stream",
     "text": [
      "<class 'pandas.core.frame.DataFrame'>\n",
      "RangeIndex: 1309 entries, 0 to 1308\n",
      "Data columns (total 13 columns):\n",
      " #   Column       Non-Null Count  Dtype  \n",
      "---  ------       --------------  -----  \n",
      " 0   index        1309 non-null   int64  \n",
      " 1   PassengerId  1309 non-null   int64  \n",
      " 2   Survived     891 non-null    float64\n",
      " 3   Pclass       1309 non-null   int64  \n",
      " 4   Name         1309 non-null   object \n",
      " 5   Sex          1309 non-null   object \n",
      " 6   Age          1046 non-null   float64\n",
      " 7   SibSp        1309 non-null   int64  \n",
      " 8   Parch        1309 non-null   int64  \n",
      " 9   Ticket       1309 non-null   object \n",
      " 10  Fare         1308 non-null   float64\n",
      " 11  Cabin        295 non-null    object \n",
      " 12  Embarked     1307 non-null   object \n",
      "dtypes: float64(3), int64(5), object(5)\n",
      "memory usage: 133.1+ KB\n"
     ]
    }
   ],
   "source": [
    "data = pd.concat([train,test],axis=0).reset_index()\n",
    "data.info()"
   ]
  },
  {
   "cell_type": "code",
   "execution_count": 5,
   "metadata": {
    "execution": {
     "iopub.execute_input": "2020-08-27T22:37:25.089706Z",
     "iopub.status.busy": "2020-08-27T22:37:25.088107Z",
     "iopub.status.idle": "2020-08-27T22:37:25.096698Z",
     "shell.execute_reply": "2020-08-27T22:37:25.095707Z"
    },
    "papermill": {
     "duration": 0.046405,
     "end_time": "2020-08-27T22:37:25.097029",
     "exception": false,
     "start_time": "2020-08-27T22:37:25.050624",
     "status": "completed"
    },
    "tags": []
   },
   "outputs": [
    {
     "name": "stdout",
     "output_type": "stream",
     "text": [
      "train set shape (891, 12)\n",
      "test set shape (418, 11)\n",
      "all data set shape (1309, 13)\n",
      "Age missing 263     20.091673032849503 %\n",
      "Cabin missing 1014     77.46371275783041 %\n",
      "Embarked missing 2     0.15278838808250572 %\n",
      "Fare missing 1     0.07639419404125286 %\n"
     ]
    }
   ],
   "source": [
    "print('train set shape',train.shape)\n",
    "print('test set shape',test.shape)\n",
    "print('all data set shape',data.shape)\n",
    "data_len = len(data)\n",
    "print('Age missing',data.Age.isnull().sum(),'   ',\n",
    "      (data.Age.isnull().sum())/int(data_len)*int(100),'%')\n",
    "print('Cabin missing',data.Cabin.isnull().sum(),'   ',\n",
    "      (data.Cabin.isnull().sum())/int(data_len)*int(100),'%')\n",
    "print('Embarked missing',data.Embarked.isnull().sum(),'   ',\n",
    "      (data.Embarked.isnull().sum())/int(data_len)*int(100),'%')\n",
    "print('Fare missing',data.Fare.isnull().sum(),'   ',\n",
    "      (data.Fare.isnull().sum())/int(data_len)*int(100),'%')"
   ]
  },
  {
   "cell_type": "code",
   "execution_count": 6,
   "metadata": {
    "execution": {
     "iopub.execute_input": "2020-08-27T22:37:25.145680Z",
     "iopub.status.busy": "2020-08-27T22:37:25.144691Z",
     "iopub.status.idle": "2020-08-27T22:37:25.149909Z",
     "shell.execute_reply": "2020-08-27T22:37:25.149278Z"
    },
    "papermill": {
     "duration": 0.034089,
     "end_time": "2020-08-27T22:37:25.150030",
     "exception": false,
     "start_time": "2020-08-27T22:37:25.115941",
     "status": "completed"
    },
    "tags": []
   },
   "outputs": [
    {
     "data": {
      "text/plain": [
       "index             0\n",
       "PassengerId       0\n",
       "Survived        418\n",
       "Pclass            0\n",
       "Name              0\n",
       "Sex               0\n",
       "Age             263\n",
       "SibSp             0\n",
       "Parch             0\n",
       "Ticket            0\n",
       "Fare              1\n",
       "Cabin          1014\n",
       "Embarked          2\n",
       "dtype: int64"
      ]
     },
     "execution_count": 6,
     "metadata": {},
     "output_type": "execute_result"
    }
   ],
   "source": [
    "data.isnull().sum()"
   ]
  },
  {
   "cell_type": "markdown",
   "execution_count": null,
   "metadata": {
    "papermill": {
     "duration": 0.018359,
     "end_time": "2020-08-27T22:37:25.186880",
     "exception": false,
     "start_time": "2020-08-27T22:37:25.168521",
     "status": "completed"
    },
    "tags": []
   },
   "source": [
    "**After loading the raw data and conducting the preliminary review of the data structure, we get some useful information like the shapes of the train and test data, the column information about the raw data, and data types of each feature. We also notice that, in combined dataset, feature 'Age' has 20.1% missing values, featue 'Cabin' has 77.46% missing values, and feature 'Embarked' has 2 missing values. Null values exist in columns like 'Cabin', 'Age', 'Fare' and 'Embarked'.** \n",
    "\n",
    "**Categorical variables are 'Sex', 'Pclass', 'Embarked', 'Cabin', 'Name', 'Ticket', 'SibSp', and 'Parch'. Numerical variables are 'Age', 'Fare', and 'PassengerId'. All the categorical and numerical variables are predictors/features, while 'Survived' is the target variable. All features may be important for predicting the target variable.**\n",
    "\n",
    "\n",
    "\n",
    "**Feature meanings:**\\\n",
    "***Sex*** -- Passenger gender \\\n",
    "***Pclass*** -- Passenger class \\\n",
    "***Embarked*** -- The port passengers embarked \\\n",
    "***Cabin*** -- Passenger cabin category \\\n",
    "***Name*** -- Passenger name \\\n",
    "***Ticket*** -- Passenger ticket information \\\n",
    "***SibSp*** -- The siblings and spouses number of the Passenger \\\n",
    "***Parch*** -- The parents and children number of the Passenger \\\n",
    "***Age*** -- Passenger age information \\\n",
    "***Fare*** -- The amount of money passenger spend on the ticket"
   ]
  },
  {
   "cell_type": "markdown",
   "execution_count": null,
   "metadata": {
    "papermill": {
     "duration": 0.018225,
     "end_time": "2020-08-27T22:37:25.223614",
     "exception": false,
     "start_time": "2020-08-27T22:37:25.205389",
     "status": "completed"
    },
    "tags": []
   },
   "source": [
    "# 2. Feature analysis\n",
    "\n",
    "Let's take a look at how the features are distributed and how the features are correlated with target variable."
   ]
  },
  {
   "cell_type": "markdown",
   "execution_count": null,
   "metadata": {
    "papermill": {
     "duration": 0.018165,
     "end_time": "2020-08-27T22:37:25.260303",
     "exception": false,
     "start_time": "2020-08-27T22:37:25.242138",
     "status": "completed"
    },
    "tags": []
   },
   "source": [
    "## 2.1 Univariate plots for Numerical variable"
   ]
  },
  {
   "cell_type": "code",
   "execution_count": 7,
   "metadata": {
    "execution": {
     "iopub.execute_input": "2020-08-27T22:37:25.306671Z",
     "iopub.status.busy": "2020-08-27T22:37:25.305938Z",
     "iopub.status.idle": "2020-08-27T22:37:27.079223Z",
     "shell.execute_reply": "2020-08-27T22:37:27.078369Z"
    },
    "papermill": {
     "duration": 1.800739,
     "end_time": "2020-08-27T22:37:27.079406",
     "exception": false,
     "start_time": "2020-08-27T22:37:25.278667",
     "status": "completed"
    },
    "tags": []
   },
   "outputs": [
    {
     "name": "stdout",
     "output_type": "stream",
     "text": [
      "skewness:  0.40767\n",
      "count    1046.000000\n",
      "mean       29.881138\n",
      "std        14.413493\n",
      "min         0.170000\n",
      "25%        21.000000\n",
      "50%        28.000000\n",
      "75%        39.000000\n",
      "max        80.000000\n",
      "Name: Age, dtype: float64\n"
     ]
    },
    {
     "data": {
      "image/png": "[encoded data removed]",
      "text/plain": [
       "<Figure size 360x360 with 1 Axes>"
      ]
     },
     "metadata": {
      "needs_background": "light"
     },
     "output_type": "display_data"
    }
   ],
   "source": [
    "import seaborn as sns\n",
    "import matplotlib.pyplot as plt\n",
    "skewness = data.Age.skew().round(5)\n",
    "print('skewness: ',skewness)\n",
    "print(data['Age'].describe())\n",
    "plt.figure(figsize=(5, 5))\n",
    "sns.distplot(data['Age'], color='r', bins=100, hist_kws={'alpha': 0.5});"
   ]
  },
  {
   "cell_type": "markdown",
   "execution_count": null,
   "metadata": {
    "papermill": {
     "duration": 0.025031,
     "end_time": "2020-08-27T22:37:27.132159",
     "exception": false,
     "start_time": "2020-08-27T22:37:27.107128",
     "status": "completed"
    },
    "tags": []
   },
   "source": [
    "**The distribution of feature 'age' is almost symmetric which is good for model prediction.**"
   ]
  },
  {
   "cell_type": "code",
   "execution_count": 8,
   "metadata": {
    "execution": {
     "iopub.execute_input": "2020-08-27T22:37:27.181237Z",
     "iopub.status.busy": "2020-08-27T22:37:27.180196Z",
     "iopub.status.idle": "2020-08-27T22:37:27.579336Z",
     "shell.execute_reply": "2020-08-27T22:37:27.578674Z"
    },
    "papermill": {
     "duration": 0.427924,
     "end_time": "2020-08-27T22:37:27.579462",
     "exception": false,
     "start_time": "2020-08-27T22:37:27.151538",
     "status": "completed"
    },
    "tags": []
   },
   "outputs": [
    {
     "name": "stdout",
     "output_type": "stream",
     "text": [
      "skewness:  4.36771\n",
      "count    1308.000000\n",
      "mean       33.295479\n",
      "std        51.758668\n",
      "min         0.000000\n",
      "25%         7.895800\n",
      "50%        14.454200\n",
      "75%        31.275000\n",
      "max       512.329200\n",
      "Name: Fare, dtype: float64\n"
     ]
    },
    {
     "data": {
      "image/png": "[encoded data removed]",
      "text/plain": [
       "<Figure size 360x360 with 1 Axes>"
      ]
     },
     "metadata": {
      "needs_background": "light"
     },
     "output_type": "display_data"
    }
   ],
   "source": [
    "skewness = data.Fare.skew().round(5)\n",
    "print('skewness: ',skewness)\n",
    "print(data['Fare'].describe())\n",
    "plt.figure(figsize=(5, 5))\n",
    "sns.distplot(data['Fare'], color='r', bins=100, hist_kws={'alpha': 0.5});"
   ]
  },
  {
   "cell_type": "markdown",
   "execution_count": null,
   "metadata": {
    "papermill": {
     "duration": 0.019296,
     "end_time": "2020-08-27T22:37:27.619366",
     "exception": false,
     "start_time": "2020-08-27T22:37:27.600070",
     "status": "completed"
    },
    "tags": []
   },
   "source": [
    "**The distribution of feature 'Fare' is clearly skewed, we need modify it to be a symmetric distribution.**\n",
    "\n",
    "refer to https://www.kaggle.com/eraaz1/a-comprehensive-guide-to-titanic-machine-learning (4.2.1) \\\n",
    "      &  https://www.kaggle.com/yassineghouzam/titanic-top-4-with-ensemble-modeling (3.1)"
   ]
  },
  {
   "cell_type": "markdown",
   "execution_count": null,
   "metadata": {
    "papermill": {
     "duration": 0.019516,
     "end_time": "2020-08-27T22:37:27.658320",
     "exception": false,
     "start_time": "2020-08-27T22:37:27.638804",
     "status": "completed"
    },
    "tags": []
   },
   "source": [
    "## 2.2 Univariate plots for Categorical variable"
   ]
  },
  {
   "cell_type": "code",
   "execution_count": 9,
   "metadata": {
    "execution": {
     "iopub.execute_input": "2020-08-27T22:37:27.717502Z",
     "iopub.status.busy": "2020-08-27T22:37:27.712263Z",
     "iopub.status.idle": "2020-08-27T22:37:28.745507Z",
     "shell.execute_reply": "2020-08-27T22:37:28.744762Z"
    },
    "papermill": {
     "duration": 1.067669,
     "end_time": "2020-08-27T22:37:28.745636",
     "exception": false,
     "start_time": "2020-08-27T22:37:27.677967",
     "status": "completed"
    },
    "tags": []
   },
   "outputs": [
    {
     "data": {
      "image/png": "[encoded data removed]",
      "text/plain": [
       "<Figure size 1080x1080 with 6 Axes>"
      ]
     },
     "metadata": {
      "needs_background": "light"
     },
     "output_type": "display_data"
    }
   ],
   "source": [
    "import matplotlib.pyplot as plt\n",
    "\n",
    "fig = plt.figure(figsize=(15,15))\n",
    "\n",
    "plt.subplot2grid((3,3),(0,0))\n",
    "train.Survived.value_counts(normalize=True).plot(kind='bar', alpha=.5)\n",
    "plt.title('Survived')\n",
    "\n",
    "plt.subplot2grid((3,3),(0,1))\n",
    "train.Pclass.value_counts(normalize=True).plot(kind='bar', alpha=.5)\n",
    "plt.title('Passenger Class')\n",
    "\n",
    "plt.subplot2grid((3,3),(0,2))\n",
    "train.SibSp.value_counts(normalize=True).plot(kind='bar', alpha=.5)\n",
    "plt.title('Siblings-Spouses')\n",
    "\n",
    "plt.subplot2grid((3,3),(1,0))\n",
    "train.Parch.value_counts(normalize=True).plot(kind='bar', alpha=.5)\n",
    "plt.title('Parents-Children')\n",
    "\n",
    "\n",
    "plt.subplot2grid((3,3),(1,1))\n",
    "train.Embarked.value_counts(normalize=True).plot(kind='bar', alpha=.5)\n",
    "plt.title('Embarked')\n",
    "\n",
    "plt.subplot2grid((3,3),(1,2))\n",
    "train.Sex.value_counts(normalize=True).plot(kind='bar', alpha=.5)\n",
    "plt.title('Sex')\n",
    "\n",
    "\n",
    "plt.show()"
   ]
  },
  {
   "cell_type": "markdown",
   "execution_count": null,
   "metadata": {
    "papermill": {
     "duration": 0.035959,
     "end_time": "2020-08-27T22:37:28.804263",
     "exception": false,
     "start_time": "2020-08-27T22:37:28.768304",
     "status": "completed"
    },
    "tags": []
   },
   "source": [
    "## 2.3 Bivariate plots"
   ]
  },
  {
   "cell_type": "code",
   "execution_count": 10,
   "metadata": {
    "execution": {
     "iopub.execute_input": "2020-08-27T22:37:28.880463Z",
     "iopub.status.busy": "2020-08-27T22:37:28.877313Z",
     "iopub.status.idle": "2020-08-27T22:37:29.722068Z",
     "shell.execute_reply": "2020-08-27T22:37:29.722846Z"
    },
    "papermill": {
     "duration": 0.884816,
     "end_time": "2020-08-27T22:37:29.723040",
     "exception": false,
     "start_time": "2020-08-27T22:37:28.838224",
     "status": "completed"
    },
    "tags": []
   },
   "outputs": [
    {
     "data": {
      "image/png": "[encoded data removed]",
      "text/plain": [
       "<Figure size 1080x720 with 4 Axes>"
      ]
     },
     "metadata": {
      "needs_background": "light"
     },
     "output_type": "display_data"
    }
   ],
   "source": [
    "fig = plt.figure(figsize=(15,10))\n",
    "\n",
    "\n",
    "plt.subplot2grid((2,3),(0,0), colspan=3)\n",
    "for x in [1,2,3]:\n",
    "    train.Age[train.Pclass == x].plot(kind='kde')\n",
    "plt.title('Age v.s. Pclass')\n",
    "plt.legend(('Class1', 'Class2','Class3'))\n",
    "\n",
    "plt.subplot2grid((2,3),(1,0))\n",
    "plt.scatter(train.Age, train.Survived, alpha=.2)\n",
    "plt.title('Age v.s. Survived')\n",
    "\n",
    "plt.subplot2grid((2,3),(1,1))\n",
    "plt.scatter(train.Fare, train.Pclass, alpha=.2)\n",
    "plt.title('Fare v.s. Pclass')\n",
    "\n",
    "plt.subplot2grid((2,3),(1,2))\n",
    "plt.scatter(train.Fare, train.Survived, alpha=.2)\n",
    "plt.title('Fare v.s. Survived')\n",
    "\n",
    "plt.show()"
   ]
  },
  {
   "cell_type": "code",
   "execution_count": 11,
   "metadata": {
    "execution": {
     "iopub.execute_input": "2020-08-27T22:37:29.783036Z",
     "iopub.status.busy": "2020-08-27T22:37:29.781969Z",
     "iopub.status.idle": "2020-08-27T22:37:29.985373Z",
     "shell.execute_reply": "2020-08-27T22:37:29.985987Z"
    },
    "papermill": {
     "duration": 0.239079,
     "end_time": "2020-08-27T22:37:29.986159",
     "exception": false,
     "start_time": "2020-08-27T22:37:29.747080",
     "status": "completed"
    },
    "tags": []
   },
   "outputs": [
    {
     "name": "stdout",
     "output_type": "stream",
     "text": [
      "Sex       female  male\n",
      "Survived              \n",
      "0             81   468\n",
      "1            233   109\n"
     ]
    },
    {
     "data": {
      "text/plain": [
       "Text(0.5, 1.0, 'Sex v.s. Survived')"
      ]
     },
     "execution_count": 11,
     "metadata": {},
     "output_type": "execute_result"
    },
    {
     "data": {
      "image/png": "[encoded data removed]",
      "text/plain": [
       "<Figure size 432x288 with 1 Axes>"
      ]
     },
     "metadata": {
      "needs_background": "light"
     },
     "output_type": "display_data"
    }
   ],
   "source": [
    "print(pd.pivot_table(train,values='PassengerId',index='Survived',\n",
    "                  columns='Sex',aggfunc='count'))\n",
    "\n",
    "Male_sur=train.Survived[train.Sex=='male'].value_counts()\n",
    "Female_sur=train.Survived[train.Sex=='female'].value_counts()\n",
    "sig_sex=pd.DataFrame({'Male':Male_sur,'Female':Female_sur})\n",
    "sig_sex.plot(kind='bar',stacked=True)\n",
    "plt.title('Sex v.s. Survived')"
   ]
  },
  {
   "cell_type": "markdown",
   "execution_count": null,
   "metadata": {
    "papermill": {
     "duration": 0.022261,
     "end_time": "2020-08-27T22:37:30.031448",
     "exception": false,
     "start_time": "2020-08-27T22:37:30.009187",
     "status": "completed"
    },
    "tags": []
   },
   "source": [
    "**Female seems to have more chance to survive(survival rate of female accounts for about 74.2%), which male is more likely to be unsurvived(survival rate is about 18.8%).**"
   ]
  },
  {
   "cell_type": "code",
   "execution_count": 12,
   "metadata": {
    "execution": {
     "iopub.execute_input": "2020-08-27T22:37:30.094682Z",
     "iopub.status.busy": "2020-08-27T22:37:30.090843Z",
     "iopub.status.idle": "2020-08-27T22:37:30.297106Z",
     "shell.execute_reply": "2020-08-27T22:37:30.296211Z"
    },
    "papermill": {
     "duration": 0.244047,
     "end_time": "2020-08-27T22:37:30.297272",
     "exception": false,
     "start_time": "2020-08-27T22:37:30.053225",
     "status": "completed"
    },
    "tags": []
   },
   "outputs": [
    {
     "name": "stdout",
     "output_type": "stream",
     "text": [
      "Pclass      1   2    3\n",
      "Survived              \n",
      "0          80  97  372\n",
      "1         136  87  119\n"
     ]
    },
    {
     "data": {
      "text/plain": [
       "Text(0.5, 1.0, 'Class v.s. Survived')"
      ]
     },
     "execution_count": 12,
     "metadata": {},
     "output_type": "execute_result"
    },
    {
     "data": {
      "image/png": "[encoded data removed]",
      "text/plain": [
       "<Figure size 432x288 with 1 Axes>"
      ]
     },
     "metadata": {
      "needs_background": "light"
     },
     "output_type": "display_data"
    }
   ],
   "source": [
    "print(pd.pivot_table(train,values='PassengerId',index='Survived',\n",
    "                  columns='Pclass',aggfunc='count'))\n",
    "\n",
    "C1_sur=train.Survived[train.Pclass==1].value_counts()\n",
    "C2_sur=train.Survived[train.Pclass==2].value_counts()\n",
    "C3_sur=train.Survived[train.Pclass==3].value_counts()\n",
    "sig_class=pd.DataFrame({'Class 1':C1_sur,'Class 2':C2_sur,'Class 3':C3_sur})\n",
    "sig_class.plot(kind='bar',stacked=True)\n",
    "plt.title('Class v.s. Survived')"
   ]
  },
  {
   "cell_type": "markdown",
   "execution_count": null,
   "metadata": {
    "papermill": {
     "duration": 0.021906,
     "end_time": "2020-08-27T22:37:30.349115",
     "exception": false,
     "start_time": "2020-08-27T22:37:30.327209",
     "status": "completed"
    },
    "tags": []
   },
   "source": [
    "**Survival rate of class 1 is higher than class 2, and survival rate of class 2 is higher than class 3.**"
   ]
  },
  {
   "cell_type": "markdown",
   "execution_count": null,
   "metadata": {
    "papermill": {
     "duration": 0.021263,
     "end_time": "2020-08-27T22:37:30.392025",
     "exception": false,
     "start_time": "2020-08-27T22:37:30.370762",
     "status": "completed"
    },
    "tags": []
   },
   "source": [
    "## 2.4 Multivariate plots"
   ]
  },
  {
   "cell_type": "code",
   "execution_count": 13,
   "metadata": {
    "execution": {
     "iopub.execute_input": "2020-08-27T22:37:30.462667Z",
     "iopub.status.busy": "2020-08-27T22:37:30.461512Z",
     "iopub.status.idle": "2020-08-27T22:37:31.233152Z",
     "shell.execute_reply": "2020-08-27T22:37:31.232519Z"
    },
    "papermill": {
     "duration": 0.819799,
     "end_time": "2020-08-27T22:37:31.233273",
     "exception": false,
     "start_time": "2020-08-27T22:37:30.413474",
     "status": "completed"
    },
    "tags": []
   },
   "outputs": [
    {
     "name": "stdout",
     "output_type": "stream",
     "text": [
      "Pclass            1   2    3\n",
      "Sex    Survived             \n",
      "female 0          3   6   72\n",
      "       1         91  70   72\n",
      "male   0         77  91  300\n",
      "       1         45  17   47\n"
     ]
    },
    {
     "data": {
      "text/plain": [
       "Text(0.5, 1.0, 'Unsurvived Male v.s. Unsurvived Female')"
      ]
     },
     "execution_count": 13,
     "metadata": {},
     "output_type": "execute_result"
    },
    {
     "data": {
      "image/png": "[encoded data removed]",
      "text/plain": [
       "<Figure size 720x720 with 6 Axes>"
      ]
     },
     "metadata": {
      "needs_background": "light"
     },
     "output_type": "display_data"
    }
   ],
   "source": [
    "print(pd.pivot_table(train,values='PassengerId',index=['Sex','Survived'],\n",
    "                  columns='Pclass',aggfunc='count'))\n",
    "\n",
    "\n",
    "C12_m_sur=train.Survived[train.Pclass!=3][train.Sex=='male'].value_counts()\n",
    "C3_m_sur=train.Survived[train.Pclass==3][train.Sex=='male'].value_counts()\n",
    "C12_f_sur=train.Survived[train.Pclass!=3][train.Sex=='female'].value_counts()\n",
    "C3_f_sur=train.Survived[train.Pclass==3][train.Sex=='female'].value_counts()\n",
    "\n",
    "fig = plt.figure(figsize=(10,10))\n",
    "plt.subplot2grid((3,2),(0,0))\n",
    "train.Survived[train.Pclass==3][train.Sex=='male'].value_counts().plot(kind='bar',color='blue')\n",
    "plt.title('Poor Male v.s. Survived')\n",
    "\n",
    "plt.subplot2grid((3,2),(0,1))\n",
    "train.Survived[train.Pclass!=3][train.Sex=='male'].value_counts().plot(kind='bar',color='blue')\n",
    "plt.title('Rich Male v.s. Survived')\n",
    "\n",
    "plt.subplot2grid((3,2),(1,0))\n",
    "train.Survived[train.Pclass==3][train.Sex=='female'].value_counts().plot(kind='bar',color='red')\n",
    "plt.title('Poor Female v.s. Survived')\n",
    "\n",
    "plt.subplot2grid((3,2),(1,1))\n",
    "train.Survived[train.Pclass!=3][train.Sex=='female'].value_counts().plot(kind='bar',color='red')\n",
    "plt.title('Rich Female v.s. Survived')\n",
    "\n",
    "plt.subplot2grid((3,2),(2,0))\n",
    "train.Sex[train.Survived==1].value_counts().plot(kind='bar', color=['blue', 'red'])\n",
    "plt.title('Survived Male v.s. Survived Female')\n",
    "\n",
    "plt.subplot2grid((3,2),(2,1))\n",
    "train.Sex[train.Survived==0].value_counts().plot(kind='bar', color=['blue', 'red'])\n",
    "plt.title('Unsurvived Male v.s. Unsurvived Female')"
   ]
  },
  {
   "cell_type": "markdown",
   "execution_count": null,
   "metadata": {
    "papermill": {
     "duration": 0.022714,
     "end_time": "2020-08-27T22:37:31.280808",
     "exception": false,
     "start_time": "2020-08-27T22:37:31.258094",
     "status": "completed"
    },
    "tags": []
   },
   "source": [
    "**These plots show that males have low chance of being saved compared to females.** \\\n",
    "**However rich males have slightly more chance to survive.** \\\n",
    "**The female survived-unsurvived rate is way too high than that of male.** \\\n",
    "**Rich females are almost all rescued.** \n",
    "\n",
    "**From these plots we may find that gender and class have significant effects on the target variable, especially for feature 'Sex'.**"
   ]
  },
  {
   "cell_type": "code",
   "execution_count": 14,
   "metadata": {
    "execution": {
     "iopub.execute_input": "2020-08-27T22:37:31.339267Z",
     "iopub.status.busy": "2020-08-27T22:37:31.336689Z",
     "iopub.status.idle": "2020-08-27T22:37:31.618143Z",
     "shell.execute_reply": "2020-08-27T22:37:31.618775Z"
    },
    "papermill": {
     "duration": 0.316046,
     "end_time": "2020-08-27T22:37:31.618929",
     "exception": false,
     "start_time": "2020-08-27T22:37:31.302883",
     "status": "completed"
    },
    "tags": []
   },
   "outputs": [
    {
     "data": {
      "text/plain": [
       "<matplotlib.axes._subplots.AxesSubplot at 0x7f128f5f9e10>"
      ]
     },
     "execution_count": 14,
     "metadata": {},
     "output_type": "execute_result"
    },
    {
     "data": {
      "image/png": "[encoded data removed]",
      "text/plain": [
       "<Figure size 576x576 with 2 Axes>"
      ]
     },
     "metadata": {
      "needs_background": "light"
     },
     "output_type": "display_data"
    }
   ],
   "source": [
    "dfc = train.copy()\n",
    "dfc = dfc.drop(['PassengerId','Survived'], axis=1)\n",
    "corr = dfc.corr()\n",
    "plt.figure(figsize=(8, 8))\n",
    "sns.heatmap(corr[(corr >= 0.16) | (corr <= -0.16)],cmap='viridis',vmax=1.0,vmin=-1.0,linewidths=0.1,annot=True, annot_kws={\"size\": 10}, square=True)"
   ]
  },
  {
   "cell_type": "markdown",
   "execution_count": null,
   "metadata": {
    "papermill": {
     "duration": 0.022204,
     "end_time": "2020-08-27T22:37:31.664353",
     "exception": false,
     "start_time": "2020-08-27T22:37:31.642149",
     "status": "completed"
    },
    "tags": []
   },
   "source": [
    "**Note that feature 'Pclass', 'SibSp', and 'Parch' have no missing values, and they have a relatively strong correlation with feature 'Age' and 'Fare'. If one feature has a large number of missing values (like Age), the distribution of the missing value may differ by group and category that this feature correlated.**"
   ]
  },
  {
   "cell_type": "markdown",
   "execution_count": null,
   "metadata": {
    "papermill": {
     "duration": 0.021822,
     "end_time": "2020-08-27T22:37:31.708415",
     "exception": false,
     "start_time": "2020-08-27T22:37:31.686593",
     "status": "completed"
    },
    "tags": []
   },
   "source": [
    "# 3. Data preparation and filling missing values"
   ]
  },
  {
   "cell_type": "markdown",
   "execution_count": null,
   "metadata": {
    "papermill": {
     "duration": 0.021918,
     "end_time": "2020-08-27T22:37:31.752498",
     "exception": false,
     "start_time": "2020-08-27T22:37:31.730580",
     "status": "completed"
    },
    "tags": []
   },
   "source": [
    "## 3.1 Data preparation"
   ]
  },
  {
   "cell_type": "code",
   "execution_count": 15,
   "metadata": {
    "execution": {
     "iopub.execute_input": "2020-08-27T22:37:31.830425Z",
     "iopub.status.busy": "2020-08-27T22:37:31.829357Z",
     "iopub.status.idle": "2020-08-27T22:37:31.835205Z",
     "shell.execute_reply": "2020-08-27T22:37:31.835995Z"
    },
    "papermill": {
     "duration": 0.061221,
     "end_time": "2020-08-27T22:37:31.836220",
     "exception": false,
     "start_time": "2020-08-27T22:37:31.774999",
     "status": "completed"
    },
    "tags": []
   },
   "outputs": [
    {
     "name": "stdout",
     "output_type": "stream",
     "text": [
      "(1309, 10)\n"
     ]
    },
    {
     "data": {
      "text/html": [
       "<div>\n",
       "<style scoped>\n",
       "    .dataframe tbody tr th:only-of-type {\n",
       "        vertical-align: middle;\n",
       "    }\n",
       "\n",
       "    .dataframe tbody tr th {\n",
       "        vertical-align: top;\n",
       "    }\n",
       "\n",
       "    .dataframe thead th {\n",
       "        text-align: right;\n",
       "    }\n",
       "</style>\n",
       "<table border=\"1\" class=\"dataframe\">\n",
       "  <thead>\n",
       "    <tr style=\"text-align: right;\">\n",
       "      <th></th>\n",
       "      <th>Pclass</th>\n",
       "      <th>Name</th>\n",
       "      <th>Sex</th>\n",
       "      <th>Age</th>\n",
       "      <th>SibSp</th>\n",
       "      <th>Parch</th>\n",
       "      <th>Ticket</th>\n",
       "      <th>Fare</th>\n",
       "      <th>Cabin</th>\n",
       "      <th>Embarked</th>\n",
       "    </tr>\n",
       "  </thead>\n",
       "  <tbody>\n",
       "    <tr>\n",
       "      <th>0</th>\n",
       "      <td>3</td>\n",
       "      <td>Braund, Mr. Owen Harris</td>\n",
       "      <td>male</td>\n",
       "      <td>22.0</td>\n",
       "      <td>1</td>\n",
       "      <td>0</td>\n",
       "      <td>A/5 21171</td>\n",
       "      <td>7.2500</td>\n",
       "      <td>NaN</td>\n",
       "      <td>S</td>\n",
       "    </tr>\n",
       "    <tr>\n",
       "      <th>1</th>\n",
       "      <td>1</td>\n",
       "      <td>Cumings, Mrs. John Bradley (Florence Briggs Th...</td>\n",
       "      <td>female</td>\n",
       "      <td>38.0</td>\n",
       "      <td>1</td>\n",
       "      <td>0</td>\n",
       "      <td>PC 17599</td>\n",
       "      <td>71.2833</td>\n",
       "      <td>C85</td>\n",
       "      <td>C</td>\n",
       "    </tr>\n",
       "    <tr>\n",
       "      <th>2</th>\n",
       "      <td>3</td>\n",
       "      <td>Heikkinen, Miss. Laina</td>\n",
       "      <td>female</td>\n",
       "      <td>26.0</td>\n",
       "      <td>0</td>\n",
       "      <td>0</td>\n",
       "      <td>STON/O2. 3101282</td>\n",
       "      <td>7.9250</td>\n",
       "      <td>NaN</td>\n",
       "      <td>S</td>\n",
       "    </tr>\n",
       "    <tr>\n",
       "      <th>3</th>\n",
       "      <td>1</td>\n",
       "      <td>Futrelle, Mrs. Jacques Heath (Lily May Peel)</td>\n",
       "      <td>female</td>\n",
       "      <td>35.0</td>\n",
       "      <td>1</td>\n",
       "      <td>0</td>\n",
       "      <td>113803</td>\n",
       "      <td>53.1000</td>\n",
       "      <td>C123</td>\n",
       "      <td>S</td>\n",
       "    </tr>\n",
       "    <tr>\n",
       "      <th>4</th>\n",
       "      <td>3</td>\n",
       "      <td>Allen, Mr. William Henry</td>\n",
       "      <td>male</td>\n",
       "      <td>35.0</td>\n",
       "      <td>0</td>\n",
       "      <td>0</td>\n",
       "      <td>373450</td>\n",
       "      <td>8.0500</td>\n",
       "      <td>NaN</td>\n",
       "      <td>S</td>\n",
       "    </tr>\n",
       "  </tbody>\n",
       "</table>\n",
       "</div>"
      ],
      "text/plain": [
       "   Pclass                                               Name     Sex   Age  \\\n",
       "0       3                            Braund, Mr. Owen Harris    male  22.0   \n",
       "1       1  Cumings, Mrs. John Bradley (Florence Briggs Th...  female  38.0   \n",
       "2       3                             Heikkinen, Miss. Laina  female  26.0   \n",
       "3       1       Futrelle, Mrs. Jacques Heath (Lily May Peel)  female  35.0   \n",
       "4       3                           Allen, Mr. William Henry    male  35.0   \n",
       "\n",
       "   SibSp  Parch            Ticket     Fare Cabin Embarked  \n",
       "0      1      0         A/5 21171   7.2500   NaN        S  \n",
       "1      1      0          PC 17599  71.2833   C85        C  \n",
       "2      0      0  STON/O2. 3101282   7.9250   NaN        S  \n",
       "3      1      0            113803  53.1000  C123        S  \n",
       "4      0      0            373450   8.0500   NaN        S  "
      ]
     },
     "execution_count": 15,
     "metadata": {},
     "output_type": "execute_result"
    }
   ],
   "source": [
    "y_train = train.Survived\n",
    "X_train = train.drop(['PassengerId','Survived'], axis=1)\n",
    "\n",
    "X_test = test.drop(['PassengerId'], axis=1)\n",
    "\n",
    "alldata = X_train.append(X_test)\n",
    "print(alldata.shape)\n",
    "alldata.head()"
   ]
  },
  {
   "cell_type": "markdown",
   "execution_count": null,
   "metadata": {
    "papermill": {
     "duration": 0.033092,
     "end_time": "2020-08-27T22:37:31.904314",
     "exception": false,
     "start_time": "2020-08-27T22:37:31.871222",
     "status": "completed"
    },
    "tags": []
   },
   "source": [
    "## 3.2 Filling missing values"
   ]
  },
  {
   "cell_type": "code",
   "execution_count": 16,
   "metadata": {
    "execution": {
     "iopub.execute_input": "2020-08-27T22:37:31.971101Z",
     "iopub.status.busy": "2020-08-27T22:37:31.970058Z",
     "iopub.status.idle": "2020-08-27T22:37:31.973180Z",
     "shell.execute_reply": "2020-08-27T22:37:31.972177Z"
    },
    "papermill": {
     "duration": 0.039621,
     "end_time": "2020-08-27T22:37:31.973351",
     "exception": false,
     "start_time": "2020-08-27T22:37:31.933730",
     "status": "completed"
    },
    "tags": []
   },
   "outputs": [],
   "source": [
    "alldata.Embarked.fillna('S', inplace=True) # replace with the most frequent one. Use train.Embarked.value_counts()\n",
    "alldata['Fare'] = alldata['Fare'].fillna(alldata['Fare'].median()) \n",
    "alldata['Fare'] = alldata.Fare.map(lambda x: np.log(x) if x>0 else 0)"
   ]
  },
  {
   "cell_type": "code",
   "execution_count": 17,
   "metadata": {
    "execution": {
     "iopub.execute_input": "2020-08-27T22:37:32.057926Z",
     "iopub.status.busy": "2020-08-27T22:37:32.039875Z",
     "iopub.status.idle": "2020-08-27T22:37:32.540956Z",
     "shell.execute_reply": "2020-08-27T22:37:32.540325Z"
    },
    "papermill": {
     "duration": 0.53398,
     "end_time": "2020-08-27T22:37:32.541080",
     "exception": false,
     "start_time": "2020-08-27T22:37:32.007100",
     "status": "completed"
    },
    "tags": []
   },
   "outputs": [
    {
     "name": "stdout",
     "output_type": "stream",
     "text": [
      "skewness:  0.56943\n",
      "count    1309.000000\n",
      "mean        2.910408\n",
      "std         1.003886\n",
      "min         0.000000\n",
      "25%         2.066331\n",
      "50%         2.670985\n",
      "75%         3.442819\n",
      "max         6.238967\n",
      "Name: Fare, dtype: float64\n"
     ]
    },
    {
     "data": {
      "image/png": "[encoded data removed]",
      "text/plain": [
       "<Figure size 360x360 with 1 Axes>"
      ]
     },
     "metadata": {
      "needs_background": "light"
     },
     "output_type": "display_data"
    }
   ],
   "source": [
    "skewness = alldata.Fare.skew().round(5)\n",
    "print('skewness: ',skewness)\n",
    "print(alldata['Fare'].describe())\n",
    "plt.figure(figsize=(5, 5))\n",
    "sns.distplot(alldata['Fare'], color='r', bins=100, hist_kws={'alpha': 0.5});"
   ]
  },
  {
   "cell_type": "markdown",
   "execution_count": null,
   "metadata": {
    "papermill": {
     "duration": 0.023678,
     "end_time": "2020-08-27T22:37:32.588778",
     "exception": false,
     "start_time": "2020-08-27T22:37:32.565100",
     "status": "completed"
    },
    "tags": []
   },
   "source": [
    "# 4. Feature engineering"
   ]
  },
  {
   "cell_type": "markdown",
   "execution_count": null,
   "metadata": {
    "papermill": {
     "duration": 0.023101,
     "end_time": "2020-08-27T22:37:32.635246",
     "exception": false,
     "start_time": "2020-08-27T22:37:32.612145",
     "status": "completed"
    },
    "tags": []
   },
   "source": [
    "## 4.1 Cabin"
   ]
  },
  {
   "cell_type": "code",
   "execution_count": 18,
   "metadata": {
    "execution": {
     "iopub.execute_input": "2020-08-27T22:37:32.704224Z",
     "iopub.status.busy": "2020-08-27T22:37:32.701555Z",
     "iopub.status.idle": "2020-08-27T22:37:34.521580Z",
     "shell.execute_reply": "2020-08-27T22:37:34.522143Z"
    },
    "papermill": {
     "duration": 1.863873,
     "end_time": "2020-08-27T22:37:34.522314",
     "exception": false,
     "start_time": "2020-08-27T22:37:32.658441",
     "status": "completed"
    },
    "tags": []
   },
   "outputs": [
    {
     "data": {
      "text/plain": [
       "<matplotlib.axes._subplots.AxesSubplot at 0x7f128f4dbe90>"
      ]
     },
     "execution_count": 18,
     "metadata": {},
     "output_type": "execute_result"
    },
    {
     "data": {
      "image/png": "[encoded data removed]",
      "text/plain": [
       "<Figure size 432x288 with 1 Axes>"
      ]
     },
     "metadata": {
      "needs_background": "light"
     },
     "output_type": "display_data"
    }
   ],
   "source": [
    "alldata.Cabin.value_counts(normalize=True).plot(kind='bar', alpha=.5)"
   ]
  },
  {
   "cell_type": "code",
   "execution_count": 19,
   "metadata": {
    "execution": {
     "iopub.execute_input": "2020-08-27T22:37:34.619535Z",
     "iopub.status.busy": "2020-08-27T22:37:34.618640Z",
     "iopub.status.idle": "2020-08-27T22:37:34.622757Z",
     "shell.execute_reply": "2020-08-27T22:37:34.622091Z"
    },
    "papermill": {
     "duration": 0.035671,
     "end_time": "2020-08-27T22:37:34.622895",
     "exception": false,
     "start_time": "2020-08-27T22:37:34.587224",
     "status": "completed"
    },
    "tags": []
   },
   "outputs": [],
   "source": [
    "alldata[\"Cabin\"] = pd.Series(['N' if pd.isnull(i) else i[0] for i in alldata['Cabin'] ])"
   ]
  },
  {
   "cell_type": "code",
   "execution_count": 20,
   "metadata": {
    "execution": {
     "iopub.execute_input": "2020-08-27T22:37:34.684907Z",
     "iopub.status.busy": "2020-08-27T22:37:34.680565Z",
     "iopub.status.idle": "2020-08-27T22:37:34.843843Z",
     "shell.execute_reply": "2020-08-27T22:37:34.843262Z"
    },
    "papermill": {
     "duration": 0.197189,
     "end_time": "2020-08-27T22:37:34.843969",
     "exception": false,
     "start_time": "2020-08-27T22:37:34.646780",
     "status": "completed"
    },
    "tags": []
   },
   "outputs": [
    {
     "data": {
      "text/plain": [
       "<matplotlib.axes._subplots.AxesSubplot at 0x7f128f486cd0>"
      ]
     },
     "execution_count": 20,
     "metadata": {},
     "output_type": "execute_result"
    },
    {
     "data": {
      "image/png": "[encoded data removed]",
      "text/plain": [
       "<Figure size 432x288 with 1 Axes>"
      ]
     },
     "metadata": {
      "needs_background": "light"
     },
     "output_type": "display_data"
    }
   ],
   "source": [
    "alldata.Cabin.value_counts(normalize=True).plot(kind='bar', alpha=.5)"
   ]
  },
  {
   "cell_type": "code",
   "execution_count": 21,
   "metadata": {
    "execution": {
     "iopub.execute_input": "2020-08-27T22:37:34.908920Z",
     "iopub.status.busy": "2020-08-27T22:37:34.907661Z",
     "iopub.status.idle": "2020-08-27T22:37:35.058276Z",
     "shell.execute_reply": "2020-08-27T22:37:35.057498Z"
    },
    "papermill": {
     "duration": 0.190073,
     "end_time": "2020-08-27T22:37:35.058431",
     "exception": false,
     "start_time": "2020-08-27T22:37:34.868358",
     "status": "completed"
    },
    "tags": []
   },
   "outputs": [
    {
     "data": {
      "text/plain": [
       "<matplotlib.axes._subplots.AxesSubplot at 0x7f128f445cd0>"
      ]
     },
     "execution_count": 21,
     "metadata": {},
     "output_type": "execute_result"
    },
    {
     "data": {
      "image/png": "[encoded data removed]",
      "text/plain": [
       "<Figure size 432x288 with 1 Axes>"
      ]
     },
     "metadata": {
      "needs_background": "light"
     },
     "output_type": "display_data"
    }
   ],
   "source": [
    "alldata.Cabin[alldata.Pclass==1].value_counts().plot(kind='bar',color='blue')"
   ]
  },
  {
   "cell_type": "code",
   "execution_count": 22,
   "metadata": {
    "execution": {
     "iopub.execute_input": "2020-08-27T22:37:35.125857Z",
     "iopub.status.busy": "2020-08-27T22:37:35.124318Z",
     "iopub.status.idle": "2020-08-27T22:37:35.259123Z",
     "shell.execute_reply": "2020-08-27T22:37:35.258504Z"
    },
    "papermill": {
     "duration": 0.175888,
     "end_time": "2020-08-27T22:37:35.259248",
     "exception": false,
     "start_time": "2020-08-27T22:37:35.083360",
     "status": "completed"
    },
    "tags": []
   },
   "outputs": [
    {
     "data": {
      "text/plain": [
       "<matplotlib.axes._subplots.AxesSubplot at 0x7f128f373290>"
      ]
     },
     "execution_count": 22,
     "metadata": {},
     "output_type": "execute_result"
    },
    {
     "data": {
      "image/png": "[encoded data removed]",
      "text/plain": [
       "<Figure size 432x288 with 1 Axes>"
      ]
     },
     "metadata": {
      "needs_background": "light"
     },
     "output_type": "display_data"
    }
   ],
   "source": [
    "alldata.Cabin[alldata.Pclass==2].value_counts().plot(kind='bar',color='blue')"
   ]
  },
  {
   "cell_type": "code",
   "execution_count": 23,
   "metadata": {
    "execution": {
     "iopub.execute_input": "2020-08-27T22:37:35.327678Z",
     "iopub.status.busy": "2020-08-27T22:37:35.326991Z",
     "iopub.status.idle": "2020-08-27T22:37:35.477255Z",
     "shell.execute_reply": "2020-08-27T22:37:35.476541Z"
    },
    "papermill": {
     "duration": 0.193044,
     "end_time": "2020-08-27T22:37:35.477417",
     "exception": false,
     "start_time": "2020-08-27T22:37:35.284373",
     "status": "completed"
    },
    "tags": []
   },
   "outputs": [
    {
     "data": {
      "text/plain": [
       "<matplotlib.axes._subplots.AxesSubplot at 0x7f128f2ed390>"
      ]
     },
     "execution_count": 23,
     "metadata": {},
     "output_type": "execute_result"
    },
    {
     "data": {
      "image/png": "[encoded data removed]",
      "text/plain": [
       "<Figure size 432x288 with 1 Axes>"
      ]
     },
     "metadata": {
      "needs_background": "light"
     },
     "output_type": "display_data"
    }
   ],
   "source": [
    "alldata.Cabin[alldata.Pclass==3].value_counts().plot(kind='bar',color='blue')"
   ]
  },
  {
   "cell_type": "code",
   "execution_count": 24,
   "metadata": {
    "execution": {
     "iopub.execute_input": "2020-08-27T22:37:35.545073Z",
     "iopub.status.busy": "2020-08-27T22:37:35.544280Z",
     "iopub.status.idle": "2020-08-27T22:37:35.936620Z",
     "shell.execute_reply": "2020-08-27T22:37:35.935842Z"
    },
    "papermill": {
     "duration": 0.432961,
     "end_time": "2020-08-27T22:37:35.936766",
     "exception": false,
     "start_time": "2020-08-27T22:37:35.503805",
     "status": "completed"
    },
    "tags": []
   },
   "outputs": [
    {
     "name": "stderr",
     "output_type": "stream",
     "text": [
      "/opt/conda/lib/python3.7/site-packages/pandas/core/indexing.py:671: SettingWithCopyWarning: \n",
      "A value is trying to be set on a copy of a slice from a DataFrame\n",
      "\n",
      "See the caveats in the documentation: https://pandas.pydata.org/pandas-docs/stable/user_guide/indexing.html#returning-a-view-versus-a-copy\n",
      "  self._setitem_with_indexer(indexer, value)\n"
     ]
    }
   ],
   "source": [
    "Cabin_row = []\n",
    "Cabin_row = alldata['Cabin'].index\n",
    "# replace nan cabin with class median data.groupby('Pclass').Cabin.value_counts()\n",
    "\n",
    "for i in Cabin_row:\n",
    "    if ((alldata['Cabin'].iloc[i] == 'N') & (alldata['Pclass'].iloc[i] == 1)):\n",
    "        alldata['Cabin'].iloc[i] = 'C'\n",
    "    elif ((alldata['Cabin'].iloc[i] == 'N') & (alldata['Pclass'].iloc[i] == 2)):\n",
    "        alldata['Cabin'].iloc[i] = 'F'\n",
    "    elif ((alldata['Cabin'].iloc[i] == 'N') & (alldata['Pclass'].iloc[i] == 3)):\n",
    "        alldata['Cabin'].iloc[i] = 'C'\n",
    "    elif (alldata['Cabin'].iloc[i] == 'T'):\n",
    "        alldata['Cabin'].iloc[i] = 'C'\n",
    "    else:\n",
    "        alldata['Cabin'].iloc[i] = alldata['Cabin'].iloc[i]"
   ]
  },
  {
   "cell_type": "code",
   "execution_count": 25,
   "metadata": {
    "execution": {
     "iopub.execute_input": "2020-08-27T22:37:36.003830Z",
     "iopub.status.busy": "2020-08-27T22:37:35.998879Z",
     "iopub.status.idle": "2020-08-27T22:37:36.149301Z",
     "shell.execute_reply": "2020-08-27T22:37:36.149921Z"
    },
    "papermill": {
     "duration": 0.187533,
     "end_time": "2020-08-27T22:37:36.150090",
     "exception": false,
     "start_time": "2020-08-27T22:37:35.962557",
     "status": "completed"
    },
    "tags": []
   },
   "outputs": [
    {
     "data": {
      "text/plain": [
       "<matplotlib.axes._subplots.AxesSubplot at 0x7f128f3b3810>"
      ]
     },
     "execution_count": 25,
     "metadata": {},
     "output_type": "execute_result"
    },
    {
     "data": {
      "image/png": "[encoded data removed]",
      "text/plain": [
       "<Figure size 432x288 with 1 Axes>"
      ]
     },
     "metadata": {
      "needs_background": "light"
     },
     "output_type": "display_data"
    }
   ],
   "source": [
    "alldata.Cabin.value_counts(normalize=True).plot(kind='bar', alpha=.5)"
   ]
  },
  {
   "cell_type": "markdown",
   "execution_count": null,
   "metadata": {
    "papermill": {
     "duration": 0.025471,
     "end_time": "2020-08-27T22:37:36.201935",
     "exception": false,
     "start_time": "2020-08-27T22:37:36.176464",
     "status": "completed"
    },
    "tags": []
   },
   "source": [
    "We rename missing values with 'N', and fill missing values considering the distribution of feature 'Pclass'."
   ]
  },
  {
   "cell_type": "markdown",
   "execution_count": null,
   "metadata": {
    "papermill": {
     "duration": 0.025654,
     "end_time": "2020-08-27T22:37:36.253299",
     "exception": false,
     "start_time": "2020-08-27T22:37:36.227645",
     "status": "completed"
    },
    "tags": []
   },
   "source": [
    "## 4.2 Name"
   ]
  },
  {
   "cell_type": "code",
   "execution_count": 26,
   "metadata": {
    "execution": {
     "iopub.execute_input": "2020-08-27T22:37:36.315976Z",
     "iopub.status.busy": "2020-08-27T22:37:36.314933Z",
     "iopub.status.idle": "2020-08-27T22:37:36.318375Z",
     "shell.execute_reply": "2020-08-27T22:37:36.318962Z"
    },
    "papermill": {
     "duration": 0.039984,
     "end_time": "2020-08-27T22:37:36.319154",
     "exception": false,
     "start_time": "2020-08-27T22:37:36.279170",
     "status": "completed"
    },
    "tags": []
   },
   "outputs": [
    {
     "name": "stdout",
     "output_type": "stream",
     "text": [
      "{'Rev', 'Mme', 'Mlle', 'Major', 'Mr', 'Capt', 'Miss', 'Sir', 'Dona', 'the Countess', 'Col', 'Don', 'Dr', 'Ms', 'Lady', 'Mrs', 'Jonkheer', 'Master'}\n"
     ]
    }
   ],
   "source": [
    "names = set() # adds a given element to a set if the element is not present in the set\n",
    "for name in alldata['Name']:\n",
    "    names.add(name.split(',')[1].split('.')[0].strip())\n",
    "print(names)"
   ]
  },
  {
   "cell_type": "code",
   "execution_count": 27,
   "metadata": {
    "execution": {
     "iopub.execute_input": "2020-08-27T22:37:36.395407Z",
     "iopub.status.busy": "2020-08-27T22:37:36.385570Z",
     "iopub.status.idle": "2020-08-27T22:37:36.637576Z",
     "shell.execute_reply": "2020-08-27T22:37:36.636912Z"
    },
    "papermill": {
     "duration": 0.292074,
     "end_time": "2020-08-27T22:37:36.637704",
     "exception": false,
     "start_time": "2020-08-27T22:37:36.345630",
     "status": "completed"
    },
    "tags": []
   },
   "outputs": [
    {
     "data": {
      "image/png": "[encoded data removed]",
      "text/plain": [
       "<Figure size 432x288 with 1 Axes>"
      ]
     },
     "metadata": {
      "needs_background": "light"
     },
     "output_type": "display_data"
    }
   ],
   "source": [
    "alldata['Title'] = alldata['Name'].map(lambda x:x.split(',')[1].split('.')[0].strip())\n",
    "alldata['Title'] = alldata['Title'].replace(['Lady','Sir','Dr','Rev','Col','Major','Dona','Jonkheer','the Countess','Don','Capt'], 'Specialist')\n",
    "alldata['Title'] = alldata['Title'].replace('Ms','Miss')\n",
    "alldata['Title'] = alldata['Title'].replace('Mlle','Miss')\n",
    "alldata['Title'] = alldata['Title'].replace('Mme','Mrs')\n",
    "alldata.Title.value_counts().plot(kind='bar')\n",
    "alldata = alldata.drop('Name',axis=1)"
   ]
  },
  {
   "cell_type": "markdown",
   "execution_count": null,
   "metadata": {
    "papermill": {
     "duration": 0.025857,
     "end_time": "2020-08-27T22:37:36.689799",
     "exception": false,
     "start_time": "2020-08-27T22:37:36.663942",
     "status": "completed"
    },
    "tags": []
   },
   "source": [
    "Create new feature 'Titile' to collect the same title in each customer name. We group them in 5 categories."
   ]
  },
  {
   "cell_type": "markdown",
   "execution_count": null,
   "metadata": {
    "papermill": {
     "duration": 0.025746,
     "end_time": "2020-08-27T22:37:36.741616",
     "exception": false,
     "start_time": "2020-08-27T22:37:36.715870",
     "status": "completed"
    },
    "tags": []
   },
   "source": [
    "## 4.3 Ticket"
   ]
  },
  {
   "cell_type": "code",
   "execution_count": 28,
   "metadata": {
    "execution": {
     "iopub.execute_input": "2020-08-27T22:37:36.808500Z",
     "iopub.status.busy": "2020-08-27T22:37:36.805326Z",
     "iopub.status.idle": "2020-08-27T22:37:37.102275Z",
     "shell.execute_reply": "2020-08-27T22:37:37.101503Z"
    },
    "papermill": {
     "duration": 0.334984,
     "end_time": "2020-08-27T22:37:37.102406",
     "exception": false,
     "start_time": "2020-08-27T22:37:36.767422",
     "status": "completed"
    },
    "tags": []
   },
   "outputs": [],
   "source": [
    "alldata[\"Ticket\"] = pd.Series(['N' if i.isdigit() else i.replace(\".\",\"\").replace(\"/\",\"\").strip().split(' ')[0] for i in alldata['Ticket'] ])\n",
    "Ticket_row = []\n",
    "Ticket_row = alldata['Ticket'].index\n",
    "\n",
    "for i in Ticket_row:\n",
    "    if ((alldata['Ticket'].iloc[i] != 'N') & (alldata['Ticket'].iloc[i] != 'PC') & (alldata['Ticket'].iloc[i] != 'CA')):\n",
    "        alldata['Ticket'].iloc[i] = 'Rare'\n",
    "    else:\n",
    "        alldata['Ticket'].iloc[i] = alldata['Ticket'].iloc[i]"
   ]
  },
  {
   "cell_type": "markdown",
   "execution_count": null,
   "metadata": {
    "papermill": {
     "duration": 0.025729,
     "end_time": "2020-08-27T22:37:37.155049",
     "exception": false,
     "start_time": "2020-08-27T22:37:37.129320",
     "status": "completed"
    },
    "tags": []
   },
   "source": [
    "## 4.4 Age"
   ]
  },
  {
   "cell_type": "code",
   "execution_count": 29,
   "metadata": {
    "execution": {
     "iopub.execute_input": "2020-08-27T22:37:37.213111Z",
     "iopub.status.busy": "2020-08-27T22:37:37.212343Z",
     "iopub.status.idle": "2020-08-27T22:37:37.221122Z",
     "shell.execute_reply": "2020-08-27T22:37:37.220384Z"
    },
    "papermill": {
     "duration": 0.040244,
     "end_time": "2020-08-27T22:37:37.221242",
     "exception": false,
     "start_time": "2020-08-27T22:37:37.180998",
     "status": "completed"
    },
    "tags": []
   },
   "outputs": [
    {
     "data": {
      "text/plain": [
       "Title\n",
       "Master         4.0\n",
       "Miss          22.0\n",
       "Mr            29.0\n",
       "Mrs           35.0\n",
       "Specialist    47.5\n",
       "Name: Age, dtype: float64"
      ]
     },
     "execution_count": 29,
     "metadata": {},
     "output_type": "execute_result"
    }
   ],
   "source": [
    "alldata.groupby('Title').Age.median()"
   ]
  },
  {
   "cell_type": "markdown",
   "execution_count": null,
   "metadata": {
    "papermill": {
     "duration": 0.026171,
     "end_time": "2020-08-27T22:37:37.273789",
     "exception": false,
     "start_time": "2020-08-27T22:37:37.247618",
     "status": "completed"
    },
    "tags": []
   },
   "source": [
    "We may fill missing ages based on the median age of the customer having same title."
   ]
  },
  {
   "cell_type": "code",
   "execution_count": 30,
   "metadata": {
    "execution": {
     "iopub.execute_input": "2020-08-27T22:37:37.345155Z",
     "iopub.status.busy": "2020-08-27T22:37:37.338316Z",
     "iopub.status.idle": "2020-08-27T22:37:37.395927Z",
     "shell.execute_reply": "2020-08-27T22:37:37.395317Z"
    },
    "papermill": {
     "duration": 0.095925,
     "end_time": "2020-08-27T22:37:37.396091",
     "exception": false,
     "start_time": "2020-08-27T22:37:37.300166",
     "status": "completed"
    },
    "tags": []
   },
   "outputs": [],
   "source": [
    "nan_age_row = []\n",
    "nan_age_row = alldata['Age'][alldata['Age'].isnull()].index\n",
    "\n",
    "for i in nan_age_row:\n",
    "    if alldata['Title'].iloc[i] == 'Master':\n",
    "        alldata['Age'].iloc[i] = 4\n",
    "    elif alldata['Title'].iloc[i] == 'Miss':\n",
    "        alldata['Age'].iloc[i] = 22\n",
    "    elif alldata['Title'].iloc[i] == 'Mr':\n",
    "        alldata['Age'].iloc[i] = 29\n",
    "    elif alldata['Title'].iloc[i] == 'Mrs':  \n",
    "        alldata['Age'].iloc[i] = 35\n",
    "    else:\n",
    "        alldata['Age'].iloc[i] = 47.5"
   ]
  },
  {
   "cell_type": "code",
   "execution_count": 31,
   "metadata": {
    "execution": {
     "iopub.execute_input": "2020-08-27T22:37:37.459435Z",
     "iopub.status.busy": "2020-08-27T22:37:37.458672Z",
     "iopub.status.idle": "2020-08-27T22:37:37.461989Z",
     "shell.execute_reply": "2020-08-27T22:37:37.461358Z"
    },
    "papermill": {
     "duration": 0.039189,
     "end_time": "2020-08-27T22:37:37.462114",
     "exception": false,
     "start_time": "2020-08-27T22:37:37.422925",
     "status": "completed"
    },
    "tags": []
   },
   "outputs": [],
   "source": [
    "def age_category(age):\n",
    "    if age <= 10:\n",
    "        return 'Child'\n",
    "    elif age <= 18 and age > 10:\n",
    "        return 'Teenager'\n",
    "    elif age <= 35 and age > 18:\n",
    "        return 'Adult'\n",
    "    elif age <= 60 and age > 35:\n",
    "        return 'Senior Adult'\n",
    "    else:\n",
    "        return 'Senior'\n",
    "\n",
    "alldata['Age'] = alldata['Age'].apply(age_category)"
   ]
  },
  {
   "cell_type": "markdown",
   "execution_count": null,
   "metadata": {
    "papermill": {
     "duration": 0.026092,
     "end_time": "2020-08-27T22:37:37.514625",
     "exception": false,
     "start_time": "2020-08-27T22:37:37.488533",
     "status": "completed"
    },
    "tags": []
   },
   "source": [
    "## 4.5 Family size"
   ]
  },
  {
   "cell_type": "code",
   "execution_count": 32,
   "metadata": {
    "execution": {
     "iopub.execute_input": "2020-08-27T22:37:37.580181Z",
     "iopub.status.busy": "2020-08-27T22:37:37.578776Z",
     "iopub.status.idle": "2020-08-27T22:37:37.583488Z",
     "shell.execute_reply": "2020-08-27T22:37:37.582930Z"
    },
    "papermill": {
     "duration": 0.042719,
     "end_time": "2020-08-27T22:37:37.583615",
     "exception": false,
     "start_time": "2020-08-27T22:37:37.540896",
     "status": "completed"
    },
    "tags": []
   },
   "outputs": [],
   "source": [
    "alldata['FS'] = alldata[\"SibSp\"] + alldata[\"Parch\"] + 1\n",
    "\n",
    "def FS_category(FS):\n",
    "    if FS == 1:\n",
    "        return 'Single'\n",
    "    elif FS == 2:\n",
    "        return 'Small'\n",
    "    elif FS <= 4 and FS >= 3:\n",
    "        return 'Medium'\n",
    "    else:\n",
    "        return 'Large'\n",
    "\n",
    "alldata['FS'] = alldata['FS'].apply(FS_category)\n",
    "alldata = alldata.drop(['SibSp','Parch'],axis=1)\n"
   ]
  },
  {
   "cell_type": "markdown",
   "execution_count": null,
   "metadata": {
    "papermill": {
     "duration": 0.026137,
     "end_time": "2020-08-27T22:37:37.636174",
     "exception": false,
     "start_time": "2020-08-27T22:37:37.610037",
     "status": "completed"
    },
    "tags": []
   },
   "source": [
    "## 4.6 Ticket"
   ]
  },
  {
   "cell_type": "code",
   "execution_count": 33,
   "metadata": {
    "execution": {
     "iopub.execute_input": "2020-08-27T22:37:37.701433Z",
     "iopub.status.busy": "2020-08-27T22:37:37.700659Z",
     "iopub.status.idle": "2020-08-27T22:37:37.999057Z",
     "shell.execute_reply": "2020-08-27T22:37:37.998424Z"
    },
    "papermill": {
     "duration": 0.33673,
     "end_time": "2020-08-27T22:37:37.999198",
     "exception": false,
     "start_time": "2020-08-27T22:37:37.662468",
     "status": "completed"
    },
    "tags": []
   },
   "outputs": [],
   "source": [
    "alldata[\"Ticket\"] = pd.Series(['N' if i.isdigit() else i.replace(\".\",\"\").replace(\"/\",\"\").strip().split(' ')[0] for i in alldata['Ticket'] ])\n",
    "Ticket_row = []\n",
    "Ticket_row = alldata['Ticket'].index\n",
    "\n",
    "for i in Ticket_row:\n",
    "    if ((alldata['Ticket'].iloc[i] != 'N') & (alldata['Ticket'].iloc[i] != 'PC') & (alldata['Ticket'].iloc[i] != 'CA')):\n",
    "        alldata['Ticket'].iloc[i] = 'Rare'\n",
    "    else:\n",
    "        alldata['Ticket'].iloc[i] = alldata['Ticket'].iloc[i]"
   ]
  },
  {
   "cell_type": "code",
   "execution_count": null,
   "metadata": {
    "papermill": {
     "duration": 0.026818,
     "end_time": "2020-08-27T22:37:38.052989",
     "exception": false,
     "start_time": "2020-08-27T22:37:38.026171",
     "status": "completed"
    },
    "tags": []
   },
   "outputs": [],
   "source": []
  },
  {
   "cell_type": "markdown",
   "execution_count": null,
   "metadata": {
    "papermill": {
     "duration": 0.026072,
     "end_time": "2020-08-27T22:37:38.105387",
     "exception": false,
     "start_time": "2020-08-27T22:37:38.079315",
     "status": "completed"
    },
    "tags": []
   },
   "source": [
    "## 4.7 Get dummy variables"
   ]
  },
  {
   "cell_type": "code",
   "execution_count": 34,
   "metadata": {
    "execution": {
     "iopub.execute_input": "2020-08-27T22:37:38.175892Z",
     "iopub.status.busy": "2020-08-27T22:37:38.174976Z",
     "iopub.status.idle": "2020-08-27T22:37:38.179237Z",
     "shell.execute_reply": "2020-08-27T22:37:38.178619Z"
    },
    "papermill": {
     "duration": 0.047218,
     "end_time": "2020-08-27T22:37:38.179356",
     "exception": false,
     "start_time": "2020-08-27T22:37:38.132138",
     "status": "completed"
    },
    "tags": []
   },
   "outputs": [
    {
     "data": {
      "text/html": [
       "<div>\n",
       "<style scoped>\n",
       "    .dataframe tbody tr th:only-of-type {\n",
       "        vertical-align: middle;\n",
       "    }\n",
       "\n",
       "    .dataframe tbody tr th {\n",
       "        vertical-align: top;\n",
       "    }\n",
       "\n",
       "    .dataframe thead th {\n",
       "        text-align: right;\n",
       "    }\n",
       "</style>\n",
       "<table border=\"1\" class=\"dataframe\">\n",
       "  <thead>\n",
       "    <tr style=\"text-align: right;\">\n",
       "      <th></th>\n",
       "      <th>Pclass</th>\n",
       "      <th>Sex</th>\n",
       "      <th>Age</th>\n",
       "      <th>Ticket</th>\n",
       "      <th>Fare</th>\n",
       "      <th>Cabin</th>\n",
       "      <th>Embarked</th>\n",
       "      <th>Title</th>\n",
       "      <th>FS</th>\n",
       "    </tr>\n",
       "  </thead>\n",
       "  <tbody>\n",
       "    <tr>\n",
       "      <th>0</th>\n",
       "      <td>3</td>\n",
       "      <td>male</td>\n",
       "      <td>Adult</td>\n",
       "      <td>Rare</td>\n",
       "      <td>1.981001</td>\n",
       "      <td>C</td>\n",
       "      <td>S</td>\n",
       "      <td>Mr</td>\n",
       "      <td>Small</td>\n",
       "    </tr>\n",
       "    <tr>\n",
       "      <th>1</th>\n",
       "      <td>1</td>\n",
       "      <td>female</td>\n",
       "      <td>Senior Adult</td>\n",
       "      <td>PC</td>\n",
       "      <td>4.266662</td>\n",
       "      <td>C</td>\n",
       "      <td>C</td>\n",
       "      <td>Mrs</td>\n",
       "      <td>Small</td>\n",
       "    </tr>\n",
       "    <tr>\n",
       "      <th>2</th>\n",
       "      <td>3</td>\n",
       "      <td>female</td>\n",
       "      <td>Adult</td>\n",
       "      <td>Rare</td>\n",
       "      <td>2.070022</td>\n",
       "      <td>C</td>\n",
       "      <td>S</td>\n",
       "      <td>Miss</td>\n",
       "      <td>Single</td>\n",
       "    </tr>\n",
       "    <tr>\n",
       "      <th>3</th>\n",
       "      <td>1</td>\n",
       "      <td>female</td>\n",
       "      <td>Adult</td>\n",
       "      <td>N</td>\n",
       "      <td>3.972177</td>\n",
       "      <td>C</td>\n",
       "      <td>S</td>\n",
       "      <td>Mrs</td>\n",
       "      <td>Small</td>\n",
       "    </tr>\n",
       "    <tr>\n",
       "      <th>4</th>\n",
       "      <td>3</td>\n",
       "      <td>male</td>\n",
       "      <td>Adult</td>\n",
       "      <td>N</td>\n",
       "      <td>2.085672</td>\n",
       "      <td>C</td>\n",
       "      <td>S</td>\n",
       "      <td>Mr</td>\n",
       "      <td>Single</td>\n",
       "    </tr>\n",
       "  </tbody>\n",
       "</table>\n",
       "</div>"
      ],
      "text/plain": [
       "   Pclass     Sex           Age Ticket      Fare Cabin Embarked Title      FS\n",
       "0       3    male         Adult   Rare  1.981001     C        S    Mr   Small\n",
       "1       1  female  Senior Adult     PC  4.266662     C        C   Mrs   Small\n",
       "2       3  female         Adult   Rare  2.070022     C        S  Miss  Single\n",
       "3       1  female         Adult      N  3.972177     C        S   Mrs   Small\n",
       "4       3    male         Adult      N  2.085672     C        S    Mr  Single"
      ]
     },
     "execution_count": 34,
     "metadata": {},
     "output_type": "execute_result"
    }
   ],
   "source": [
    "alldata.head()"
   ]
  },
  {
   "cell_type": "code",
   "execution_count": 35,
   "metadata": {
    "execution": {
     "iopub.execute_input": "2020-08-27T22:37:38.245887Z",
     "iopub.status.busy": "2020-08-27T22:37:38.243091Z",
     "iopub.status.idle": "2020-08-27T22:37:38.257588Z",
     "shell.execute_reply": "2020-08-27T22:37:38.258142Z"
    },
    "papermill": {
     "duration": 0.052395,
     "end_time": "2020-08-27T22:37:38.258296",
     "exception": false,
     "start_time": "2020-08-27T22:37:38.205901",
     "status": "completed"
    },
    "tags": []
   },
   "outputs": [
    {
     "data": {
      "text/plain": [
       "Index(['Sex_female', 'Sex_male', 'Age_Adult', 'Age_Child', 'Age_Senior',\n",
       "       'Age_Senior Adult', 'Age_Teenager', 'Ticket_CA', 'Ticket_N',\n",
       "       'Ticket_PC', 'Ticket_Rare', 'Cabin_A', 'Cabin_B', 'Cabin_C', 'Cabin_D',\n",
       "       'Cabin_E', 'Cabin_F', 'Cabin_G', 'Cabin_N', 'Cabin_T', 'Embarked_C',\n",
       "       'Embarked_Q', 'Embarked_S', 'Title_Master', 'Title_Miss', 'Title_Mr',\n",
       "       'Title_Mrs', 'Title_Specialist', 'FS_Large', 'FS_Medium', 'FS_Single',\n",
       "       'FS_Small'],\n",
       "      dtype='object')"
      ]
     },
     "execution_count": 35,
     "metadata": {},
     "output_type": "execute_result"
    }
   ],
   "source": [
    "cat_features = pd.DataFrame()\n",
    "cat_features = alldata[['Sex','Age','Ticket','Cabin','Embarked','Title','FS']]\n",
    "cat_features = pd.get_dummies(cat_features)\n",
    "cat_features.columns"
   ]
  },
  {
   "cell_type": "code",
   "execution_count": 36,
   "metadata": {
    "execution": {
     "iopub.execute_input": "2020-08-27T22:37:38.320207Z",
     "iopub.status.busy": "2020-08-27T22:37:38.319182Z",
     "iopub.status.idle": "2020-08-27T22:37:38.322240Z",
     "shell.execute_reply": "2020-08-27T22:37:38.321520Z"
    },
    "papermill": {
     "duration": 0.036876,
     "end_time": "2020-08-27T22:37:38.322355",
     "exception": false,
     "start_time": "2020-08-27T22:37:38.285479",
     "status": "completed"
    },
    "tags": []
   },
   "outputs": [],
   "source": [
    "dummy_Pclass = pd.get_dummies(alldata['Pclass'], prefix= 'Pclass')"
   ]
  },
  {
   "cell_type": "code",
   "execution_count": 37,
   "metadata": {
    "execution": {
     "iopub.execute_input": "2020-08-27T22:37:38.389212Z",
     "iopub.status.busy": "2020-08-27T22:37:38.384898Z",
     "iopub.status.idle": "2020-08-27T22:37:38.410686Z",
     "shell.execute_reply": "2020-08-27T22:37:38.409764Z"
    },
    "papermill": {
     "duration": 0.061503,
     "end_time": "2020-08-27T22:37:38.410864",
     "exception": false,
     "start_time": "2020-08-27T22:37:38.349361",
     "status": "completed"
    },
    "tags": []
   },
   "outputs": [
    {
     "name": "stdout",
     "output_type": "stream",
     "text": [
      "(1309, 36)\n",
      "Index(['Pclass_1', 'Pclass_2', 'Pclass_3', 'Fare', 'Sex_female', 'Sex_male',\n",
      "       'Age_Adult', 'Age_Child', 'Age_Senior', 'Age_Senior Adult',\n",
      "       'Age_Teenager', 'Ticket_CA', 'Ticket_N', 'Ticket_PC', 'Ticket_Rare',\n",
      "       'Cabin_A', 'Cabin_B', 'Cabin_C', 'Cabin_D', 'Cabin_E', 'Cabin_F',\n",
      "       'Cabin_G', 'Cabin_N', 'Cabin_T', 'Embarked_C', 'Embarked_Q',\n",
      "       'Embarked_S', 'Title_Master', 'Title_Miss', 'Title_Mr', 'Title_Mrs',\n",
      "       'Title_Specialist', 'FS_Large', 'FS_Medium', 'FS_Single', 'FS_Small'],\n",
      "      dtype='object')\n"
     ]
    },
    {
     "data": {
      "text/html": [
       "<div>\n",
       "<style scoped>\n",
       "    .dataframe tbody tr th:only-of-type {\n",
       "        vertical-align: middle;\n",
       "    }\n",
       "\n",
       "    .dataframe tbody tr th {\n",
       "        vertical-align: top;\n",
       "    }\n",
       "\n",
       "    .dataframe thead th {\n",
       "        text-align: right;\n",
       "    }\n",
       "</style>\n",
       "<table border=\"1\" class=\"dataframe\">\n",
       "  <thead>\n",
       "    <tr style=\"text-align: right;\">\n",
       "      <th></th>\n",
       "      <th>Pclass_1</th>\n",
       "      <th>Pclass_2</th>\n",
       "      <th>Pclass_3</th>\n",
       "      <th>Fare</th>\n",
       "      <th>Sex_female</th>\n",
       "      <th>Sex_male</th>\n",
       "      <th>Age_Adult</th>\n",
       "      <th>Age_Child</th>\n",
       "      <th>Age_Senior</th>\n",
       "      <th>Age_Senior Adult</th>\n",
       "      <th>...</th>\n",
       "      <th>Embarked_S</th>\n",
       "      <th>Title_Master</th>\n",
       "      <th>Title_Miss</th>\n",
       "      <th>Title_Mr</th>\n",
       "      <th>Title_Mrs</th>\n",
       "      <th>Title_Specialist</th>\n",
       "      <th>FS_Large</th>\n",
       "      <th>FS_Medium</th>\n",
       "      <th>FS_Single</th>\n",
       "      <th>FS_Small</th>\n",
       "    </tr>\n",
       "  </thead>\n",
       "  <tbody>\n",
       "    <tr>\n",
       "      <th>0</th>\n",
       "      <td>0</td>\n",
       "      <td>0</td>\n",
       "      <td>1</td>\n",
       "      <td>1.981001</td>\n",
       "      <td>0</td>\n",
       "      <td>1</td>\n",
       "      <td>1</td>\n",
       "      <td>0</td>\n",
       "      <td>0</td>\n",
       "      <td>0</td>\n",
       "      <td>...</td>\n",
       "      <td>1</td>\n",
       "      <td>0</td>\n",
       "      <td>0</td>\n",
       "      <td>1</td>\n",
       "      <td>0</td>\n",
       "      <td>0</td>\n",
       "      <td>0</td>\n",
       "      <td>0</td>\n",
       "      <td>0</td>\n",
       "      <td>1</td>\n",
       "    </tr>\n",
       "    <tr>\n",
       "      <th>1</th>\n",
       "      <td>1</td>\n",
       "      <td>0</td>\n",
       "      <td>0</td>\n",
       "      <td>4.266662</td>\n",
       "      <td>1</td>\n",
       "      <td>0</td>\n",
       "      <td>0</td>\n",
       "      <td>0</td>\n",
       "      <td>0</td>\n",
       "      <td>1</td>\n",
       "      <td>...</td>\n",
       "      <td>0</td>\n",
       "      <td>0</td>\n",
       "      <td>0</td>\n",
       "      <td>0</td>\n",
       "      <td>1</td>\n",
       "      <td>0</td>\n",
       "      <td>0</td>\n",
       "      <td>0</td>\n",
       "      <td>0</td>\n",
       "      <td>1</td>\n",
       "    </tr>\n",
       "    <tr>\n",
       "      <th>2</th>\n",
       "      <td>0</td>\n",
       "      <td>0</td>\n",
       "      <td>1</td>\n",
       "      <td>2.070022</td>\n",
       "      <td>1</td>\n",
       "      <td>0</td>\n",
       "      <td>1</td>\n",
       "      <td>0</td>\n",
       "      <td>0</td>\n",
       "      <td>0</td>\n",
       "      <td>...</td>\n",
       "      <td>1</td>\n",
       "      <td>0</td>\n",
       "      <td>1</td>\n",
       "      <td>0</td>\n",
       "      <td>0</td>\n",
       "      <td>0</td>\n",
       "      <td>0</td>\n",
       "      <td>0</td>\n",
       "      <td>1</td>\n",
       "      <td>0</td>\n",
       "    </tr>\n",
       "    <tr>\n",
       "      <th>3</th>\n",
       "      <td>1</td>\n",
       "      <td>0</td>\n",
       "      <td>0</td>\n",
       "      <td>3.972177</td>\n",
       "      <td>1</td>\n",
       "      <td>0</td>\n",
       "      <td>1</td>\n",
       "      <td>0</td>\n",
       "      <td>0</td>\n",
       "      <td>0</td>\n",
       "      <td>...</td>\n",
       "      <td>1</td>\n",
       "      <td>0</td>\n",
       "      <td>0</td>\n",
       "      <td>0</td>\n",
       "      <td>1</td>\n",
       "      <td>0</td>\n",
       "      <td>0</td>\n",
       "      <td>0</td>\n",
       "      <td>0</td>\n",
       "      <td>1</td>\n",
       "    </tr>\n",
       "    <tr>\n",
       "      <th>4</th>\n",
       "      <td>0</td>\n",
       "      <td>0</td>\n",
       "      <td>1</td>\n",
       "      <td>2.085672</td>\n",
       "      <td>0</td>\n",
       "      <td>1</td>\n",
       "      <td>1</td>\n",
       "      <td>0</td>\n",
       "      <td>0</td>\n",
       "      <td>0</td>\n",
       "      <td>...</td>\n",
       "      <td>1</td>\n",
       "      <td>0</td>\n",
       "      <td>0</td>\n",
       "      <td>1</td>\n",
       "      <td>0</td>\n",
       "      <td>0</td>\n",
       "      <td>0</td>\n",
       "      <td>0</td>\n",
       "      <td>1</td>\n",
       "      <td>0</td>\n",
       "    </tr>\n",
       "  </tbody>\n",
       "</table>\n",
       "<p>5 rows × 36 columns</p>\n",
       "</div>"
      ],
      "text/plain": [
       "   Pclass_1  Pclass_2  Pclass_3      Fare  Sex_female  Sex_male  Age_Adult  \\\n",
       "0         0         0         1  1.981001           0         1          1   \n",
       "1         1         0         0  4.266662           1         0          0   \n",
       "2         0         0         1  2.070022           1         0          1   \n",
       "3         1         0         0  3.972177           1         0          1   \n",
       "4         0         0         1  2.085672           0         1          1   \n",
       "\n",
       "   Age_Child  Age_Senior  Age_Senior Adult  ...  Embarked_S  Title_Master  \\\n",
       "0          0           0                 0  ...           1             0   \n",
       "1          0           0                 1  ...           0             0   \n",
       "2          0           0                 0  ...           1             0   \n",
       "3          0           0                 0  ...           1             0   \n",
       "4          0           0                 0  ...           1             0   \n",
       "\n",
       "   Title_Miss  Title_Mr  Title_Mrs  Title_Specialist  FS_Large  FS_Medium  \\\n",
       "0           0         1          0                 0         0          0   \n",
       "1           0         0          1                 0         0          0   \n",
       "2           1         0          0                 0         0          0   \n",
       "3           0         0          1                 0         0          0   \n",
       "4           0         1          0                 0         0          0   \n",
       "\n",
       "   FS_Single  FS_Small  \n",
       "0          0         1  \n",
       "1          0         1  \n",
       "2          1         0  \n",
       "3          0         1  \n",
       "4          1         0  \n",
       "\n",
       "[5 rows x 36 columns]"
      ]
     },
     "execution_count": 37,
     "metadata": {},
     "output_type": "execute_result"
    }
   ],
   "source": [
    "allfeatures = pd.DataFrame() \n",
    "allfeatures = pd.concat([dummy_Pclass,alldata['Fare'],cat_features],axis=1)\n",
    "print(allfeatures.shape)\n",
    "print(allfeatures.columns)\n",
    "allfeatures.head()"
   ]
  },
  {
   "cell_type": "code",
   "execution_count": 38,
   "metadata": {
    "execution": {
     "iopub.execute_input": "2020-08-27T22:37:38.473469Z",
     "iopub.status.busy": "2020-08-27T22:37:38.472434Z",
     "iopub.status.idle": "2020-08-27T22:37:38.480747Z",
     "shell.execute_reply": "2020-08-27T22:37:38.480015Z"
    },
    "papermill": {
     "duration": 0.041697,
     "end_time": "2020-08-27T22:37:38.480876",
     "exception": false,
     "start_time": "2020-08-27T22:37:38.439179",
     "status": "completed"
    },
    "tags": []
   },
   "outputs": [
    {
     "data": {
      "text/plain": [
       "Pclass_1            0\n",
       "Pclass_2            0\n",
       "Pclass_3            0\n",
       "Fare                0\n",
       "Sex_female          0\n",
       "Sex_male            0\n",
       "Age_Adult           0\n",
       "Age_Child           0\n",
       "Age_Senior          0\n",
       "Age_Senior Adult    0\n",
       "Age_Teenager        0\n",
       "Ticket_CA           0\n",
       "Ticket_N            0\n",
       "Ticket_PC           0\n",
       "Ticket_Rare         0\n",
       "Cabin_A             0\n",
       "Cabin_B             0\n",
       "Cabin_C             0\n",
       "Cabin_D             0\n",
       "Cabin_E             0\n",
       "Cabin_F             0\n",
       "Cabin_G             0\n",
       "Cabin_N             0\n",
       "Cabin_T             0\n",
       "Embarked_C          0\n",
       "Embarked_Q          0\n",
       "Embarked_S          0\n",
       "Title_Master        0\n",
       "Title_Miss          0\n",
       "Title_Mr            0\n",
       "Title_Mrs           0\n",
       "Title_Specialist    0\n",
       "FS_Large            0\n",
       "FS_Medium           0\n",
       "FS_Single           0\n",
       "FS_Small            0\n",
       "dtype: int64"
      ]
     },
     "execution_count": 38,
     "metadata": {},
     "output_type": "execute_result"
    }
   ],
   "source": [
    "allfeatures.isnull().sum()"
   ]
  },
  {
   "cell_type": "markdown",
   "execution_count": null,
   "metadata": {
    "papermill": {
     "duration": 0.027678,
     "end_time": "2020-08-27T22:37:38.536493",
     "exception": false,
     "start_time": "2020-08-27T22:37:38.508815",
     "status": "completed"
    },
    "tags": []
   },
   "source": [
    "# 5 Modeling"
   ]
  },
  {
   "cell_type": "code",
   "execution_count": 39,
   "metadata": {
    "execution": {
     "iopub.execute_input": "2020-08-27T22:37:38.598190Z",
     "iopub.status.busy": "2020-08-27T22:37:38.597257Z",
     "iopub.status.idle": "2020-08-27T22:37:38.890244Z",
     "shell.execute_reply": "2020-08-27T22:37:38.889476Z"
    },
    "papermill": {
     "duration": 0.325985,
     "end_time": "2020-08-27T22:37:38.890374",
     "exception": false,
     "start_time": "2020-08-27T22:37:38.564389",
     "status": "completed"
    },
    "tags": []
   },
   "outputs": [],
   "source": [
    "from sklearn.ensemble import RandomForestClassifier\n",
    "from sklearn.model_selection import cross_val_score\n",
    "from sklearn import model_selection\n",
    "from sklearn import tree"
   ]
  },
  {
   "cell_type": "markdown",
   "execution_count": null,
   "metadata": {
    "papermill": {
     "duration": 0.027689,
     "end_time": "2020-08-27T22:37:38.946179",
     "exception": false,
     "start_time": "2020-08-27T22:37:38.918490",
     "status": "completed"
    },
    "tags": []
   },
   "source": [
    "## 5.1 Train and test data preparation"
   ]
  },
  {
   "cell_type": "code",
   "execution_count": 40,
   "metadata": {
    "execution": {
     "iopub.execute_input": "2020-08-27T22:37:39.009382Z",
     "iopub.status.busy": "2020-08-27T22:37:39.008263Z",
     "iopub.status.idle": "2020-08-27T22:37:39.011594Z",
     "shell.execute_reply": "2020-08-27T22:37:39.011029Z"
    },
    "papermill": {
     "duration": 0.037982,
     "end_time": "2020-08-27T22:37:39.011750",
     "exception": false,
     "start_time": "2020-08-27T22:37:38.973768",
     "status": "completed"
    },
    "tags": []
   },
   "outputs": [],
   "source": [
    "X = allfeatures[:891]\n",
    "X_test = allfeatures[891:]\n",
    "y = train['Survived'].astype(int)"
   ]
  },
  {
   "cell_type": "code",
   "execution_count": 41,
   "metadata": {
    "execution": {
     "iopub.execute_input": "2020-08-27T22:37:39.079280Z",
     "iopub.status.busy": "2020-08-27T22:37:39.078210Z",
     "iopub.status.idle": "2020-08-27T22:37:44.347423Z",
     "shell.execute_reply": "2020-08-27T22:37:44.348159Z"
    },
    "papermill": {
     "duration": 5.308375,
     "end_time": "2020-08-27T22:37:44.348321",
     "exception": false,
     "start_time": "2020-08-27T22:37:39.039946",
     "status": "completed"
    },
    "tags": []
   },
   "outputs": [
    {
     "name": "stdout",
     "output_type": "stream",
     "text": [
      "[0.73333333 0.88888889 0.82222222 0.84444444 0.75555556 0.75555556\n",
      " 0.82222222 0.93333333 0.86666667 0.82222222 0.8        0.79545455\n",
      " 0.79545455 0.84090909 0.79545455 0.75       0.81818182 0.90909091\n",
      " 0.84090909 0.86363636]\n",
      "0.8226767676767677\n"
     ]
    }
   ],
   "source": [
    "rf = RandomForestClassifier(max_depth=5,random_state = 1)\n",
    "rf = rf.fit(X,y)\n",
    "cv = cross_val_score(rf,X,y,cv=20)\n",
    "print(cv)\n",
    "print(cv.mean())"
   ]
  },
  {
   "cell_type": "markdown",
   "execution_count": null,
   "metadata": {
    "papermill": {
     "duration": 0.027796,
     "end_time": "2020-08-27T22:37:44.404672",
     "exception": false,
     "start_time": "2020-08-27T22:37:44.376876",
     "status": "completed"
    },
    "tags": []
   },
   "source": [
    "## 5.2 Preliminary test using different basic models"
   ]
  },
  {
   "cell_type": "code",
   "execution_count": 42,
   "metadata": {
    "execution": {
     "iopub.execute_input": "2020-08-27T22:37:44.476937Z",
     "iopub.status.busy": "2020-08-27T22:37:44.476171Z",
     "iopub.status.idle": "2020-08-27T22:37:49.907098Z",
     "shell.execute_reply": "2020-08-27T22:37:49.906363Z"
    },
    "papermill": {
     "duration": 5.474198,
     "end_time": "2020-08-27T22:37:49.907223",
     "exception": false,
     "start_time": "2020-08-27T22:37:44.433025",
     "status": "completed"
    },
    "tags": []
   },
   "outputs": [
    {
     "name": "stdout",
     "output_type": "stream",
     "text": [
      "LR\n"
     ]
    },
    {
     "name": "stderr",
     "output_type": "stream",
     "text": [
      "/opt/conda/lib/python3.7/site-packages/sklearn/utils/deprecation.py:143: FutureWarning: The sklearn.ensemble.gradient_boosting module is  deprecated in version 0.22 and will be removed in version 0.24. The corresponding classes / functions should instead be imported from sklearn.ensemble. Anything that cannot be imported from sklearn.ensemble is now part of the private API.\n",
      "  warnings.warn(message, FutureWarning)\n"
     ]
    },
    {
     "name": "stdout",
     "output_type": "stream",
     "text": [
      "mean score is:  0.8204494382022471\n",
      "\n",
      "\n",
      "RF\n",
      "mean score is:  0.8249188514357053\n",
      "\n",
      "\n",
      "GB\n",
      "mean score is:  0.8249313358302122\n",
      "\n",
      "\n",
      "GNB\n",
      "mean score is:  0.7969038701622971\n",
      "\n",
      "\n",
      "DT\n",
      "mean score is:  0.8036204744069912\n",
      "\n",
      "\n",
      "KNN\n",
      "mean score is:  0.8283895131086142\n",
      "\n",
      "\n",
      "SVC\n",
      "mean score is:  0.8327715355805243\n",
      "\n",
      "\n"
     ]
    },
    {
     "data": {
      "image/png": "[encoded data removed]",
      "text/plain": [
       "<Figure size 432x288 with 1 Axes>"
      ]
     },
     "metadata": {
      "needs_background": "light"
     },
     "output_type": "display_data"
    }
   ],
   "source": [
    "from sklearn.model_selection import cross_val_score\n",
    "from sklearn.linear_model import LogisticRegression, LogisticRegressionCV\n",
    "from sklearn.ensemble import RandomForestClassifier\n",
    "from sklearn.ensemble.gradient_boosting import GradientBoostingClassifier\n",
    "from sklearn.naive_bayes import GaussianNB\n",
    "from sklearn import tree\n",
    "from sklearn.neighbors import KNeighborsClassifier\n",
    "from sklearn.svm import SVC\n",
    "\n",
    "models = []\n",
    "results = []\n",
    "names = []\n",
    "\n",
    "models.append(('LR', LogisticRegression()))\n",
    "models.append(('RF', RandomForestClassifier(max_depth=5,random_state = 1)))\n",
    "models.append(('GB', GradientBoostingClassifier()))\n",
    "models.append(('GNB', GaussianNB()))\n",
    "models.append(('DT', tree.DecisionTreeClassifier()))\n",
    "models.append(('KNN', KNeighborsClassifier()))\n",
    "models.append(('SVC', SVC()))\n",
    "\n",
    "\n",
    "for name, model in models:\n",
    "    print(name)\n",
    "    score = cross_val_score(model, X, y, cv = 10, scoring='accuracy')\n",
    "    print('mean score is: ', score.mean())\n",
    "    results.append(score)\n",
    "    names.append(name)\n",
    "    print('\\n')\n",
    "    \n",
    "    \n",
    "fig = plt.figure()\n",
    "fig.suptitle('Algorithm Performances')\n",
    "ax = fig.add_subplot(111)\n",
    "plt.boxplot(results)\n",
    "ax.set_xticklabels(names)\n",
    "plt.show()"
   ]
  },
  {
   "cell_type": "markdown",
   "execution_count": null,
   "metadata": {
    "papermill": {
     "duration": 0.028806,
     "end_time": "2020-08-27T22:37:49.965704",
     "exception": false,
     "start_time": "2020-08-27T22:37:49.936898",
     "status": "completed"
    },
    "tags": []
   },
   "source": [
    "We decide to use Rndom Forest model."
   ]
  },
  {
   "cell_type": "code",
   "execution_count": 43,
   "metadata": {
    "execution": {
     "iopub.execute_input": "2020-08-27T22:37:50.053547Z",
     "iopub.status.busy": "2020-08-27T22:37:50.034743Z",
     "iopub.status.idle": "2020-08-27T22:37:50.438752Z",
     "shell.execute_reply": "2020-08-27T22:37:50.439329Z"
    },
    "papermill": {
     "duration": 0.444909,
     "end_time": "2020-08-27T22:37:50.439484",
     "exception": false,
     "start_time": "2020-08-27T22:37:49.994575",
     "status": "completed"
    },
    "tags": []
   },
   "outputs": [
    {
     "name": "stdout",
     "output_type": "stream",
     "text": [
      "   Pclass_1  Pclass_2  Pclass_3      Fare  Sex_female  Sex_male  Age_Adult  \\\n",
      "0         0         0         1  1.981001           0         1          1   \n",
      "1         1         0         0  4.266662           1         0          0   \n",
      "2         0         0         1  2.070022           1         0          1   \n",
      "3         1         0         0  3.972177           1         0          1   \n",
      "4         0         0         1  2.085672           0         1          1   \n",
      "\n",
      "   Age_Child  Age_Senior  Age_Senior Adult  ...  Embarked_S  Title_Master  \\\n",
      "0          0           0                 0  ...           1             0   \n",
      "1          0           0                 1  ...           0             0   \n",
      "2          0           0                 0  ...           1             0   \n",
      "3          0           0                 0  ...           1             0   \n",
      "4          0           0                 0  ...           1             0   \n",
      "\n",
      "   Title_Miss  Title_Mr  Title_Mrs  Title_Specialist  FS_Large  FS_Medium  \\\n",
      "0           0         1          0                 0         0          0   \n",
      "1           0         0          1                 0         0          0   \n",
      "2           1         0          0                 0         0          0   \n",
      "3           0         0          1                 0         0          0   \n",
      "4           0         1          0                 0         0          0   \n",
      "\n",
      "   FS_Single  FS_Small  \n",
      "0          0         1  \n",
      "1          0         1  \n",
      "2          1         0  \n",
      "3          0         1  \n",
      "4          1         0  \n",
      "\n",
      "[5 rows x 36 columns]\n"
     ]
    },
    {
     "data": {
      "text/plain": [
       "<matplotlib.axes._subplots.AxesSubplot at 0x7f1284d8ab10>"
      ]
     },
     "execution_count": 43,
     "metadata": {},
     "output_type": "execute_result"
    },
    {
     "data": {
      "image/png": "[encoded data removed]",
      "text/plain": [
       "<Figure size 576x576 with 1 Axes>"
      ]
     },
     "metadata": {
      "needs_background": "light"
     },
     "output_type": "display_data"
    }
   ],
   "source": [
    "feature_set = pd.DataFrame()\n",
    "feature_set = allfeatures\n",
    "print(feature_set.head())\n",
    "\n",
    "features = pd.DataFrame()\n",
    "features['features'] = feature_set.columns\n",
    "features['importance'] = rf.feature_importances_\n",
    "features.sort_values(by=['importance'], ascending=True, inplace=True)\n",
    "features.set_index('features', inplace=True)\n",
    "\n",
    "features.plot(kind='barh', figsize=(8, 8))"
   ]
  },
  {
   "cell_type": "code",
   "execution_count": 44,
   "metadata": {
    "execution": {
     "iopub.execute_input": "2020-08-27T22:37:50.529049Z",
     "iopub.status.busy": "2020-08-27T22:37:50.523943Z",
     "iopub.status.idle": "2020-08-27T22:38:16.025424Z",
     "shell.execute_reply": "2020-08-27T22:38:16.026008Z"
    },
    "papermill": {
     "duration": 25.552342,
     "end_time": "2020-08-27T22:38:16.026176",
     "exception": false,
     "start_time": "2020-08-27T22:37:50.473834",
     "status": "completed"
    },
    "tags": []
   },
   "outputs": [
    {
     "data": {
      "image/png": "[encoded data removed]",
      "text/plain": [
       "<Figure size 432x288 with 1 Axes>"
      ]
     },
     "metadata": {
      "needs_background": "light"
     },
     "output_type": "display_data"
    },
    {
     "data": {
      "text/plain": [
       "<module 'matplotlib.pyplot' from '/opt/conda/lib/python3.7/site-packages/matplotlib/pyplot.py'>"
      ]
     },
     "execution_count": 44,
     "metadata": {},
     "output_type": "execute_result"
    }
   ],
   "source": [
    "from sklearn.model_selection import learning_curve\n",
    "from sklearn.model_selection import ShuffleSplit\n",
    "\n",
    "\n",
    "def plot_learning_curve(estimator, titles, X, y, cv, train_sizes=np.linspace(.1, 1.0, 10)):\n",
    "    \n",
    "    plt.figure()\n",
    "    train_sizes, train_scores, test_scores = \\\n",
    "    learning_curve(estimator, X, y, train_sizes=train_sizes, cv=cv)\n",
    "    \n",
    "    train_scores_mean = np.mean(train_scores, axis=1)\n",
    "    train_scores_std = np.std(train_scores, axis=1)\n",
    "    test_scores_mean = np.mean(test_scores, axis=1)\n",
    "    test_scores_std = np.std(test_scores, axis=1)\n",
    "    \n",
    "    plt.plot(train_sizes, test_scores_mean, 'o-', color=\"r\",\n",
    "         label=\"Validation Score\")\n",
    "    plt.plot(train_sizes, train_scores_mean, 'o-', color=\"g\",\n",
    "         label=\"Training Score\")\n",
    "    plt.fill_between(train_sizes, train_scores_mean - train_scores_std,\n",
    "                         train_scores_mean + train_scores_std, alpha=0.2,\n",
    "                         color=\"g\")\n",
    "    plt.fill_between(train_sizes, test_scores_mean - test_scores_std,\n",
    "                         test_scores_mean + test_scores_std, alpha=0.2,\n",
    "                         color=\"r\")\n",
    "    \n",
    "    plt.xlabel(\"Train size\")\n",
    "    plt.ylabel(\"Score\")\n",
    "    plt.title(titles)\n",
    "    plt.legend(loc=\"best\")\n",
    "\n",
    "    plt.show()\n",
    "    \n",
    "    return plt\n",
    "\n",
    "cv = ShuffleSplit(n_splits=10, test_size=0.2, random_state=0)\n",
    "titles = \"Learning Curves (RF)\"\n",
    "estimator = RandomForestClassifier(max_depth=5,random_state = 1)\n",
    "plot_learning_curve(estimator, titles, X, y, cv, train_sizes=np.linspace(.1, 1.0, 10))"
   ]
  },
  {
   "cell_type": "markdown",
   "execution_count": null,
   "metadata": {
    "papermill": {
     "duration": 0.030615,
     "end_time": "2020-08-27T22:38:16.087590",
     "exception": false,
     "start_time": "2020-08-27T22:38:16.056975",
     "status": "completed"
    },
    "tags": []
   },
   "source": [
    "## 5.3 Tuning hyperparameters"
   ]
  },
  {
   "cell_type": "code",
   "execution_count": 45,
   "metadata": {
    "execution": {
     "iopub.execute_input": "2020-08-27T22:38:16.155068Z",
     "iopub.status.busy": "2020-08-27T22:38:16.154028Z",
     "iopub.status.idle": "2020-08-27T22:38:16.157342Z",
     "shell.execute_reply": "2020-08-27T22:38:16.156634Z"
    },
    "papermill": {
     "duration": 0.039115,
     "end_time": "2020-08-27T22:38:16.157465",
     "exception": false,
     "start_time": "2020-08-27T22:38:16.118350",
     "status": "completed"
    },
    "tags": []
   },
   "outputs": [],
   "source": [
    "from sklearn.model_selection import GridSearchCV\n",
    "from sklearn.model_selection import cross_val_score,StratifiedKFold"
   ]
  },
  {
   "cell_type": "code",
   "execution_count": 46,
   "metadata": {
    "execution": {
     "iopub.execute_input": "2020-08-27T22:38:16.225746Z",
     "iopub.status.busy": "2020-08-27T22:38:16.224851Z",
     "iopub.status.idle": "2020-08-27T22:38:16.227636Z",
     "shell.execute_reply": "2020-08-27T22:38:16.226950Z"
    },
    "papermill": {
     "duration": 0.040068,
     "end_time": "2020-08-27T22:38:16.227774",
     "exception": false,
     "start_time": "2020-08-27T22:38:16.187706",
     "status": "completed"
    },
    "tags": []
   },
   "outputs": [],
   "source": [
    "kfold = StratifiedKFold(n_splits=10)\n",
    "#parameters = {\n",
    "#    'n_estimators': [20, 50, 100],\n",
    "#    'max_depth': [4,5,6],\n",
    "#    'min_samples_split': [2,3,4],\n",
    "#    'min_samples_leaf': [1], \n",
    "#    'bootstrap': [True], \n",
    "#    'random_state':[1]\n",
    "#    }\n",
    "#model = RandomForestClassifier()\n",
    "#GSCV = GridSearchCV(estimator=model,\n",
    "#                  scoring='accuracy',\n",
    "#                  n_jobs=4,\n",
    "#                  param_grid=parameters,\n",
    "#                  cv=kfold,\n",
    "#                  verbose=1\n",
    "#                  )\n",
    "#GSCV.fit(X, y)\n",
    "#print('Best Score: ',GSCV.best_score_)\n",
    "#print('Best Parameter: ',GSCV.best_params_)\n",
    "#RF = GSCV.best_estimator_\n",
    "\n",
    "#Best Score:  0.8361548064918851\n",
    "#Best Parameter:  {'bootstrap': True, 'criterion': 'gini',\n",
    "#                  'max_depth': 5, 'min_samples_leaf': 1,\n",
    "#                  'min_samples_split': 3, 'n_estimators': 20,\n",
    "#                  'random_state': 1}\n",
    "    \n",
    "    \n",
    "RF = RandomForestClassifier(bootstrap=True, criterion='gini', max_depth=5, \n",
    "                            min_samples_leaf=1, min_samples_split=3, n_estimators=20,\n",
    "                           random_state=1)"
   ]
  },
  {
   "cell_type": "code",
   "execution_count": 47,
   "metadata": {
    "execution": {
     "iopub.execute_input": "2020-08-27T22:38:16.297852Z",
     "iopub.status.busy": "2020-08-27T22:38:16.297128Z",
     "iopub.status.idle": "2020-08-27T22:38:16.454830Z",
     "shell.execute_reply": "2020-08-27T22:38:16.454024Z"
    },
    "papermill": {
     "duration": 0.196741,
     "end_time": "2020-08-27T22:38:16.454959",
     "exception": false,
     "start_time": "2020-08-27T22:38:16.258218",
     "status": "completed"
    },
    "tags": []
   },
   "outputs": [],
   "source": [
    "RF.fit(X, y)\n",
    "prediction_y = RF.predict(X_test).astype(np.int32)\n",
    "submission = pd.DataFrame({'PassengerId': test.PassengerId, 'Survived': prediction_y})\n",
    "submission.to_csv('submission_rf12.csv', index=False)"
   ]
  },
  {
   "cell_type": "code",
   "execution_count": null,
   "metadata": {
    "papermill": {
     "duration": 0.034912,
     "end_time": "2020-08-27T22:38:16.520768",
     "exception": false,
     "start_time": "2020-08-27T22:38:16.485856",
     "status": "completed"
    },
    "tags": []
   },
   "outputs": [],
   "source": []
  }
 ],
 "metadata": {
  "kernelspec": {
   "display_name": "Python 3",
   "language": "python",
   "name": "python3"
  },
  "language_info": {
   "codemirror_mode": {
    "name": "ipython",
    "version": 3
   },
   "file_extension": ".py",
   "mimetype": "text/x-python",
   "name": "python",
   "nbconvert_exporter": "python",
   "pygments_lexer": "ipython3",
   "version": "3.7.6"
  },
  "papermill": {
   "duration": 56.500489,
   "end_time": "2020-08-27T22:38:16.658393",
   "environment_variables": {},
   "exception": null,
   "input_path": "__notebook__.ipynb",
   "output_path": "__notebook__.ipynb",
   "parameters": {},
   "start_time": "2020-08-27T22:37:20.157904",
   "version": "2.1.0"
  }
 },
 "nbformat": 4,
 "nbformat_minor": 4
}
