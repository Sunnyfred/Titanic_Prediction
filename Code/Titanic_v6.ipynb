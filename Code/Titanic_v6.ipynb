{
 "cells": [
  {
   "cell_type": "code",
   "execution_count": 1,
   "metadata": {
    "_cell_guid": "b1076dfc-b9ad-4769-8c92-a6c4dae69d19",
    "_uuid": "8f2839f25d086af736a60e9eeb907d3b93b6e0e5",
    "execution": {
     "iopub.execute_input": "2020-08-12T06:06:46.367288Z",
     "iopub.status.busy": "2020-08-12T06:06:46.366497Z",
     "iopub.status.idle": "2020-08-12T06:06:46.372028Z",
     "shell.execute_reply": "2020-08-12T06:06:46.371230Z"
    },
    "papermill": {
     "duration": 0.040555,
     "end_time": "2020-08-12T06:06:46.372166",
     "exception": false,
     "start_time": "2020-08-12T06:06:46.331611",
     "status": "completed"
    },
    "tags": []
   },
   "outputs": [
    {
     "name": "stdout",
     "output_type": "stream",
     "text": [
      "/kaggle/input/titanic/train.csv\n",
      "/kaggle/input/titanic/gender_submission.csv\n",
      "/kaggle/input/titanic/test.csv\n"
     ]
    }
   ],
   "source": [
    "# This Python 3 environment comes with many helpful analytics libraries installed\n",
    "# It is defined by the kaggle/python Docker image: https://github.com/kaggle/docker-python\n",
    "# For example, here's several helpful packages to load\n",
    "\n",
    "import numpy as np # linear algebra\n",
    "import pandas as pd # data processing, CSV file I/O (e.g. pd.read_csv)\n",
    "\n",
    "# Input data files are available in the read-only \"../input/\" directory\n",
    "# For example, running this (by clicking run or pressing Shift+Enter) will list all files under the input directory\n",
    "\n",
    "import os\n",
    "for dirname, _, filenames in os.walk('/kaggle/input'):\n",
    "    for filename in filenames:\n",
    "        print(os.path.join(dirname, filename))\n",
    "\n",
    "# You can write up to 5GB to the current directory (/kaggle/working/) that gets preserved as output when you create a version using \"Save & Run All\" \n",
    "# You can also write temporary files to /kaggle/temp/, but they won't be saved outside of the current session"
   ]
  },
  {
   "cell_type": "code",
   "execution_count": 2,
   "metadata": {
    "_cell_guid": "79c7e3d0-c299-4dcb-8224-4455121ee9b0",
    "_uuid": "d629ff2d2480ee46fbb7e2d37f6b5fab8052498a",
    "execution": {
     "iopub.execute_input": "2020-08-12T06:06:46.435488Z",
     "iopub.status.busy": "2020-08-12T06:06:46.434525Z",
     "iopub.status.idle": "2020-08-12T06:06:46.477394Z",
     "shell.execute_reply": "2020-08-12T06:06:46.476795Z"
    },
    "papermill": {
     "duration": 0.077856,
     "end_time": "2020-08-12T06:06:46.477546",
     "exception": false,
     "start_time": "2020-08-12T06:06:46.399690",
     "status": "completed"
    },
    "tags": []
   },
   "outputs": [
    {
     "name": "stdout",
     "output_type": "stream",
     "text": [
      "(1309, 12)\n"
     ]
    },
    {
     "data": {
      "text/plain": [
       "PassengerId       0\n",
       "Survived        418\n",
       "Pclass            0\n",
       "Name              0\n",
       "Sex               0\n",
       "Age             263\n",
       "SibSp             0\n",
       "Parch             0\n",
       "Ticket            0\n",
       "Fare              1\n",
       "Cabin          1014\n",
       "Embarked          2\n",
       "dtype: int64"
      ]
     },
     "execution_count": 2,
     "metadata": {},
     "output_type": "execute_result"
    }
   ],
   "source": [
    "train = pd.read_csv('/kaggle/input/titanic/train.csv')\n",
    "test = pd.read_csv('/kaggle/input/titanic/test.csv')\n",
    "alldata_set = train.append(test).reset_index(drop=True)\n",
    "testid = test['PassengerId']\n",
    "print(alldata_set.shape)\n",
    "alldata_set.isnull().sum()\n"
   ]
  },
  {
   "cell_type": "code",
   "execution_count": 3,
   "metadata": {
    "execution": {
     "iopub.execute_input": "2020-08-12T06:06:46.560879Z",
     "iopub.status.busy": "2020-08-12T06:06:46.558587Z",
     "iopub.status.idle": "2020-08-12T06:06:46.565115Z",
     "shell.execute_reply": "2020-08-12T06:06:46.565696Z"
    },
    "papermill": {
     "duration": 0.059594,
     "end_time": "2020-08-12T06:06:46.565863",
     "exception": false,
     "start_time": "2020-08-12T06:06:46.506269",
     "status": "completed"
    },
    "tags": []
   },
   "outputs": [
    {
     "name": "stdout",
     "output_type": "stream",
     "text": [
      "<class 'pandas.core.frame.DataFrame'>\n",
      "RangeIndex: 891 entries, 0 to 890\n",
      "Data columns (total 12 columns):\n",
      " #   Column       Non-Null Count  Dtype  \n",
      "---  ------       --------------  -----  \n",
      " 0   PassengerId  891 non-null    int64  \n",
      " 1   Survived     891 non-null    int64  \n",
      " 2   Pclass       891 non-null    int64  \n",
      " 3   Name         891 non-null    object \n",
      " 4   Sex          891 non-null    object \n",
      " 5   Age          714 non-null    float64\n",
      " 6   SibSp        891 non-null    int64  \n",
      " 7   Parch        891 non-null    int64  \n",
      " 8   Ticket       891 non-null    object \n",
      " 9   Fare         891 non-null    float64\n",
      " 10  Cabin        204 non-null    object \n",
      " 11  Embarked     889 non-null    object \n",
      "dtypes: float64(2), int64(5), object(5)\n",
      "memory usage: 83.7+ KB\n",
      "train set shape (891, 12)\n",
      "test set shape (418, 11)\n",
      "Age missing 177     19.865319865319865 %\n",
      "Cabin missing 687     77.10437710437711 %\n",
      "Embarked missing 2     0.22446689113355783 %\n"
     ]
    }
   ],
   "source": [
    "train.info()\n",
    "print('train set shape',train.shape)\n",
    "print('test set shape',test.shape)\n",
    "print('Age missing',train.iloc[:891].Age.isnull().sum(),'   ',\n",
    "      (train.iloc[:891].Age.isnull().sum())/int(891)*int(100),'%')\n",
    "print('Cabin missing',train.iloc[:891].Cabin.isnull().sum(),'   ',\n",
    "      (train.iloc[:891].Cabin.isnull().sum())/int(891)*int(100),'%')\n",
    "print('Embarked missing',train.iloc[:891].Embarked.isnull().sum(),'   ',\n",
    "      (train.iloc[:891].Embarked.isnull().sum())/int(891)*int(100),'%')"
   ]
  },
  {
   "cell_type": "code",
   "execution_count": 4,
   "metadata": {
    "execution": {
     "iopub.execute_input": "2020-08-12T06:06:46.633707Z",
     "iopub.status.busy": "2020-08-12T06:06:46.632935Z",
     "iopub.status.idle": "2020-08-12T06:06:46.667773Z",
     "shell.execute_reply": "2020-08-12T06:06:46.668326Z"
    },
    "papermill": {
     "duration": 0.072421,
     "end_time": "2020-08-12T06:06:46.668503",
     "exception": false,
     "start_time": "2020-08-12T06:06:46.596082",
     "status": "completed"
    },
    "tags": []
   },
   "outputs": [
    {
     "data": {
      "text/html": [
       "<div>\n",
       "<style scoped>\n",
       "    .dataframe tbody tr th:only-of-type {\n",
       "        vertical-align: middle;\n",
       "    }\n",
       "\n",
       "    .dataframe tbody tr th {\n",
       "        vertical-align: top;\n",
       "    }\n",
       "\n",
       "    .dataframe thead th {\n",
       "        text-align: right;\n",
       "    }\n",
       "</style>\n",
       "<table border=\"1\" class=\"dataframe\">\n",
       "  <thead>\n",
       "    <tr style=\"text-align: right;\">\n",
       "      <th></th>\n",
       "      <th>PassengerId</th>\n",
       "      <th>Survived</th>\n",
       "      <th>Pclass</th>\n",
       "      <th>Age</th>\n",
       "      <th>SibSp</th>\n",
       "      <th>Parch</th>\n",
       "      <th>Fare</th>\n",
       "    </tr>\n",
       "  </thead>\n",
       "  <tbody>\n",
       "    <tr>\n",
       "      <th>count</th>\n",
       "      <td>891.000000</td>\n",
       "      <td>891.000000</td>\n",
       "      <td>891.000000</td>\n",
       "      <td>714.000000</td>\n",
       "      <td>891.000000</td>\n",
       "      <td>891.000000</td>\n",
       "      <td>891.000000</td>\n",
       "    </tr>\n",
       "    <tr>\n",
       "      <th>mean</th>\n",
       "      <td>446.000000</td>\n",
       "      <td>0.383838</td>\n",
       "      <td>2.308642</td>\n",
       "      <td>29.699118</td>\n",
       "      <td>0.523008</td>\n",
       "      <td>0.381594</td>\n",
       "      <td>32.204208</td>\n",
       "    </tr>\n",
       "    <tr>\n",
       "      <th>std</th>\n",
       "      <td>257.353842</td>\n",
       "      <td>0.486592</td>\n",
       "      <td>0.836071</td>\n",
       "      <td>14.526497</td>\n",
       "      <td>1.102743</td>\n",
       "      <td>0.806057</td>\n",
       "      <td>49.693429</td>\n",
       "    </tr>\n",
       "    <tr>\n",
       "      <th>min</th>\n",
       "      <td>1.000000</td>\n",
       "      <td>0.000000</td>\n",
       "      <td>1.000000</td>\n",
       "      <td>0.420000</td>\n",
       "      <td>0.000000</td>\n",
       "      <td>0.000000</td>\n",
       "      <td>0.000000</td>\n",
       "    </tr>\n",
       "    <tr>\n",
       "      <th>25%</th>\n",
       "      <td>223.500000</td>\n",
       "      <td>0.000000</td>\n",
       "      <td>2.000000</td>\n",
       "      <td>20.125000</td>\n",
       "      <td>0.000000</td>\n",
       "      <td>0.000000</td>\n",
       "      <td>7.910400</td>\n",
       "    </tr>\n",
       "    <tr>\n",
       "      <th>50%</th>\n",
       "      <td>446.000000</td>\n",
       "      <td>0.000000</td>\n",
       "      <td>3.000000</td>\n",
       "      <td>28.000000</td>\n",
       "      <td>0.000000</td>\n",
       "      <td>0.000000</td>\n",
       "      <td>14.454200</td>\n",
       "    </tr>\n",
       "    <tr>\n",
       "      <th>75%</th>\n",
       "      <td>668.500000</td>\n",
       "      <td>1.000000</td>\n",
       "      <td>3.000000</td>\n",
       "      <td>38.000000</td>\n",
       "      <td>1.000000</td>\n",
       "      <td>0.000000</td>\n",
       "      <td>31.000000</td>\n",
       "    </tr>\n",
       "    <tr>\n",
       "      <th>max</th>\n",
       "      <td>891.000000</td>\n",
       "      <td>1.000000</td>\n",
       "      <td>3.000000</td>\n",
       "      <td>80.000000</td>\n",
       "      <td>8.000000</td>\n",
       "      <td>6.000000</td>\n",
       "      <td>512.329200</td>\n",
       "    </tr>\n",
       "  </tbody>\n",
       "</table>\n",
       "</div>"
      ],
      "text/plain": [
       "       PassengerId    Survived      Pclass         Age       SibSp  \\\n",
       "count   891.000000  891.000000  891.000000  714.000000  891.000000   \n",
       "mean    446.000000    0.383838    2.308642   29.699118    0.523008   \n",
       "std     257.353842    0.486592    0.836071   14.526497    1.102743   \n",
       "min       1.000000    0.000000    1.000000    0.420000    0.000000   \n",
       "25%     223.500000    0.000000    2.000000   20.125000    0.000000   \n",
       "50%     446.000000    0.000000    3.000000   28.000000    0.000000   \n",
       "75%     668.500000    1.000000    3.000000   38.000000    1.000000   \n",
       "max     891.000000    1.000000    3.000000   80.000000    8.000000   \n",
       "\n",
       "            Parch        Fare  \n",
       "count  891.000000  891.000000  \n",
       "mean     0.381594   32.204208  \n",
       "std      0.806057   49.693429  \n",
       "min      0.000000    0.000000  \n",
       "25%      0.000000    7.910400  \n",
       "50%      0.000000   14.454200  \n",
       "75%      0.000000   31.000000  \n",
       "max      6.000000  512.329200  "
      ]
     },
     "execution_count": 4,
     "metadata": {},
     "output_type": "execute_result"
    }
   ],
   "source": [
    "train.describe()"
   ]
  },
  {
   "cell_type": "code",
   "execution_count": 5,
   "metadata": {
    "execution": {
     "iopub.execute_input": "2020-08-12T06:06:46.749136Z",
     "iopub.status.busy": "2020-08-12T06:06:46.735894Z",
     "iopub.status.idle": "2020-08-12T06:06:49.052613Z",
     "shell.execute_reply": "2020-08-12T06:06:49.052031Z"
    },
    "papermill": {
     "duration": 2.354765,
     "end_time": "2020-08-12T06:06:49.052770",
     "exception": false,
     "start_time": "2020-08-12T06:06:46.698005",
     "status": "completed"
    },
    "tags": []
   },
   "outputs": [
    {
     "data": {
      "image/png": "[encoded data removed]",
      "text/plain": [
       "<Figure size 1080x1080 with 9 Axes>"
      ]
     },
     "metadata": {
      "needs_background": "light"
     },
     "output_type": "display_data"
    }
   ],
   "source": [
    "import matplotlib.pyplot as plt\n",
    "\n",
    "fig = plt.figure(figsize=(15,15))\n",
    "\n",
    "plt.subplot2grid((4,3),(0,0))\n",
    "train.Survived.value_counts(normalize=True).plot(kind='bar', alpha=.5)\n",
    "plt.title('Survived')\n",
    "\n",
    "plt.subplot2grid((4,3),(0,1))\n",
    "train.Pclass.value_counts(normalize=True).plot(kind='bar', alpha=.5)\n",
    "plt.title('Passenger Class')\n",
    "\n",
    "plt.subplot2grid((4,3),(0,2))\n",
    "train.SibSp.value_counts(normalize=True).plot(kind='bar', alpha=.5)\n",
    "plt.title('Siblings-Spouses')\n",
    "\n",
    "plt.subplot2grid((4,3),(1,0))\n",
    "train.Parch.value_counts(normalize=True).plot(kind='bar', alpha=.5)\n",
    "plt.title('Parents-Children')\n",
    "\n",
    "\n",
    "plt.subplot2grid((4,3),(1,1))\n",
    "train.Embarked.value_counts(normalize=True).plot(kind='bar', alpha=.5)\n",
    "plt.title('Embarked')\n",
    "\n",
    "plt.subplot2grid((4,3),(1,2))\n",
    "plt.scatter(train.Age, train.Survived, alpha=.2)\n",
    "plt.title('Age v.s. Survived')\n",
    "\n",
    "\n",
    "plt.subplot2grid((4,3),(2,0))\n",
    "for x in [1,2,3]:\n",
    "    train.Age[train.Pclass == x].plot(kind='kde')\n",
    "plt.title('Age v.s. Pclass')\n",
    "plt.legend(('Class1', 'Class2','Class3'))\n",
    "\n",
    "plt.subplot2grid((4,3),(2,1))\n",
    "plt.scatter(train.Fare, train.Pclass, alpha=.2)\n",
    "plt.title('Fare v.s. Pclass')\n",
    "\n",
    "plt.subplot2grid((4,3),(2,2))\n",
    "plt.scatter(train.Fare, train.Survived, alpha=.2)\n",
    "plt.title('Fare v.s. Survived')\n",
    "\n",
    "plt.show()"
   ]
  },
  {
   "cell_type": "code",
   "execution_count": 6,
   "metadata": {
    "execution": {
     "iopub.execute_input": "2020-08-12T06:06:49.128581Z",
     "iopub.status.busy": "2020-08-12T06:06:49.127486Z",
     "iopub.status.idle": "2020-08-12T06:06:49.314602Z",
     "shell.execute_reply": "2020-08-12T06:06:49.313977Z"
    },
    "papermill": {
     "duration": 0.230627,
     "end_time": "2020-08-12T06:06:49.314751",
     "exception": false,
     "start_time": "2020-08-12T06:06:49.084124",
     "status": "completed"
    },
    "tags": []
   },
   "outputs": [
    {
     "name": "stdout",
     "output_type": "stream",
     "text": [
      "Sex       female  male\n",
      "Survived              \n",
      "0             81   468\n",
      "1            233   109\n"
     ]
    },
    {
     "data": {
      "text/plain": [
       "Text(0.5, 1.0, 'Sex v.s. Survived')"
      ]
     },
     "execution_count": 6,
     "metadata": {},
     "output_type": "execute_result"
    },
    {
     "data": {
      "image/png": "[encoded data removed]",
      "text/plain": [
       "<Figure size 432x288 with 1 Axes>"
      ]
     },
     "metadata": {
      "needs_background": "light"
     },
     "output_type": "display_data"
    }
   ],
   "source": [
    "print(pd.pivot_table(train,values='PassengerId',index='Survived',\n",
    "                  columns='Sex',aggfunc='count'))\n",
    "\n",
    "Male_sur=train.Survived[train.Sex=='male'].value_counts()\n",
    "Female_sur=train.Survived[train.Sex=='female'].value_counts()\n",
    "sig_sex=pd.DataFrame({'Male':Male_sur,'Female':Female_sur})\n",
    "sig_sex.plot(kind='bar',stacked=True)\n",
    "plt.title('Sex v.s. Survived')"
   ]
  },
  {
   "cell_type": "code",
   "execution_count": 7,
   "metadata": {
    "execution": {
     "iopub.execute_input": "2020-08-12T06:06:49.398248Z",
     "iopub.status.busy": "2020-08-12T06:06:49.394329Z",
     "iopub.status.idle": "2020-08-12T06:06:49.588053Z",
     "shell.execute_reply": "2020-08-12T06:06:49.587336Z"
    },
    "papermill": {
     "duration": 0.240068,
     "end_time": "2020-08-12T06:06:49.588191",
     "exception": false,
     "start_time": "2020-08-12T06:06:49.348123",
     "status": "completed"
    },
    "tags": []
   },
   "outputs": [
    {
     "name": "stdout",
     "output_type": "stream",
     "text": [
      "Pclass      1   2    3\n",
      "Survived              \n",
      "0          80  97  372\n",
      "1         136  87  119\n"
     ]
    },
    {
     "data": {
      "text/plain": [
       "Text(0.5, 1.0, 'Class v.s. Survived')"
      ]
     },
     "execution_count": 7,
     "metadata": {},
     "output_type": "execute_result"
    },
    {
     "data": {
      "image/png": "[encoded data removed]",
      "text/plain": [
       "<Figure size 432x288 with 1 Axes>"
      ]
     },
     "metadata": {
      "needs_background": "light"
     },
     "output_type": "display_data"
    }
   ],
   "source": [
    "print(pd.pivot_table(train,values='PassengerId',index='Survived',\n",
    "                  columns='Pclass',aggfunc='count'))\n",
    "\n",
    "C1_sur=train.Survived[train.Pclass==1].value_counts()\n",
    "C2_sur=train.Survived[train.Pclass==2].value_counts()\n",
    "C3_sur=train.Survived[train.Pclass==3].value_counts()\n",
    "sig_class=pd.DataFrame({'Class 1':C1_sur,'Class 2':C2_sur,'Class 3':C3_sur})\n",
    "sig_class.plot(kind='bar',stacked=True)\n",
    "plt.title('Class v.s. Survived')"
   ]
  },
  {
   "cell_type": "code",
   "execution_count": 8,
   "metadata": {
    "execution": {
     "iopub.execute_input": "2020-08-12T06:06:49.771090Z",
     "iopub.status.busy": "2020-08-12T06:06:49.770148Z",
     "iopub.status.idle": "2020-08-12T06:06:50.547465Z",
     "shell.execute_reply": "2020-08-12T06:06:50.546716Z"
    },
    "papermill": {
     "duration": 0.924473,
     "end_time": "2020-08-12T06:06:50.547591",
     "exception": false,
     "start_time": "2020-08-12T06:06:49.623118",
     "status": "completed"
    },
    "tags": []
   },
   "outputs": [
    {
     "name": "stdout",
     "output_type": "stream",
     "text": [
      "Pclass            1   2    3\n",
      "Sex    Survived             \n",
      "female 0          3   6   72\n",
      "       1         91  70   72\n",
      "male   0         77  91  300\n",
      "       1         45  17   47\n"
     ]
    },
    {
     "data": {
      "text/plain": [
       "Text(0.5, 1.0, 'Unsurvived Male v.s. Unsurvived Female')"
      ]
     },
     "execution_count": 8,
     "metadata": {},
     "output_type": "execute_result"
    },
    {
     "data": {
      "image/png": "[encoded data removed]",
      "text/plain": [
       "<Figure size 720x720 with 6 Axes>"
      ]
     },
     "metadata": {
      "needs_background": "light"
     },
     "output_type": "display_data"
    }
   ],
   "source": [
    "print(pd.pivot_table(train,values='PassengerId',index=['Sex','Survived'],\n",
    "                  columns='Pclass',aggfunc='count'))\n",
    "\n",
    "\n",
    "C12_m_sur=train.Survived[train.Pclass!=3][train.Sex=='male'].value_counts()\n",
    "C3_m_sur=train.Survived[train.Pclass==3][train.Sex=='male'].value_counts()\n",
    "C12_f_sur=train.Survived[train.Pclass!=3][train.Sex=='female'].value_counts()\n",
    "C3_f_sur=train.Survived[train.Pclass==3][train.Sex=='female'].value_counts()\n",
    "\n",
    "fig = plt.figure(figsize=(10,10))\n",
    "plt.subplot2grid((3,2),(0,0))\n",
    "train.Survived[train.Pclass!=3][train.Sex=='male'].value_counts().plot(kind='bar',color='blue')\n",
    "plt.title('Poor Male v.s. Survived')\n",
    "\n",
    "plt.subplot2grid((3,2),(0,1))\n",
    "train.Survived[train.Pclass==3][train.Sex=='male'].value_counts().plot(kind='bar',color='blue')\n",
    "plt.title('Rich Male v.s. Survived')\n",
    "\n",
    "plt.subplot2grid((3,2),(1,0))\n",
    "train.Survived[train.Pclass!=3][train.Sex=='female'].value_counts().plot(kind='bar',color='red')\n",
    "plt.title('Poor Female v.s. Survived')\n",
    "\n",
    "plt.subplot2grid((3,2),(1,1))\n",
    "train.Survived[train.Pclass==3][train.Sex=='female'].value_counts().plot(kind='bar',color='red')\n",
    "plt.title('Rich Female v.s. Survived')\n",
    "\n",
    "plt.subplot2grid((3,2),(2,0))\n",
    "train.Sex[train.Survived==1].value_counts().plot(kind='bar', color=['blue', 'red'])\n",
    "plt.title('Survived Male v.s. Survived Female')\n",
    "\n",
    "plt.subplot2grid((3,2),(2,1))\n",
    "train.Sex[train.Survived==0].value_counts().plot(kind='bar', color=['blue', 'red'])\n",
    "plt.title('Unsurvived Male v.s. Unsurvived Female')\n"
   ]
  },
  {
   "cell_type": "code",
   "execution_count": 9,
   "metadata": {
    "execution": {
     "iopub.execute_input": "2020-08-12T06:06:50.638789Z",
     "iopub.status.busy": "2020-08-12T06:06:50.637424Z",
     "iopub.status.idle": "2020-08-12T06:06:51.114539Z",
     "shell.execute_reply": "2020-08-12T06:06:51.113798Z"
    },
    "papermill": {
     "duration": 0.529563,
     "end_time": "2020-08-12T06:06:51.114680",
     "exception": false,
     "start_time": "2020-08-12T06:06:50.585117",
     "status": "completed"
    },
    "tags": []
   },
   "outputs": [
    {
     "data": {
      "text/plain": [
       "<matplotlib.axes._subplots.AxesSubplot at 0x7f3210eb0850>"
      ]
     },
     "execution_count": 9,
     "metadata": {},
     "output_type": "execute_result"
    },
    {
     "data": {
      "image/png": "[encoded data removed]",
      "text/plain": [
       "<Figure size 576x576 with 2 Axes>"
      ]
     },
     "metadata": {
      "needs_background": "light"
     },
     "output_type": "display_data"
    }
   ],
   "source": [
    "import seaborn as sns\n",
    "\n",
    "dfc = train.copy()\n",
    "dfc = dfc.drop(['PassengerId','Survived'], axis=1)\n",
    "corr = dfc.corr()\n",
    "plt.figure(figsize=(8, 8))\n",
    "sns.heatmap(corr,cmap='viridis',vmax=1.0,vmin=-1.0,linewidths=0.1,annot=True, annot_kws={\"size\": 10}, square=True)"
   ]
  },
  {
   "cell_type": "code",
   "execution_count": 10,
   "metadata": {
    "execution": {
     "iopub.execute_input": "2020-08-12T06:06:51.217476Z",
     "iopub.status.busy": "2020-08-12T06:06:51.212243Z",
     "iopub.status.idle": "2020-08-12T06:06:52.297251Z",
     "shell.execute_reply": "2020-08-12T06:06:52.296531Z"
    },
    "papermill": {
     "duration": 1.143238,
     "end_time": "2020-08-12T06:06:52.297389",
     "exception": false,
     "start_time": "2020-08-12T06:06:51.154151",
     "status": "completed"
    },
    "tags": []
   },
   "outputs": [
    {
     "name": "stderr",
     "output_type": "stream",
     "text": [
      "/opt/conda/lib/python3.7/site-packages/pandas/core/indexing.py:671: SettingWithCopyWarning: \n",
      "A value is trying to be set on a copy of a slice from a DataFrame\n",
      "\n",
      "See the caveats in the documentation: https://pandas.pydata.org/pandas-docs/stable/user_guide/indexing.html#returning-a-view-versus-a-copy\n",
      "  self._setitem_with_indexer(indexer, value)\n"
     ]
    },
    {
     "name": "stdout",
     "output_type": "stream",
     "text": [
      "{'Sir', 'Jonkheer', 'Major', 'Capt', 'the Countess', 'Dona', 'Mrs', 'Master', 'Don', 'Dr', 'Lady', 'Mlle', 'Rev', 'Ms', 'Mr', 'Mme', 'Miss', 'Col'}\n",
      "Name_revised    0    1   2   3\n",
      "Survived                      \n",
      "0.0           436   81  17  15\n",
      "1.0            82  231  23   6\n"
     ]
    },
    {
     "data": {
      "image/png": "[encoded data removed]",
      "text/plain": [
       "<Figure size 432x288 with 1 Axes>"
      ]
     },
     "metadata": {
      "needs_background": "light"
     },
     "output_type": "display_data"
    }
   ],
   "source": [
    "import matplotlib.pyplot as plt\n",
    "\n",
    "\n",
    "\n",
    "alldata_set['Age_revised'] = alldata_set['Age'] \n",
    "nan_age_row = []\n",
    "nan_age_row = alldata_set['Age'][alldata_set['Age'].isnull()].index\n",
    "\n",
    "for i in nan_age_row:\n",
    "    group_median = alldata_set['Age'][(alldata_set['SibSp'] == alldata_set.iloc[i]['SibSp']) & (alldata_set['Pclass'] == alldata_set.iloc[i]['Pclass']) & (alldata_set['Parch'] == alldata_set.iloc[i]['Parch'])].median()\n",
    "    if np.isnan(group_median):\n",
    "        alldata_set['Age_revised'].iloc[i] = alldata_set['Age'].median()\n",
    "    else:\n",
    "        alldata_set['Age_revised'].iloc[i] = group_median\n",
    "    #print('Missing Age at row: ',i,', fill with value: ', alldata_set['Age_revised'].iloc[i])\n",
    "    \n",
    "    \n",
    "\n",
    "    \n",
    "alldata_set['Fare_revised'] = alldata_set['Fare'].fillna(alldata_set['Fare'].median())\n",
    "alldata_set['Fare_revised'].isnull().sum()\n",
    "alldata_set['Fare_revised'] = alldata_set.Fare_revised.map(lambda x: np.log(x) if x>0 else 0)\n",
    "\n",
    "\n",
    "\n",
    "\n",
    "\n",
    "names = set() # adds a given element to a set if the element is not present in the set\n",
    "for name in alldata_set['Name']:\n",
    "    names.add(name.split(',')[1].split('.')[0].strip())\n",
    "print(names)\n",
    "alldata_set['Name_revised'] = alldata_set['Name'].map(lambda x:x.split(',')[1].split('.')[0].strip())\n",
    "alldata_set.Name_revised.value_counts().plot(kind='bar')\n",
    "alldata_set['Name_revised'] = alldata_set['Name_revised'].replace(['Dr','Rev','Col','Major','Dona','Jonkheer','the Countess','Don','Capt'], 'Specialist')\n",
    "alldata_set['Name_revised'] = alldata_set['Name_revised'].map({'Mr':0, 'Sir':0, 'Miss':1, \n",
    "                                                 'Mrs':1, 'Ms': 1 , \n",
    "                                                 'Mlle':1, 'Mme':1, \n",
    "                                                 'Lady':1,'Master':2,\n",
    "                                                 'Specialist':3})\n",
    "alldata_set.Name_revised.value_counts().plot(kind='bar')\n",
    "print(pd.pivot_table(alldata_set,values= 'PassengerId', index='Survived',\n",
    "                  columns='Name_revised',aggfunc='count'))\n",
    "\n",
    "\n",
    "alldata_set['FS'] = alldata_set[\"SibSp\"] + alldata_set[\"Parch\"] + 1\n",
    "alldata_set['SL'] = alldata_set['FS'].map(lambda x: 1 if x == 1 else 0)\n",
    "alldata_set['SM'] = alldata_set['FS'].map(lambda x: 1 if  x == 2  else 0)\n",
    "alldata_set['ME'] = alldata_set['FS'].map(lambda x: 1 if 3 <= x <= 4 else 0)\n",
    "alldata_set['LG'] = alldata_set['FS'].map(lambda x: 1 if x >= 5 else 0)\n",
    "pd.pivot_table(alldata_set,values= 'PassengerId', index='Survived',\n",
    "                  columns=['SL','SM','ME','LG'],aggfunc='count')\n",
    "\n",
    "\n",
    "\n",
    "\n",
    "\n",
    "\n",
    "alldata_set['Cabin_revised'] = alldata_set['Cabin'] \n",
    "\n",
    "#Cabin_row = []\n",
    "#Cabin_row = alldata_set['Cabin'].index\n",
    "#print(Cabin_row)\n",
    "\n",
    "#count1=int(0)\n",
    "#count2=int(0)\n",
    "#for i in Cabin_row:\n",
    "#    if pd.isnull(alldata_set['Cabin'].iloc[i]):\n",
    "#        alldata_set['Cabin_revised'].iloc[i]='N'\n",
    "#        count1=count1+1\n",
    "#    else:\n",
    "#        alldata_set['Cabin_revised'].iloc[i]=alldata_set['Cabin'].iloc[i][0]\n",
    "#        count2=count2+1\n",
    "#print('Missing Cabin count: ',count1,', Existing cabin count: ',count2)\n",
    "\n",
    "alldata_set[\"Cabin_revised\"] = pd.Series(['N' if pd.isnull(i) else i[0] for i in alldata_set['Cabin'] ])\n",
    "alldata_set.Cabin_revised.value_counts().plot(kind='bar')\n",
    "\n",
    "\n",
    "\n",
    "\n",
    "alldata_set['Ticket_revised'] = alldata_set['Ticket'] \n",
    "#Ticket_row = []\n",
    "#Ticket_row = alldata_set['Ticket'].index\n",
    "#print(Ticket_row)\n",
    "\n",
    "#for i in Cabin_row:\n",
    "#    if alldata_set['Ticket'].iloc[i].isdigit():\n",
    "#        alldata_set['Ticket_revised'].iloc[i]='N'\n",
    "#    else:\n",
    "#        alldata_set['Ticket_revised'].iloc[i]=alldata_set['Ticket'].iloc[i].replace('.','').replace('/','').strip().split(' ')[0]\n",
    "\n",
    "alldata_set[\"Ticket_revised\"] = pd.Series(['N' if i.isdigit() else i.replace(\".\",\"\").replace(\"/\",\"\").strip().split(' ')[0] for i in alldata_set['Ticket'] ])\n",
    "alldata_set.Ticket_revised.value_counts().plot(kind='bar')\n",
    "\n",
    "\n",
    "\n",
    "\n",
    "alldata_set['Embarked_revised'] = alldata_set['Embarked']\n",
    "alldata_set.Embarked_revised.fillna('S', inplace=True) # replace with the most frequent one. Use train.Embarked.value_counts()\n",
    "alldata_set['Sex_revised'] = alldata_set['Sex']\n",
    "alldata_set['Sex_revised'] = alldata_set['Sex_revised'].map({'male':0, 'female':1})\n",
    "\n",
    "\n"
   ]
  },
  {
   "cell_type": "code",
   "execution_count": 11,
   "metadata": {
    "execution": {
     "iopub.execute_input": "2020-08-12T06:06:52.398423Z",
     "iopub.status.busy": "2020-08-12T06:06:52.389155Z",
     "iopub.status.idle": "2020-08-12T06:06:52.401890Z",
     "shell.execute_reply": "2020-08-12T06:06:52.401225Z"
    },
    "papermill": {
     "duration": 0.063944,
     "end_time": "2020-08-12T06:06:52.402032",
     "exception": false,
     "start_time": "2020-08-12T06:06:52.338088",
     "status": "completed"
    },
    "tags": []
   },
   "outputs": [],
   "source": [
    "alldata_set.drop(labels = ['Fare'], axis = 1, inplace = True)\n",
    "alldata_set.drop(labels = ['Name'], axis = 1, inplace = True)\n",
    "alldata_set.drop(labels = ['Cabin'], axis = 1, inplace = True)\n",
    "alldata_set.drop(labels = ['Ticket'], axis = 1, inplace = True)\n",
    "alldata_set.drop(labels = ['Age'], axis = 1, inplace = True)\n",
    "alldata_set.drop(labels = ['Embarked'], axis = 1, inplace = True)\n",
    "alldata_set.drop(labels = ['Sex'], axis = 1, inplace = True)"
   ]
  },
  {
   "cell_type": "code",
   "execution_count": 12,
   "metadata": {
    "execution": {
     "iopub.execute_input": "2020-08-12T06:06:52.496271Z",
     "iopub.status.busy": "2020-08-12T06:06:52.494715Z",
     "iopub.status.idle": "2020-08-12T06:06:52.503334Z",
     "shell.execute_reply": "2020-08-12T06:06:52.502713Z"
    },
    "papermill": {
     "duration": 0.060518,
     "end_time": "2020-08-12T06:06:52.503465",
     "exception": false,
     "start_time": "2020-08-12T06:06:52.442947",
     "status": "completed"
    },
    "tags": []
   },
   "outputs": [],
   "source": [
    "dummy_Name = pd.get_dummies(alldata_set['Name_revised'], prefix= 'Name')\n",
    "dummy_Cabin = pd.get_dummies(alldata_set['Cabin_revised'], prefix= 'Cabin')\n",
    "dummy_Ticket = pd.get_dummies(alldata_set['Ticket_revised'], prefix= 'Ticket')\n",
    "dummy_Embarked = pd.get_dummies(alldata_set['Embarked_revised'], prefix= 'Embarked')\n",
    "dummy_Pclass = pd.get_dummies(alldata_set['Pclass'], prefix= 'Pclass')"
   ]
  },
  {
   "cell_type": "code",
   "execution_count": 13,
   "metadata": {
    "execution": {
     "iopub.execute_input": "2020-08-12T06:06:52.595105Z",
     "iopub.status.busy": "2020-08-12T06:06:52.594241Z",
     "iopub.status.idle": "2020-08-12T06:06:52.599558Z",
     "shell.execute_reply": "2020-08-12T06:06:52.598806Z"
    },
    "papermill": {
     "duration": 0.055108,
     "end_time": "2020-08-12T06:06:52.599708",
     "exception": false,
     "start_time": "2020-08-12T06:06:52.544600",
     "status": "completed"
    },
    "tags": []
   },
   "outputs": [
    {
     "name": "stdout",
     "output_type": "stream",
     "text": [
      "(1309, 73)\n"
     ]
    }
   ],
   "source": [
    "alldata_set = pd.concat([alldata_set, dummy_Pclass, dummy_Name, dummy_Cabin, dummy_Ticket,dummy_Embarked],axis=1)\n",
    "print(alldata_set.shape)"
   ]
  },
  {
   "cell_type": "code",
   "execution_count": 14,
   "metadata": {
    "execution": {
     "iopub.execute_input": "2020-08-12T06:06:52.695466Z",
     "iopub.status.busy": "2020-08-12T06:06:52.694295Z",
     "iopub.status.idle": "2020-08-12T06:06:52.706588Z",
     "shell.execute_reply": "2020-08-12T06:06:52.705965Z"
    },
    "papermill": {
     "duration": 0.065132,
     "end_time": "2020-08-12T06:06:52.706742",
     "exception": false,
     "start_time": "2020-08-12T06:06:52.641610",
     "status": "completed"
    },
    "tags": []
   },
   "outputs": [],
   "source": [
    "alldata_set.drop(labels = ['PassengerId'], axis = 1, inplace = True)\n",
    "alldata_set.drop(labels = ['Name_revised'], axis = 1, inplace = True)\n",
    "alldata_set.drop(labels = ['Cabin_revised'], axis = 1, inplace = True)\n",
    "alldata_set.drop(labels = ['Ticket_revised'], axis = 1, inplace = True)\n",
    "alldata_set.drop(labels = ['Embarked_revised'], axis = 1, inplace = True)\n",
    "alldata_set.drop(labels = ['Pclass'], axis = 1, inplace = True)"
   ]
  },
  {
   "cell_type": "code",
   "execution_count": 15,
   "metadata": {
    "execution": {
     "iopub.execute_input": "2020-08-12T06:06:52.796704Z",
     "iopub.status.busy": "2020-08-12T06:06:52.795729Z",
     "iopub.status.idle": "2020-08-12T06:06:52.799414Z",
     "shell.execute_reply": "2020-08-12T06:06:52.800002Z"
    },
    "papermill": {
     "duration": 0.051741,
     "end_time": "2020-08-12T06:06:52.800172",
     "exception": false,
     "start_time": "2020-08-12T06:06:52.748431",
     "status": "completed"
    },
    "tags": []
   },
   "outputs": [
    {
     "name": "stdout",
     "output_type": "stream",
     "text": [
      "(1309, 67)\n"
     ]
    }
   ],
   "source": [
    "print(alldata_set.shape)\n",
    "#cols = alldata_set.columns.tolist()\n",
    "#cols"
   ]
  },
  {
   "cell_type": "code",
   "execution_count": 16,
   "metadata": {
    "execution": {
     "iopub.execute_input": "2020-08-12T06:06:52.901558Z",
     "iopub.status.busy": "2020-08-12T06:06:52.898323Z",
     "iopub.status.idle": "2020-08-12T06:06:52.915338Z",
     "shell.execute_reply": "2020-08-12T06:06:52.914714Z"
    },
    "papermill": {
     "duration": 0.072765,
     "end_time": "2020-08-12T06:06:52.915469",
     "exception": false,
     "start_time": "2020-08-12T06:06:52.842704",
     "status": "completed"
    },
    "tags": []
   },
   "outputs": [
    {
     "data": {
      "text/html": [
       "<div>\n",
       "<style scoped>\n",
       "    .dataframe tbody tr th:only-of-type {\n",
       "        vertical-align: middle;\n",
       "    }\n",
       "\n",
       "    .dataframe tbody tr th {\n",
       "        vertical-align: top;\n",
       "    }\n",
       "\n",
       "    .dataframe thead th {\n",
       "        text-align: right;\n",
       "    }\n",
       "</style>\n",
       "<table border=\"1\" class=\"dataframe\">\n",
       "  <thead>\n",
       "    <tr style=\"text-align: right;\">\n",
       "      <th></th>\n",
       "      <th>Survived</th>\n",
       "      <th>SibSp</th>\n",
       "      <th>Parch</th>\n",
       "      <th>Age_revised</th>\n",
       "      <th>Fare_revised</th>\n",
       "      <th>FS</th>\n",
       "      <th>SL</th>\n",
       "      <th>SM</th>\n",
       "      <th>ME</th>\n",
       "      <th>LG</th>\n",
       "      <th>...</th>\n",
       "      <th>Ticket_SP</th>\n",
       "      <th>Ticket_STONO</th>\n",
       "      <th>Ticket_STONO2</th>\n",
       "      <th>Ticket_STONOQ</th>\n",
       "      <th>Ticket_SWPP</th>\n",
       "      <th>Ticket_WC</th>\n",
       "      <th>Ticket_WEP</th>\n",
       "      <th>Embarked_C</th>\n",
       "      <th>Embarked_Q</th>\n",
       "      <th>Embarked_S</th>\n",
       "    </tr>\n",
       "  </thead>\n",
       "  <tbody>\n",
       "    <tr>\n",
       "      <th>0</th>\n",
       "      <td>0.0</td>\n",
       "      <td>1</td>\n",
       "      <td>0</td>\n",
       "      <td>22.0</td>\n",
       "      <td>1.981001</td>\n",
       "      <td>2</td>\n",
       "      <td>0</td>\n",
       "      <td>1</td>\n",
       "      <td>0</td>\n",
       "      <td>0</td>\n",
       "      <td>...</td>\n",
       "      <td>0</td>\n",
       "      <td>0</td>\n",
       "      <td>0</td>\n",
       "      <td>0</td>\n",
       "      <td>0</td>\n",
       "      <td>0</td>\n",
       "      <td>0</td>\n",
       "      <td>0</td>\n",
       "      <td>0</td>\n",
       "      <td>1</td>\n",
       "    </tr>\n",
       "    <tr>\n",
       "      <th>1</th>\n",
       "      <td>1.0</td>\n",
       "      <td>1</td>\n",
       "      <td>0</td>\n",
       "      <td>38.0</td>\n",
       "      <td>4.266662</td>\n",
       "      <td>2</td>\n",
       "      <td>0</td>\n",
       "      <td>1</td>\n",
       "      <td>0</td>\n",
       "      <td>0</td>\n",
       "      <td>...</td>\n",
       "      <td>0</td>\n",
       "      <td>0</td>\n",
       "      <td>0</td>\n",
       "      <td>0</td>\n",
       "      <td>0</td>\n",
       "      <td>0</td>\n",
       "      <td>0</td>\n",
       "      <td>1</td>\n",
       "      <td>0</td>\n",
       "      <td>0</td>\n",
       "    </tr>\n",
       "    <tr>\n",
       "      <th>2</th>\n",
       "      <td>1.0</td>\n",
       "      <td>0</td>\n",
       "      <td>0</td>\n",
       "      <td>26.0</td>\n",
       "      <td>2.070022</td>\n",
       "      <td>1</td>\n",
       "      <td>1</td>\n",
       "      <td>0</td>\n",
       "      <td>0</td>\n",
       "      <td>0</td>\n",
       "      <td>...</td>\n",
       "      <td>0</td>\n",
       "      <td>0</td>\n",
       "      <td>1</td>\n",
       "      <td>0</td>\n",
       "      <td>0</td>\n",
       "      <td>0</td>\n",
       "      <td>0</td>\n",
       "      <td>0</td>\n",
       "      <td>0</td>\n",
       "      <td>1</td>\n",
       "    </tr>\n",
       "    <tr>\n",
       "      <th>3</th>\n",
       "      <td>1.0</td>\n",
       "      <td>1</td>\n",
       "      <td>0</td>\n",
       "      <td>35.0</td>\n",
       "      <td>3.972177</td>\n",
       "      <td>2</td>\n",
       "      <td>0</td>\n",
       "      <td>1</td>\n",
       "      <td>0</td>\n",
       "      <td>0</td>\n",
       "      <td>...</td>\n",
       "      <td>0</td>\n",
       "      <td>0</td>\n",
       "      <td>0</td>\n",
       "      <td>0</td>\n",
       "      <td>0</td>\n",
       "      <td>0</td>\n",
       "      <td>0</td>\n",
       "      <td>0</td>\n",
       "      <td>0</td>\n",
       "      <td>1</td>\n",
       "    </tr>\n",
       "    <tr>\n",
       "      <th>4</th>\n",
       "      <td>0.0</td>\n",
       "      <td>0</td>\n",
       "      <td>0</td>\n",
       "      <td>35.0</td>\n",
       "      <td>2.085672</td>\n",
       "      <td>1</td>\n",
       "      <td>1</td>\n",
       "      <td>0</td>\n",
       "      <td>0</td>\n",
       "      <td>0</td>\n",
       "      <td>...</td>\n",
       "      <td>0</td>\n",
       "      <td>0</td>\n",
       "      <td>0</td>\n",
       "      <td>0</td>\n",
       "      <td>0</td>\n",
       "      <td>0</td>\n",
       "      <td>0</td>\n",
       "      <td>0</td>\n",
       "      <td>0</td>\n",
       "      <td>1</td>\n",
       "    </tr>\n",
       "  </tbody>\n",
       "</table>\n",
       "<p>5 rows × 67 columns</p>\n",
       "</div>"
      ],
      "text/plain": [
       "   Survived  SibSp  Parch  Age_revised  Fare_revised  FS  SL  SM  ME  LG  ...  \\\n",
       "0       0.0      1      0         22.0      1.981001   2   0   1   0   0  ...   \n",
       "1       1.0      1      0         38.0      4.266662   2   0   1   0   0  ...   \n",
       "2       1.0      0      0         26.0      2.070022   1   1   0   0   0  ...   \n",
       "3       1.0      1      0         35.0      3.972177   2   0   1   0   0  ...   \n",
       "4       0.0      0      0         35.0      2.085672   1   1   0   0   0  ...   \n",
       "\n",
       "   Ticket_SP  Ticket_STONO  Ticket_STONO2  Ticket_STONOQ  Ticket_SWPP  \\\n",
       "0          0             0              0              0            0   \n",
       "1          0             0              0              0            0   \n",
       "2          0             0              1              0            0   \n",
       "3          0             0              0              0            0   \n",
       "4          0             0              0              0            0   \n",
       "\n",
       "   Ticket_WC  Ticket_WEP  Embarked_C  Embarked_Q  Embarked_S  \n",
       "0          0           0           0           0           1  \n",
       "1          0           0           1           0           0  \n",
       "2          0           0           0           0           1  \n",
       "3          0           0           0           0           1  \n",
       "4          0           0           0           0           1  \n",
       "\n",
       "[5 rows x 67 columns]"
      ]
     },
     "execution_count": 16,
     "metadata": {},
     "output_type": "execute_result"
    }
   ],
   "source": [
    "alldata_set.head()"
   ]
  },
  {
   "cell_type": "code",
   "execution_count": 17,
   "metadata": {
    "execution": {
     "iopub.execute_input": "2020-08-12T06:06:53.010528Z",
     "iopub.status.busy": "2020-08-12T06:06:53.009763Z",
     "iopub.status.idle": "2020-08-12T06:06:53.013235Z",
     "shell.execute_reply": "2020-08-12T06:06:53.012456Z"
    },
    "papermill": {
     "duration": 0.054527,
     "end_time": "2020-08-12T06:06:53.013368",
     "exception": false,
     "start_time": "2020-08-12T06:06:52.958841",
     "status": "completed"
    },
    "tags": []
   },
   "outputs": [],
   "source": [
    "y_train = alldata_set['Survived'][:891].astype(int)\n",
    "X_train = alldata_set[:891]\n",
    "X_test = alldata_set[891:]"
   ]
  },
  {
   "cell_type": "code",
   "execution_count": 18,
   "metadata": {
    "execution": {
     "iopub.execute_input": "2020-08-12T06:06:53.109361Z",
     "iopub.status.busy": "2020-08-12T06:06:53.108443Z",
     "iopub.status.idle": "2020-08-12T06:06:53.117859Z",
     "shell.execute_reply": "2020-08-12T06:06:53.119031Z"
    },
    "papermill": {
     "duration": 0.062067,
     "end_time": "2020-08-12T06:06:53.119262",
     "exception": false,
     "start_time": "2020-08-12T06:06:53.057195",
     "status": "completed"
    },
    "tags": []
   },
   "outputs": [
    {
     "name": "stderr",
     "output_type": "stream",
     "text": [
      "/opt/conda/lib/python3.7/site-packages/pandas/core/frame.py:3997: SettingWithCopyWarning: \n",
      "A value is trying to be set on a copy of a slice from a DataFrame\n",
      "\n",
      "See the caveats in the documentation: https://pandas.pydata.org/pandas-docs/stable/user_guide/indexing.html#returning-a-view-versus-a-copy\n",
      "  errors=errors,\n"
     ]
    }
   ],
   "source": [
    "X_train.drop(labels = 'Survived', axis = 1, inplace = True)\n",
    "X_test.drop(labels = 'Survived', axis = 1, inplace = True)"
   ]
  },
  {
   "cell_type": "code",
   "execution_count": 19,
   "metadata": {
    "execution": {
     "iopub.execute_input": "2020-08-12T06:06:53.215841Z",
     "iopub.status.busy": "2020-08-12T06:06:53.214847Z",
     "iopub.status.idle": "2020-08-12T06:06:53.218336Z",
     "shell.execute_reply": "2020-08-12T06:06:53.218920Z"
    },
    "papermill": {
     "duration": 0.053881,
     "end_time": "2020-08-12T06:06:53.219076",
     "exception": false,
     "start_time": "2020-08-12T06:06:53.165195",
     "status": "completed"
    },
    "tags": []
   },
   "outputs": [
    {
     "name": "stdout",
     "output_type": "stream",
     "text": [
      "(891, 66)\n",
      "(891,)\n",
      "(418, 66)\n"
     ]
    }
   ],
   "source": [
    "print(X_train.shape)\n",
    "print(y_train.shape)\n",
    "print(X_test.shape)"
   ]
  },
  {
   "cell_type": "code",
   "execution_count": 20,
   "metadata": {
    "execution": {
     "iopub.execute_input": "2020-08-12T06:06:53.316947Z",
     "iopub.status.busy": "2020-08-12T06:06:53.316088Z",
     "iopub.status.idle": "2020-08-12T06:06:53.634727Z",
     "shell.execute_reply": "2020-08-12T06:06:53.633887Z"
    },
    "papermill": {
     "duration": 0.370846,
     "end_time": "2020-08-12T06:06:53.634861",
     "exception": false,
     "start_time": "2020-08-12T06:06:53.264015",
     "status": "completed"
    },
    "tags": []
   },
   "outputs": [],
   "source": [
    "from sklearn.model_selection import cross_val_score,StratifiedKFold\n",
    "from sklearn import model_selection\n",
    "from sklearn import tree\n",
    "from sklearn.linear_model import LogisticRegression\n",
    "from sklearn.ensemble import AdaBoostClassifier  \n",
    "from sklearn.ensemble import GradientBoostingClassifier\n",
    "from sklearn.ensemble import RandomForestClassifier\n",
    "from sklearn.ensemble import VotingClassifier\n",
    "from sklearn.neighbors import KNeighborsClassifier\n",
    "from sklearn.svm import SVC"
   ]
  },
  {
   "cell_type": "code",
   "execution_count": 21,
   "metadata": {
    "execution": {
     "iopub.execute_input": "2020-08-12T06:06:53.739739Z",
     "iopub.status.busy": "2020-08-12T06:06:53.738575Z",
     "iopub.status.idle": "2020-08-12T06:07:04.038840Z",
     "shell.execute_reply": "2020-08-12T06:07:04.038141Z"
    },
    "papermill": {
     "duration": 10.358655,
     "end_time": "2020-08-12T06:07:04.038993",
     "exception": false,
     "start_time": "2020-08-12T06:06:53.680338",
     "status": "completed"
    },
    "tags": []
   },
   "outputs": [
    {
     "name": "stdout",
     "output_type": "stream",
     "text": [
      "LR\n"
     ]
    },
    {
     "name": "stderr",
     "output_type": "stream",
     "text": [
      "/opt/conda/lib/python3.7/site-packages/sklearn/linear_model/_logistic.py:764: ConvergenceWarning: lbfgs failed to converge (status=1):\n",
      "STOP: TOTAL NO. of ITERATIONS REACHED LIMIT.\n",
      "\n",
      "Increase the number of iterations (max_iter) or scale the data as shown in:\n",
      "    https://scikit-learn.org/stable/modules/preprocessing.html\n",
      "Please also refer to the documentation for alternative solver options:\n",
      "    https://scikit-learn.org/stable/modules/linear_model.html#logistic-regression\n",
      "  extra_warning_msg=_LOGISTIC_SOLVER_CONVERGENCE_MSG)\n",
      "/opt/conda/lib/python3.7/site-packages/sklearn/linear_model/_logistic.py:764: ConvergenceWarning: lbfgs failed to converge (status=1):\n",
      "STOP: TOTAL NO. of ITERATIONS REACHED LIMIT.\n",
      "\n",
      "Increase the number of iterations (max_iter) or scale the data as shown in:\n",
      "    https://scikit-learn.org/stable/modules/preprocessing.html\n",
      "Please also refer to the documentation for alternative solver options:\n",
      "    https://scikit-learn.org/stable/modules/linear_model.html#logistic-regression\n",
      "  extra_warning_msg=_LOGISTIC_SOLVER_CONVERGENCE_MSG)\n",
      "/opt/conda/lib/python3.7/site-packages/sklearn/linear_model/_logistic.py:764: ConvergenceWarning: lbfgs failed to converge (status=1):\n",
      "STOP: TOTAL NO. of ITERATIONS REACHED LIMIT.\n",
      "\n",
      "Increase the number of iterations (max_iter) or scale the data as shown in:\n",
      "    https://scikit-learn.org/stable/modules/preprocessing.html\n",
      "Please also refer to the documentation for alternative solver options:\n",
      "    https://scikit-learn.org/stable/modules/linear_model.html#logistic-regression\n",
      "  extra_warning_msg=_LOGISTIC_SOLVER_CONVERGENCE_MSG)\n",
      "/opt/conda/lib/python3.7/site-packages/sklearn/linear_model/_logistic.py:764: ConvergenceWarning: lbfgs failed to converge (status=1):\n",
      "STOP: TOTAL NO. of ITERATIONS REACHED LIMIT.\n",
      "\n",
      "Increase the number of iterations (max_iter) or scale the data as shown in:\n",
      "    https://scikit-learn.org/stable/modules/preprocessing.html\n",
      "Please also refer to the documentation for alternative solver options:\n",
      "    https://scikit-learn.org/stable/modules/linear_model.html#logistic-regression\n",
      "  extra_warning_msg=_LOGISTIC_SOLVER_CONVERGENCE_MSG)\n",
      "/opt/conda/lib/python3.7/site-packages/sklearn/linear_model/_logistic.py:764: ConvergenceWarning: lbfgs failed to converge (status=1):\n",
      "STOP: TOTAL NO. of ITERATIONS REACHED LIMIT.\n",
      "\n",
      "Increase the number of iterations (max_iter) or scale the data as shown in:\n",
      "    https://scikit-learn.org/stable/modules/preprocessing.html\n",
      "Please also refer to the documentation for alternative solver options:\n",
      "    https://scikit-learn.org/stable/modules/linear_model.html#logistic-regression\n",
      "  extra_warning_msg=_LOGISTIC_SOLVER_CONVERGENCE_MSG)\n",
      "/opt/conda/lib/python3.7/site-packages/sklearn/linear_model/_logistic.py:764: ConvergenceWarning: lbfgs failed to converge (status=1):\n",
      "STOP: TOTAL NO. of ITERATIONS REACHED LIMIT.\n",
      "\n",
      "Increase the number of iterations (max_iter) or scale the data as shown in:\n",
      "    https://scikit-learn.org/stable/modules/preprocessing.html\n",
      "Please also refer to the documentation for alternative solver options:\n",
      "    https://scikit-learn.org/stable/modules/linear_model.html#logistic-regression\n",
      "  extra_warning_msg=_LOGISTIC_SOLVER_CONVERGENCE_MSG)\n",
      "/opt/conda/lib/python3.7/site-packages/sklearn/linear_model/_logistic.py:764: ConvergenceWarning: lbfgs failed to converge (status=1):\n",
      "STOP: TOTAL NO. of ITERATIONS REACHED LIMIT.\n",
      "\n",
      "Increase the number of iterations (max_iter) or scale the data as shown in:\n",
      "    https://scikit-learn.org/stable/modules/preprocessing.html\n",
      "Please also refer to the documentation for alternative solver options:\n",
      "    https://scikit-learn.org/stable/modules/linear_model.html#logistic-regression\n",
      "  extra_warning_msg=_LOGISTIC_SOLVER_CONVERGENCE_MSG)\n",
      "/opt/conda/lib/python3.7/site-packages/sklearn/linear_model/_logistic.py:764: ConvergenceWarning: lbfgs failed to converge (status=1):\n",
      "STOP: TOTAL NO. of ITERATIONS REACHED LIMIT.\n",
      "\n",
      "Increase the number of iterations (max_iter) or scale the data as shown in:\n",
      "    https://scikit-learn.org/stable/modules/preprocessing.html\n",
      "Please also refer to the documentation for alternative solver options:\n",
      "    https://scikit-learn.org/stable/modules/linear_model.html#logistic-regression\n",
      "  extra_warning_msg=_LOGISTIC_SOLVER_CONVERGENCE_MSG)\n",
      "/opt/conda/lib/python3.7/site-packages/sklearn/linear_model/_logistic.py:764: ConvergenceWarning: lbfgs failed to converge (status=1):\n",
      "STOP: TOTAL NO. of ITERATIONS REACHED LIMIT.\n",
      "\n",
      "Increase the number of iterations (max_iter) or scale the data as shown in:\n",
      "    https://scikit-learn.org/stable/modules/preprocessing.html\n",
      "Please also refer to the documentation for alternative solver options:\n",
      "    https://scikit-learn.org/stable/modules/linear_model.html#logistic-regression\n",
      "  extra_warning_msg=_LOGISTIC_SOLVER_CONVERGENCE_MSG)\n",
      "/opt/conda/lib/python3.7/site-packages/sklearn/linear_model/_logistic.py:764: ConvergenceWarning: lbfgs failed to converge (status=1):\n",
      "STOP: TOTAL NO. of ITERATIONS REACHED LIMIT.\n",
      "\n",
      "Increase the number of iterations (max_iter) or scale the data as shown in:\n",
      "    https://scikit-learn.org/stable/modules/preprocessing.html\n",
      "Please also refer to the documentation for alternative solver options:\n",
      "    https://scikit-learn.org/stable/modules/linear_model.html#logistic-regression\n",
      "  extra_warning_msg=_LOGISTIC_SOLVER_CONVERGENCE_MSG)\n"
     ]
    },
    {
     "name": "stdout",
     "output_type": "stream",
     "text": [
      "mean score is:  0.8294132334581773\n",
      "\n",
      "\n",
      "RF\n",
      "mean score is:  0.8114981273408238\n",
      "\n",
      "\n",
      "GB\n",
      "mean score is:  0.8361423220973784\n",
      "\n",
      "\n",
      "ADB\n",
      "mean score is:  0.8013732833957553\n",
      "\n",
      "\n",
      "DT\n",
      "mean score is:  0.8003121098626715\n",
      "\n",
      "\n",
      "KNN\n",
      "mean score is:  0.7991510611735332\n",
      "\n",
      "\n",
      "SVC\n",
      "mean score is:  0.7295630461922598\n",
      "\n",
      "\n"
     ]
    }
   ],
   "source": [
    "models = []\n",
    "results = []\n",
    "names = []\n",
    "\n",
    "models.append(('LR', LogisticRegression()))\n",
    "models.append(('RF', RandomForestClassifier()))\n",
    "models.append(('GB', GradientBoostingClassifier()))\n",
    "models.append(('ADB', AdaBoostClassifier(tree.DecisionTreeClassifier(random_state = 1),random_state=1)))\n",
    "models.append(('DT', tree.DecisionTreeClassifier()))\n",
    "models.append(('KNN', KNeighborsClassifier()))\n",
    "models.append(('SVC', SVC()))\n",
    "\n",
    "\n",
    "kfold = StratifiedKFold(n_splits=10)\n",
    "\n",
    "for name, model in models:\n",
    "    print(name)\n",
    "    score = cross_val_score(model, X_train, y_train, cv = kfold, scoring='accuracy')\n",
    "    print('mean score is: ', score.mean())\n",
    "    results.append(score)\n",
    "    names.append(name)\n",
    "    print('\\n')"
   ]
  },
  {
   "cell_type": "code",
   "execution_count": 22,
   "metadata": {
    "execution": {
     "iopub.execute_input": "2020-08-12T06:07:04.156605Z",
     "iopub.status.busy": "2020-08-12T06:07:04.153931Z",
     "iopub.status.idle": "2020-08-12T06:07:04.490414Z",
     "shell.execute_reply": "2020-08-12T06:07:04.489740Z"
    },
    "papermill": {
     "duration": 0.400534,
     "end_time": "2020-08-12T06:07:04.490544",
     "exception": false,
     "start_time": "2020-08-12T06:07:04.090010",
     "status": "completed"
    },
    "tags": []
   },
   "outputs": [
    {
     "data": {
      "image/png": "[encoded data removed]",
      "text/plain": [
       "<Figure size 432x288 with 1 Axes>"
      ]
     },
     "metadata": {
      "needs_background": "light"
     },
     "output_type": "display_data"
    }
   ],
   "source": [
    "fig = plt.figure()\n",
    "fig.suptitle('Algorithm Performances')\n",
    "ax = fig.add_subplot(111)\n",
    "plt.boxplot(results)\n",
    "ax.set_xticklabels(names)\n",
    "plt.show()"
   ]
  },
  {
   "cell_type": "code",
   "execution_count": 23,
   "metadata": {
    "execution": {
     "iopub.execute_input": "2020-08-12T06:07:04.598903Z",
     "iopub.status.busy": "2020-08-12T06:07:04.597902Z",
     "iopub.status.idle": "2020-08-12T06:07:04.601285Z",
     "shell.execute_reply": "2020-08-12T06:07:04.600478Z"
    },
    "papermill": {
     "duration": 0.059426,
     "end_time": "2020-08-12T06:07:04.601433",
     "exception": false,
     "start_time": "2020-08-12T06:07:04.542007",
     "status": "completed"
    },
    "tags": []
   },
   "outputs": [],
   "source": [
    "from sklearn.model_selection import GridSearchCV"
   ]
  },
  {
   "cell_type": "code",
   "execution_count": 24,
   "metadata": {
    "execution": {
     "iopub.execute_input": "2020-08-12T06:07:04.715553Z",
     "iopub.status.busy": "2020-08-12T06:07:04.714138Z",
     "iopub.status.idle": "2020-08-12T06:07:04.760674Z",
     "shell.execute_reply": "2020-08-12T06:07:04.760005Z"
    },
    "papermill": {
     "duration": 0.107556,
     "end_time": "2020-08-12T06:07:04.760822",
     "exception": false,
     "start_time": "2020-08-12T06:07:04.653266",
     "status": "completed"
    },
    "tags": []
   },
   "outputs": [
    {
     "data": {
      "text/plain": [
       "LogisticRegression(C=1, solver='newton-cg')"
      ]
     },
     "execution_count": 24,
     "metadata": {},
     "output_type": "execute_result"
    }
   ],
   "source": [
    "#parameters = {\n",
    "#    'C': [0.1, 1, 5],\n",
    "#    'solver': ['newton-cg', 'lbfgs', 'liblinear', 'sag', 'saga']\n",
    "#    }\n",
    "#model = LogisticRegression()\n",
    "#GSCV = GridSearchCV(estimator=model,\n",
    "#                  scoring='accuracy',\n",
    "#                  n_jobs=4,\n",
    "#                  param_grid=parameters,\n",
    "#                  cv=kfold,\n",
    "#                  verbose=1\n",
    "#                  )\n",
    "#GSCV.fit(X_train, y_train)\n",
    "\n",
    "#print('Best Score: ',GSCV.best_score_)\n",
    "#print('Best Parameter: ',GSCV.best_params_)\n",
    "#LG = GSCV.best_estimator_\n",
    "\n",
    "#Best Score:  0.8305493133583021\n",
    "#Best Parameter:  {'C': 1, 'solver': 'newton-cg'}\n",
    "LG = LogisticRegression(C=1,solver='newton-cg')\n",
    "LG.fit(X_train, y_train)"
   ]
  },
  {
   "cell_type": "code",
   "execution_count": 25,
   "metadata": {
    "execution": {
     "iopub.execute_input": "2020-08-12T06:07:04.873180Z",
     "iopub.status.busy": "2020-08-12T06:07:04.872368Z",
     "iopub.status.idle": "2020-08-12T06:07:05.363382Z",
     "shell.execute_reply": "2020-08-12T06:07:05.362600Z"
    },
    "papermill": {
     "duration": 0.551255,
     "end_time": "2020-08-12T06:07:05.363511",
     "exception": false,
     "start_time": "2020-08-12T06:07:04.812256",
     "status": "completed"
    },
    "tags": []
   },
   "outputs": [
    {
     "data": {
      "text/plain": [
       "RandomForestClassifier(max_features=5, min_samples_leaf=3, n_estimators=200)"
      ]
     },
     "execution_count": 25,
     "metadata": {},
     "output_type": "execute_result"
    }
   ],
   "source": [
    "#parameters = {\n",
    "#    'n_estimators': [50, 100, 200],\n",
    "#    'min_samples_split': [2,3,5],\n",
    "#    'min_samples_leaf': [1,3,5],\n",
    "#    'max_features': [1, 3, 5]\n",
    "#    }\n",
    "#model = RandomForestClassifier()\n",
    "#GSCV = GridSearchCV(estimator=model,\n",
    "#                  scoring='accuracy',\n",
    "#                  n_jobs=4,\n",
    "#                  param_grid=parameters,\n",
    "#                  cv=kfold,\n",
    "#                  verbose=1\n",
    "#                  )\n",
    "#GSCV.fit(X_train, y_train)\n",
    "\n",
    "#print('Best Score: ',GSCV.best_score_)\n",
    "#print('Best Parameter: ',GSCV.best_params_)\n",
    "#RF = GSCV.best_estimator_\n",
    "\n",
    "#Best Score:  0.8305368289637952\n",
    "#Best Parameter:  {'max_features': 5, 'min_samples_leaf': 3, 'min_samples_split': 2, 'n_estimators': 200}\n",
    "RF = RandomForestClassifier(max_features=5,min_samples_leaf=3,min_samples_split=2,n_estimators=200)  \n",
    "RF.fit(X_train, y_train)"
   ]
  },
  {
   "cell_type": "code",
   "execution_count": 26,
   "metadata": {
    "execution": {
     "iopub.execute_input": "2020-08-12T06:07:05.476897Z",
     "iopub.status.busy": "2020-08-12T06:07:05.476068Z",
     "iopub.status.idle": "2020-08-12T06:07:05.772402Z",
     "shell.execute_reply": "2020-08-12T06:07:05.773037Z"
    },
    "papermill": {
     "duration": 0.357868,
     "end_time": "2020-08-12T06:07:05.773208",
     "exception": false,
     "start_time": "2020-08-12T06:07:05.415340",
     "status": "completed"
    },
    "tags": []
   },
   "outputs": [
    {
     "data": {
      "text/plain": [
       "GradientBoostingClassifier(learning_rate=0.2, max_depth=7, min_samples_leaf=50)"
      ]
     },
     "execution_count": 26,
     "metadata": {},
     "output_type": "execute_result"
    }
   ],
   "source": [
    "#parameters = {\n",
    "#    'n_estimators': [50,100,200],\n",
    "#    'min_samples_leaf': [50,100,150],\n",
    "#    'max_depth': [3, 5, 7],\n",
    "#    'learning_rate': [0.05, 0.1, 0.2]\n",
    "#    }\n",
    "#model = GradientBoostingClassifier()\n",
    "#GSCV = GridSearchCV(estimator=model,\n",
    "#                  scoring='accuracy',\n",
    "#                  n_jobs=4,\n",
    "#                  param_grid=parameters,\n",
    "#                  cv=kfold,\n",
    "#                  verbose=1\n",
    "#                  )\n",
    "#GSCV.fit(X_train, y_train)\n",
    "\n",
    "#print('Best Score: ',GSCV.best_score_)\n",
    "#print('Best Parameter: ',GSCV.best_params_)\n",
    "#GB = GSCV.best_estimator_\n",
    "\n",
    "#Best Score:  0.8395505617977529\n",
    "#Best Parameter:  {'learning_rate': 0.2, 'max_depth': 7, 'min_samples_leaf': 50, 'n_estimators': 100}\n",
    "GB = GradientBoostingClassifier(learning_rate=0.2,max_depth=7,min_samples_leaf=50,n_estimators=100)\n",
    "GB.fit(X_train, y_train)"
   ]
  },
  {
   "cell_type": "code",
   "execution_count": 27,
   "metadata": {
    "execution": {
     "iopub.execute_input": "2020-08-12T06:07:05.890384Z",
     "iopub.status.busy": "2020-08-12T06:07:05.887491Z",
     "iopub.status.idle": "2020-08-12T06:07:05.907112Z",
     "shell.execute_reply": "2020-08-12T06:07:05.906312Z"
    },
    "papermill": {
     "duration": 0.081429,
     "end_time": "2020-08-12T06:07:05.907254",
     "exception": false,
     "start_time": "2020-08-12T06:07:05.825825",
     "status": "completed"
    },
    "tags": []
   },
   "outputs": [],
   "source": [
    "#parameters = {\n",
    "#              'base_estimator__splitter':   ['best', 'random'],\n",
    "#              'algorithm': ['SAMME','SAMME.R'],\n",
    "#              'n_estimators':[2, 3, 5],\n",
    "#              'learning_rate':  [0.01, 0.1, 0.2, 1]}\n",
    "#model = AdaBoostClassifier(tree.DecisionTreeClassifier(), random_state=5)\n",
    "#GSCV = GridSearchCV(estimator=model,\n",
    "#                  scoring='accuracy',\n",
    "#                  n_jobs=4,\n",
    "#                  param_grid=parameters,\n",
    "#                  cv=kfold,\n",
    "#                  verbose=1\n",
    "#                  )\n",
    "#GSCV.fit(X_train, y_train)\n",
    "\n",
    "#print('Best Score: ',GSCV.best_score_)\n",
    "#print('Best Parameter: ',GSCV.best_params_)\n",
    "#ADB = GSCV.best_estimator_\n",
    "\n",
    "\n",
    "#Best Score:  0.8238951310861424\n",
    "#Best Parameter:  {'algorithm': 'SAMME.R', 'base_estimator__splitter': 'random', 'learning_rate': 0.01, 'n_estimators': 2}\n",
    "\n",
    "ADB = AdaBoostClassifier(tree.DecisionTreeClassifier(), random_state=5, algorithm='SAMME.R',learning_rate=0.01, n_estimators=2)\n",
    "ADB = ADB.fit(X_train, y_train)"
   ]
  },
  {
   "cell_type": "code",
   "execution_count": 28,
   "metadata": {
    "execution": {
     "iopub.execute_input": "2020-08-12T06:07:06.025179Z",
     "iopub.status.busy": "2020-08-12T06:07:06.024288Z",
     "iopub.status.idle": "2020-08-12T06:07:37.946285Z",
     "shell.execute_reply": "2020-08-12T06:07:37.945464Z"
    },
    "papermill": {
     "duration": 31.985967,
     "end_time": "2020-08-12T06:07:37.946421",
     "exception": false,
     "start_time": "2020-08-12T06:07:05.960454",
     "status": "completed"
    },
    "tags": []
   },
   "outputs": [
    {
     "name": "stdout",
     "output_type": "stream",
     "text": [
      "Fitting 10 folds for each of 24 candidates, totalling 240 fits\n"
     ]
    },
    {
     "name": "stderr",
     "output_type": "stream",
     "text": [
      "[Parallel(n_jobs=4)]: Using backend LokyBackend with 4 concurrent workers.\n",
      "[Parallel(n_jobs=4)]: Done  42 tasks      | elapsed:    7.0s\n",
      "[Parallel(n_jobs=4)]: Done 192 tasks      | elapsed:   24.9s\n",
      "[Parallel(n_jobs=4)]: Done 240 out of 240 | elapsed:   31.6s finished\n"
     ]
    },
    {
     "name": "stdout",
     "output_type": "stream",
     "text": [
      "Best Score:  0.8350187265917602\n",
      "Best Parameter:  {'C': 10, 'gamma': 0.01, 'kernel': 'rbf'}\n"
     ]
    }
   ],
   "source": [
    "parameters = {\n",
    "              'C': [0.01, 0.1, 1, 2, 10, 100],\n",
    "              'kernel': ['rbf'],\n",
    "              'gamma': [0.01, 0.1, 1, 2]\n",
    "              }\n",
    "model = SVC(probability=True)\n",
    "GSCV = GridSearchCV(estimator=model,\n",
    "                  scoring='accuracy',\n",
    "                  n_jobs=4,\n",
    "                  param_grid=parameters,\n",
    "                  cv=kfold,\n",
    "                  verbose=1\n",
    "                  )\n",
    "GSCV.fit(X_train, y_train)\n",
    "\n",
    "print('Best Score: ',GSCV.best_score_)\n",
    "print('Best Parameter: ',GSCV.best_params_)\n",
    "SVC = GSCV.best_estimator_\n"
   ]
  },
  {
   "cell_type": "code",
   "execution_count": 29,
   "metadata": {
    "execution": {
     "iopub.execute_input": "2020-08-12T06:07:38.070552Z",
     "iopub.status.busy": "2020-08-12T06:07:38.069778Z",
     "iopub.status.idle": "2020-08-12T06:07:38.072995Z",
     "shell.execute_reply": "2020-08-12T06:07:38.072246Z"
    },
    "papermill": {
     "duration": 0.067549,
     "end_time": "2020-08-12T06:07:38.073136",
     "exception": false,
     "start_time": "2020-08-12T06:07:38.005587",
     "status": "completed"
    },
    "tags": []
   },
   "outputs": [],
   "source": [
    "#from sklearn.model_selection import learning_curve\n",
    "\n",
    "\n",
    "\n",
    "#def plot_learning_curve(estimator, titles, X, y, cv, train_sizes=np.linspace(.1, 1.0, 10)):\n",
    "#    \n",
    "#    plt.figure()\n",
    "#   train_sizes, train_scores, test_scores = \\\n",
    "#    learning_curve(estimator, X, y, train_sizes=train_sizes, cv=cv)\n",
    "#    \n",
    "#    train_scores_mean = np.mean(train_scores, axis=1)\n",
    "#    train_scores_std = np.std(train_scores, axis=1)\n",
    "#    test_scores_mean = np.mean(test_scores, axis=1)\n",
    "#    test_scores_std = np.std(test_scores, axis=1)\n",
    "#    \n",
    "#    plt.plot(train_sizes, test_scores_mean, 'o-', color=\"r\",\n",
    "#         label=\"Validation Score\")\n",
    "#    plt.plot(train_sizes, train_scores_mean, 'o-', color=\"g\",\n",
    "#         label=\"Training Score\")\n",
    "#    plt.fill_between(train_sizes, train_scores_mean - train_scores_std,\n",
    "#                         train_scores_mean + train_scores_std, alpha=0.2,\n",
    "#                         color=\"g\")\n",
    "#    plt.fill_between(train_sizes, test_scores_mean - test_scores_std,\n",
    "#                         test_scores_mean + test_scores_std, alpha=0.2,\n",
    "#                         color=\"r\")\n",
    "#    \n",
    "#    plt.xlabel(\"Train size\")\n",
    "#    plt.ylabel(\"Score\")\n",
    "#    plt.title(titles)\n",
    "#    plt.legend(loc=\"best\")\n",
    "#\n",
    "#    plt.show()\n",
    "#    \n",
    "#    return plt\n",
    "\n",
    "\n",
    "#titles = \"Learning Curves (LG)\"\n",
    "#estimator = LG\n",
    "#plot_learning_curve(estimator, titles, X_train, y_train, cv=kfold, train_sizes=np.linspace(.1, 1.0, 10))\n",
    "\n",
    "\n",
    "#titles = \"Learning Curves (RF)\"\n",
    "#estimator = RF\n",
    "#plot_learning_curve(estimator, titles, X_train, y_train, cv=kfold, train_sizes=np.linspace(.1, 1.0, 10))\n",
    "\n",
    "\n",
    "#titles = \"Learning Curves (GB)\"\n",
    "#estimator = GB\n",
    "#plot_learning_curve(estimator, titles, X_train, y_train, cv=kfold, train_sizes=np.linspace(.1, 1.0, 10))\n",
    "\n",
    "\n",
    "#titles = \"Learning Curves (ADB)\"\n",
    "#estimator = ADB\n",
    "#plot_learning_curve(estimator, titles, X_train, y_train, cv=kfold, train_sizes=np.linspace(.1, 1.0, 10))\n",
    "\n",
    "\n",
    "#titles = \"Learning Curves (SVC)\"\n",
    "#estimator = SVC\n",
    "#plot_learning_curve(estimator, titles, X_train, y_train, cv=kfold, train_sizes=np.linspace(.1, 1.0, 10))"
   ]
  },
  {
   "cell_type": "code",
   "execution_count": 30,
   "metadata": {
    "execution": {
     "iopub.execute_input": "2020-08-12T06:07:38.191686Z",
     "iopub.status.busy": "2020-08-12T06:07:38.190890Z",
     "iopub.status.idle": "2020-08-12T06:07:38.947240Z",
     "shell.execute_reply": "2020-08-12T06:07:38.945980Z"
    },
    "papermill": {
     "duration": 0.819037,
     "end_time": "2020-08-12T06:07:38.947391",
     "exception": false,
     "start_time": "2020-08-12T06:07:38.128354",
     "status": "completed"
    },
    "tags": []
   },
   "outputs": [],
   "source": [
    "voting = VotingClassifier(estimators=[('LG', LG), ('RF', RF),\n",
    "('GB', GB), ('ADB',ADB),('SVC',SVC)], voting='soft', n_jobs=4)\n",
    "\n",
    "voting = voting.fit(X_train, y_train)"
   ]
  },
  {
   "cell_type": "code",
   "execution_count": 31,
   "metadata": {
    "execution": {
     "iopub.execute_input": "2020-08-12T06:07:39.070374Z",
     "iopub.status.busy": "2020-08-12T06:07:39.067077Z",
     "iopub.status.idle": "2020-08-12T06:07:39.244217Z",
     "shell.execute_reply": "2020-08-12T06:07:39.243225Z"
    },
    "papermill": {
     "duration": 0.24136,
     "end_time": "2020-08-12T06:07:39.244351",
     "exception": false,
     "start_time": "2020-08-12T06:07:39.002991",
     "status": "completed"
    },
    "tags": []
   },
   "outputs": [],
   "source": [
    "prediction_y = voting.predict(X_test).astype(np.int32)\n",
    "submission = pd.DataFrame({'PassengerId': testid, 'Survived': prediction_y})\n",
    "submission.to_csv('submission_v9.csv', index=False)"
   ]
  },
  {
   "cell_type": "code",
   "execution_count": null,
   "metadata": {
    "papermill": {
     "duration": 0.054537,
     "end_time": "2020-08-12T06:07:39.354295",
     "exception": false,
     "start_time": "2020-08-12T06:07:39.299758",
     "status": "completed"
    },
    "tags": []
   },
   "outputs": [],
   "source": []
  },
  {
   "cell_type": "code",
   "execution_count": null,
   "metadata": {
    "papermill": {
     "duration": 0.055218,
     "end_time": "2020-08-12T06:07:39.464846",
     "exception": false,
     "start_time": "2020-08-12T06:07:39.409628",
     "status": "completed"
    },
    "tags": []
   },
   "outputs": [],
   "source": []
  }
 ],
 "metadata": {
  "kernelspec": {
   "display_name": "Python 3",
   "language": "python",
   "name": "python3"
  },
  "language_info": {
   "codemirror_mode": {
    "name": "ipython",
    "version": 3
   },
   "file_extension": ".py",
   "mimetype": "text/x-python",
   "name": "python",
   "nbconvert_exporter": "python",
   "pygments_lexer": "ipython3",
   "version": "3.7.6"
  },
  "papermill": {
   "duration": 58.901438,
   "end_time": "2020-08-12T06:07:40.530634",
   "environment_variables": {},
   "exception": null,
   "input_path": "__notebook__.ipynb",
   "output_path": "__notebook__.ipynb",
   "parameters": {},
   "start_time": "2020-08-12T06:06:41.629196",
   "version": "2.1.0"
  }
 },
 "nbformat": 4,
 "nbformat_minor": 4
}
