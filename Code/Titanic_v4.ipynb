{
 "cells": [
  {
   "cell_type": "code",
   "execution_count": 1,
   "metadata": {
    "_cell_guid": "b1076dfc-b9ad-4769-8c92-a6c4dae69d19",
    "_uuid": "8f2839f25d086af736a60e9eeb907d3b93b6e0e5",
    "execution": {
     "iopub.execute_input": "2020-08-09T22:43:15.107467Z",
     "iopub.status.busy": "2020-08-09T22:43:15.106285Z",
     "iopub.status.idle": "2020-08-09T22:43:15.112000Z",
     "shell.execute_reply": "2020-08-09T22:43:15.112823Z"
    },
    "papermill": {
     "duration": 0.028463,
     "end_time": "2020-08-09T22:43:15.113044",
     "exception": false,
     "start_time": "2020-08-09T22:43:15.084581",
     "status": "completed"
    },
    "tags": []
   },
   "outputs": [
    {
     "name": "stdout",
     "output_type": "stream",
     "text": [
      "/kaggle/input/titanic/gender_submission.csv\n",
      "/kaggle/input/titanic/test.csv\n",
      "/kaggle/input/titanic/train.csv\n"
     ]
    }
   ],
   "source": [
    "# This Python 3 environment comes with many helpful analytics libraries installed\n",
    "# It is defined by the kaggle/python Docker image: https://github.com/kaggle/docker-python\n",
    "# For example, here's several helpful packages to load\n",
    "\n",
    "import numpy as np # linear algebra\n",
    "import pandas as pd # data processing, CSV file I/O (e.g. pd.read_csv)\n",
    "\n",
    "# Input data files are available in the read-only \"../input/\" directory\n",
    "# For example, running this (by clicking run or pressing Shift+Enter) will list all files under the input directory\n",
    "\n",
    "import os\n",
    "for dirname, _, filenames in os.walk('/kaggle/input'):\n",
    "    for filename in filenames:\n",
    "        print(os.path.join(dirname, filename))\n",
    "\n",
    "# You can write up to 5GB to the current directory (/kaggle/working/) that gets preserved as output when you create a version using \"Save & Run All\" \n",
    "# You can also write temporary files to /kaggle/temp/, but they won't be saved outside of the current session"
   ]
  },
  {
   "cell_type": "code",
   "execution_count": 2,
   "metadata": {
    "_cell_guid": "79c7e3d0-c299-4dcb-8224-4455121ee9b0",
    "_uuid": "d629ff2d2480ee46fbb7e2d37f6b5fab8052498a",
    "execution": {
     "iopub.execute_input": "2020-08-09T22:43:15.150239Z",
     "iopub.status.busy": "2020-08-09T22:43:15.149316Z",
     "iopub.status.idle": "2020-08-09T22:43:15.186661Z",
     "shell.execute_reply": "2020-08-09T22:43:15.186112Z"
    },
    "papermill": {
     "duration": 0.059193,
     "end_time": "2020-08-09T22:43:15.186793",
     "exception": false,
     "start_time": "2020-08-09T22:43:15.127600",
     "status": "completed"
    },
    "tags": []
   },
   "outputs": [
    {
     "data": {
      "text/html": [
       "<div>\n",
       "<style scoped>\n",
       "    .dataframe tbody tr th:only-of-type {\n",
       "        vertical-align: middle;\n",
       "    }\n",
       "\n",
       "    .dataframe tbody tr th {\n",
       "        vertical-align: top;\n",
       "    }\n",
       "\n",
       "    .dataframe thead th {\n",
       "        text-align: right;\n",
       "    }\n",
       "</style>\n",
       "<table border=\"1\" class=\"dataframe\">\n",
       "  <thead>\n",
       "    <tr style=\"text-align: right;\">\n",
       "      <th></th>\n",
       "      <th>PassengerId</th>\n",
       "      <th>Survived</th>\n",
       "      <th>Pclass</th>\n",
       "      <th>Name</th>\n",
       "      <th>Sex</th>\n",
       "      <th>Age</th>\n",
       "      <th>SibSp</th>\n",
       "      <th>Parch</th>\n",
       "      <th>Ticket</th>\n",
       "      <th>Fare</th>\n",
       "      <th>Cabin</th>\n",
       "      <th>Embarked</th>\n",
       "    </tr>\n",
       "  </thead>\n",
       "  <tbody>\n",
       "    <tr>\n",
       "      <th>0</th>\n",
       "      <td>1</td>\n",
       "      <td>0</td>\n",
       "      <td>3</td>\n",
       "      <td>Braund, Mr. Owen Harris</td>\n",
       "      <td>male</td>\n",
       "      <td>22.0</td>\n",
       "      <td>1</td>\n",
       "      <td>0</td>\n",
       "      <td>A/5 21171</td>\n",
       "      <td>7.2500</td>\n",
       "      <td>NaN</td>\n",
       "      <td>S</td>\n",
       "    </tr>\n",
       "    <tr>\n",
       "      <th>1</th>\n",
       "      <td>2</td>\n",
       "      <td>1</td>\n",
       "      <td>1</td>\n",
       "      <td>Cumings, Mrs. John Bradley (Florence Briggs Th...</td>\n",
       "      <td>female</td>\n",
       "      <td>38.0</td>\n",
       "      <td>1</td>\n",
       "      <td>0</td>\n",
       "      <td>PC 17599</td>\n",
       "      <td>71.2833</td>\n",
       "      <td>C85</td>\n",
       "      <td>C</td>\n",
       "    </tr>\n",
       "    <tr>\n",
       "      <th>2</th>\n",
       "      <td>3</td>\n",
       "      <td>1</td>\n",
       "      <td>3</td>\n",
       "      <td>Heikkinen, Miss. Laina</td>\n",
       "      <td>female</td>\n",
       "      <td>26.0</td>\n",
       "      <td>0</td>\n",
       "      <td>0</td>\n",
       "      <td>STON/O2. 3101282</td>\n",
       "      <td>7.9250</td>\n",
       "      <td>NaN</td>\n",
       "      <td>S</td>\n",
       "    </tr>\n",
       "    <tr>\n",
       "      <th>3</th>\n",
       "      <td>4</td>\n",
       "      <td>1</td>\n",
       "      <td>1</td>\n",
       "      <td>Futrelle, Mrs. Jacques Heath (Lily May Peel)</td>\n",
       "      <td>female</td>\n",
       "      <td>35.0</td>\n",
       "      <td>1</td>\n",
       "      <td>0</td>\n",
       "      <td>113803</td>\n",
       "      <td>53.1000</td>\n",
       "      <td>C123</td>\n",
       "      <td>S</td>\n",
       "    </tr>\n",
       "    <tr>\n",
       "      <th>4</th>\n",
       "      <td>5</td>\n",
       "      <td>0</td>\n",
       "      <td>3</td>\n",
       "      <td>Allen, Mr. William Henry</td>\n",
       "      <td>male</td>\n",
       "      <td>35.0</td>\n",
       "      <td>0</td>\n",
       "      <td>0</td>\n",
       "      <td>373450</td>\n",
       "      <td>8.0500</td>\n",
       "      <td>NaN</td>\n",
       "      <td>S</td>\n",
       "    </tr>\n",
       "  </tbody>\n",
       "</table>\n",
       "</div>"
      ],
      "text/plain": [
       "   PassengerId  Survived  Pclass  \\\n",
       "0            1         0       3   \n",
       "1            2         1       1   \n",
       "2            3         1       3   \n",
       "3            4         1       1   \n",
       "4            5         0       3   \n",
       "\n",
       "                                                Name     Sex   Age  SibSp  \\\n",
       "0                            Braund, Mr. Owen Harris    male  22.0      1   \n",
       "1  Cumings, Mrs. John Bradley (Florence Briggs Th...  female  38.0      1   \n",
       "2                             Heikkinen, Miss. Laina  female  26.0      0   \n",
       "3       Futrelle, Mrs. Jacques Heath (Lily May Peel)  female  35.0      1   \n",
       "4                           Allen, Mr. William Henry    male  35.0      0   \n",
       "\n",
       "   Parch            Ticket     Fare Cabin Embarked  \n",
       "0      0         A/5 21171   7.2500   NaN        S  \n",
       "1      0          PC 17599  71.2833   C85        C  \n",
       "2      0  STON/O2. 3101282   7.9250   NaN        S  \n",
       "3      0            113803  53.1000  C123        S  \n",
       "4      0            373450   8.0500   NaN        S  "
      ]
     },
     "execution_count": 2,
     "metadata": {},
     "output_type": "execute_result"
    }
   ],
   "source": [
    "train = pd.read_csv('/kaggle/input/titanic/train.csv')\n",
    "train.head()"
   ]
  },
  {
   "cell_type": "code",
   "execution_count": 3,
   "metadata": {
    "execution": {
     "iopub.execute_input": "2020-08-09T22:43:15.224447Z",
     "iopub.status.busy": "2020-08-09T22:43:15.223178Z",
     "iopub.status.idle": "2020-08-09T22:43:15.244562Z",
     "shell.execute_reply": "2020-08-09T22:43:15.243967Z"
    },
    "papermill": {
     "duration": 0.043242,
     "end_time": "2020-08-09T22:43:15.244682",
     "exception": false,
     "start_time": "2020-08-09T22:43:15.201440",
     "status": "completed"
    },
    "tags": []
   },
   "outputs": [
    {
     "data": {
      "text/html": [
       "<div>\n",
       "<style scoped>\n",
       "    .dataframe tbody tr th:only-of-type {\n",
       "        vertical-align: middle;\n",
       "    }\n",
       "\n",
       "    .dataframe tbody tr th {\n",
       "        vertical-align: top;\n",
       "    }\n",
       "\n",
       "    .dataframe thead th {\n",
       "        text-align: right;\n",
       "    }\n",
       "</style>\n",
       "<table border=\"1\" class=\"dataframe\">\n",
       "  <thead>\n",
       "    <tr style=\"text-align: right;\">\n",
       "      <th></th>\n",
       "      <th>PassengerId</th>\n",
       "      <th>Pclass</th>\n",
       "      <th>Name</th>\n",
       "      <th>Sex</th>\n",
       "      <th>Age</th>\n",
       "      <th>SibSp</th>\n",
       "      <th>Parch</th>\n",
       "      <th>Ticket</th>\n",
       "      <th>Fare</th>\n",
       "      <th>Cabin</th>\n",
       "      <th>Embarked</th>\n",
       "    </tr>\n",
       "  </thead>\n",
       "  <tbody>\n",
       "    <tr>\n",
       "      <th>0</th>\n",
       "      <td>892</td>\n",
       "      <td>3</td>\n",
       "      <td>Kelly, Mr. James</td>\n",
       "      <td>male</td>\n",
       "      <td>34.5</td>\n",
       "      <td>0</td>\n",
       "      <td>0</td>\n",
       "      <td>330911</td>\n",
       "      <td>7.8292</td>\n",
       "      <td>NaN</td>\n",
       "      <td>Q</td>\n",
       "    </tr>\n",
       "    <tr>\n",
       "      <th>1</th>\n",
       "      <td>893</td>\n",
       "      <td>3</td>\n",
       "      <td>Wilkes, Mrs. James (Ellen Needs)</td>\n",
       "      <td>female</td>\n",
       "      <td>47.0</td>\n",
       "      <td>1</td>\n",
       "      <td>0</td>\n",
       "      <td>363272</td>\n",
       "      <td>7.0000</td>\n",
       "      <td>NaN</td>\n",
       "      <td>S</td>\n",
       "    </tr>\n",
       "    <tr>\n",
       "      <th>2</th>\n",
       "      <td>894</td>\n",
       "      <td>2</td>\n",
       "      <td>Myles, Mr. Thomas Francis</td>\n",
       "      <td>male</td>\n",
       "      <td>62.0</td>\n",
       "      <td>0</td>\n",
       "      <td>0</td>\n",
       "      <td>240276</td>\n",
       "      <td>9.6875</td>\n",
       "      <td>NaN</td>\n",
       "      <td>Q</td>\n",
       "    </tr>\n",
       "    <tr>\n",
       "      <th>3</th>\n",
       "      <td>895</td>\n",
       "      <td>3</td>\n",
       "      <td>Wirz, Mr. Albert</td>\n",
       "      <td>male</td>\n",
       "      <td>27.0</td>\n",
       "      <td>0</td>\n",
       "      <td>0</td>\n",
       "      <td>315154</td>\n",
       "      <td>8.6625</td>\n",
       "      <td>NaN</td>\n",
       "      <td>S</td>\n",
       "    </tr>\n",
       "    <tr>\n",
       "      <th>4</th>\n",
       "      <td>896</td>\n",
       "      <td>3</td>\n",
       "      <td>Hirvonen, Mrs. Alexander (Helga E Lindqvist)</td>\n",
       "      <td>female</td>\n",
       "      <td>22.0</td>\n",
       "      <td>1</td>\n",
       "      <td>1</td>\n",
       "      <td>3101298</td>\n",
       "      <td>12.2875</td>\n",
       "      <td>NaN</td>\n",
       "      <td>S</td>\n",
       "    </tr>\n",
       "  </tbody>\n",
       "</table>\n",
       "</div>"
      ],
      "text/plain": [
       "   PassengerId  Pclass                                          Name     Sex  \\\n",
       "0          892       3                              Kelly, Mr. James    male   \n",
       "1          893       3              Wilkes, Mrs. James (Ellen Needs)  female   \n",
       "2          894       2                     Myles, Mr. Thomas Francis    male   \n",
       "3          895       3                              Wirz, Mr. Albert    male   \n",
       "4          896       3  Hirvonen, Mrs. Alexander (Helga E Lindqvist)  female   \n",
       "\n",
       "    Age  SibSp  Parch   Ticket     Fare Cabin Embarked  \n",
       "0  34.5      0      0   330911   7.8292   NaN        Q  \n",
       "1  47.0      1      0   363272   7.0000   NaN        S  \n",
       "2  62.0      0      0   240276   9.6875   NaN        Q  \n",
       "3  27.0      0      0   315154   8.6625   NaN        S  \n",
       "4  22.0      1      1  3101298  12.2875   NaN        S  "
      ]
     },
     "execution_count": 3,
     "metadata": {},
     "output_type": "execute_result"
    }
   ],
   "source": [
    "test = pd.read_csv('/kaggle/input/titanic/test.csv')\n",
    "test.head(5)"
   ]
  },
  {
   "cell_type": "code",
   "execution_count": 4,
   "metadata": {
    "execution": {
     "iopub.execute_input": "2020-08-09T22:43:15.295699Z",
     "iopub.status.busy": "2020-08-09T22:43:15.290349Z",
     "iopub.status.idle": "2020-08-09T22:43:15.308234Z",
     "shell.execute_reply": "2020-08-09T22:43:15.307341Z"
    },
    "papermill": {
     "duration": 0.049303,
     "end_time": "2020-08-09T22:43:15.308443",
     "exception": false,
     "start_time": "2020-08-09T22:43:15.259140",
     "status": "completed"
    },
    "tags": []
   },
   "outputs": [
    {
     "name": "stdout",
     "output_type": "stream",
     "text": [
      "<class 'pandas.core.frame.DataFrame'>\n",
      "RangeIndex: 891 entries, 0 to 890\n",
      "Data columns (total 12 columns):\n",
      " #   Column       Non-Null Count  Dtype  \n",
      "---  ------       --------------  -----  \n",
      " 0   PassengerId  891 non-null    int64  \n",
      " 1   Survived     891 non-null    int64  \n",
      " 2   Pclass       891 non-null    int64  \n",
      " 3   Name         891 non-null    object \n",
      " 4   Sex          891 non-null    object \n",
      " 5   Age          714 non-null    float64\n",
      " 6   SibSp        891 non-null    int64  \n",
      " 7   Parch        891 non-null    int64  \n",
      " 8   Ticket       891 non-null    object \n",
      " 9   Fare         891 non-null    float64\n",
      " 10  Cabin        204 non-null    object \n",
      " 11  Embarked     889 non-null    object \n",
      "dtypes: float64(2), int64(5), object(5)\n",
      "memory usage: 83.7+ KB\n",
      "train set shape (891, 12)\n",
      "test set shape (418, 11)\n",
      "Age missing 177     19.865319865319865 %\n",
      "Cabin missing 687     77.10437710437711 %\n",
      "Embarked missing 2     0.22446689113355783 %\n"
     ]
    }
   ],
   "source": [
    "train.info()\n",
    "print('train set shape',train.shape)\n",
    "print('test set shape',test.shape)\n",
    "print('Age missing',train.iloc[:891].Age.isnull().sum(),'   ',\n",
    "      (train.iloc[:891].Age.isnull().sum())/int(891)*int(100),'%')\n",
    "print('Cabin missing',train.iloc[:891].Cabin.isnull().sum(),'   ',\n",
    "      (train.iloc[:891].Cabin.isnull().sum())/int(891)*int(100),'%')\n",
    "print('Embarked missing',train.iloc[:891].Embarked.isnull().sum(),'   ',\n",
    "      (train.iloc[:891].Embarked.isnull().sum())/int(891)*int(100),'%')"
   ]
  },
  {
   "cell_type": "code",
   "execution_count": 5,
   "metadata": {
    "execution": {
     "iopub.execute_input": "2020-08-09T22:43:15.354729Z",
     "iopub.status.busy": "2020-08-09T22:43:15.353916Z",
     "iopub.status.idle": "2020-08-09T22:43:15.385748Z",
     "shell.execute_reply": "2020-08-09T22:43:15.385160Z"
    },
    "papermill": {
     "duration": 0.061781,
     "end_time": "2020-08-09T22:43:15.385871",
     "exception": false,
     "start_time": "2020-08-09T22:43:15.324090",
     "status": "completed"
    },
    "tags": []
   },
   "outputs": [
    {
     "data": {
      "text/html": [
       "<div>\n",
       "<style scoped>\n",
       "    .dataframe tbody tr th:only-of-type {\n",
       "        vertical-align: middle;\n",
       "    }\n",
       "\n",
       "    .dataframe tbody tr th {\n",
       "        vertical-align: top;\n",
       "    }\n",
       "\n",
       "    .dataframe thead th {\n",
       "        text-align: right;\n",
       "    }\n",
       "</style>\n",
       "<table border=\"1\" class=\"dataframe\">\n",
       "  <thead>\n",
       "    <tr style=\"text-align: right;\">\n",
       "      <th></th>\n",
       "      <th>PassengerId</th>\n",
       "      <th>Survived</th>\n",
       "      <th>Pclass</th>\n",
       "      <th>Age</th>\n",
       "      <th>SibSp</th>\n",
       "      <th>Parch</th>\n",
       "      <th>Fare</th>\n",
       "    </tr>\n",
       "  </thead>\n",
       "  <tbody>\n",
       "    <tr>\n",
       "      <th>count</th>\n",
       "      <td>891.000000</td>\n",
       "      <td>891.000000</td>\n",
       "      <td>891.000000</td>\n",
       "      <td>714.000000</td>\n",
       "      <td>891.000000</td>\n",
       "      <td>891.000000</td>\n",
       "      <td>891.000000</td>\n",
       "    </tr>\n",
       "    <tr>\n",
       "      <th>mean</th>\n",
       "      <td>446.000000</td>\n",
       "      <td>0.383838</td>\n",
       "      <td>2.308642</td>\n",
       "      <td>29.699118</td>\n",
       "      <td>0.523008</td>\n",
       "      <td>0.381594</td>\n",
       "      <td>32.204208</td>\n",
       "    </tr>\n",
       "    <tr>\n",
       "      <th>std</th>\n",
       "      <td>257.353842</td>\n",
       "      <td>0.486592</td>\n",
       "      <td>0.836071</td>\n",
       "      <td>14.526497</td>\n",
       "      <td>1.102743</td>\n",
       "      <td>0.806057</td>\n",
       "      <td>49.693429</td>\n",
       "    </tr>\n",
       "    <tr>\n",
       "      <th>min</th>\n",
       "      <td>1.000000</td>\n",
       "      <td>0.000000</td>\n",
       "      <td>1.000000</td>\n",
       "      <td>0.420000</td>\n",
       "      <td>0.000000</td>\n",
       "      <td>0.000000</td>\n",
       "      <td>0.000000</td>\n",
       "    </tr>\n",
       "    <tr>\n",
       "      <th>25%</th>\n",
       "      <td>223.500000</td>\n",
       "      <td>0.000000</td>\n",
       "      <td>2.000000</td>\n",
       "      <td>20.125000</td>\n",
       "      <td>0.000000</td>\n",
       "      <td>0.000000</td>\n",
       "      <td>7.910400</td>\n",
       "    </tr>\n",
       "    <tr>\n",
       "      <th>50%</th>\n",
       "      <td>446.000000</td>\n",
       "      <td>0.000000</td>\n",
       "      <td>3.000000</td>\n",
       "      <td>28.000000</td>\n",
       "      <td>0.000000</td>\n",
       "      <td>0.000000</td>\n",
       "      <td>14.454200</td>\n",
       "    </tr>\n",
       "    <tr>\n",
       "      <th>75%</th>\n",
       "      <td>668.500000</td>\n",
       "      <td>1.000000</td>\n",
       "      <td>3.000000</td>\n",
       "      <td>38.000000</td>\n",
       "      <td>1.000000</td>\n",
       "      <td>0.000000</td>\n",
       "      <td>31.000000</td>\n",
       "    </tr>\n",
       "    <tr>\n",
       "      <th>max</th>\n",
       "      <td>891.000000</td>\n",
       "      <td>1.000000</td>\n",
       "      <td>3.000000</td>\n",
       "      <td>80.000000</td>\n",
       "      <td>8.000000</td>\n",
       "      <td>6.000000</td>\n",
       "      <td>512.329200</td>\n",
       "    </tr>\n",
       "  </tbody>\n",
       "</table>\n",
       "</div>"
      ],
      "text/plain": [
       "       PassengerId    Survived      Pclass         Age       SibSp  \\\n",
       "count   891.000000  891.000000  891.000000  714.000000  891.000000   \n",
       "mean    446.000000    0.383838    2.308642   29.699118    0.523008   \n",
       "std     257.353842    0.486592    0.836071   14.526497    1.102743   \n",
       "min       1.000000    0.000000    1.000000    0.420000    0.000000   \n",
       "25%     223.500000    0.000000    2.000000   20.125000    0.000000   \n",
       "50%     446.000000    0.000000    3.000000   28.000000    0.000000   \n",
       "75%     668.500000    1.000000    3.000000   38.000000    1.000000   \n",
       "max     891.000000    1.000000    3.000000   80.000000    8.000000   \n",
       "\n",
       "            Parch        Fare  \n",
       "count  891.000000  891.000000  \n",
       "mean     0.381594   32.204208  \n",
       "std      0.806057   49.693429  \n",
       "min      0.000000    0.000000  \n",
       "25%      0.000000    7.910400  \n",
       "50%      0.000000   14.454200  \n",
       "75%      0.000000   31.000000  \n",
       "max      6.000000  512.329200  "
      ]
     },
     "execution_count": 5,
     "metadata": {},
     "output_type": "execute_result"
    }
   ],
   "source": [
    "train.describe()"
   ]
  },
  {
   "cell_type": "code",
   "execution_count": 6,
   "metadata": {
    "execution": {
     "iopub.execute_input": "2020-08-09T22:43:15.436912Z",
     "iopub.status.busy": "2020-08-09T22:43:15.429358Z",
     "iopub.status.idle": "2020-08-09T22:43:17.926133Z",
     "shell.execute_reply": "2020-08-09T22:43:17.926738Z"
    },
    "papermill": {
     "duration": 2.525404,
     "end_time": "2020-08-09T22:43:17.926906",
     "exception": false,
     "start_time": "2020-08-09T22:43:15.401502",
     "status": "completed"
    },
    "tags": []
   },
   "outputs": [
    {
     "data": {
      "image/png": "[encoded data removed]",
      "text/plain": [
       "<Figure size 1080x1080 with 9 Axes>"
      ]
     },
     "metadata": {
      "needs_background": "light"
     },
     "output_type": "display_data"
    }
   ],
   "source": [
    "import matplotlib.pyplot as plt\n",
    "\n",
    "fig = plt.figure(figsize=(15,15))\n",
    "\n",
    "plt.subplot2grid((4,3),(0,0))\n",
    "train.Survived.value_counts(normalize=True).plot(kind='bar', alpha=.5)\n",
    "plt.title('Survived')\n",
    "\n",
    "plt.subplot2grid((4,3),(0,1))\n",
    "train.Pclass.value_counts(normalize=True).plot(kind='bar', alpha=.5)\n",
    "plt.title('Passenger Class')\n",
    "\n",
    "plt.subplot2grid((4,3),(0,2))\n",
    "train.SibSp.value_counts(normalize=True).plot(kind='bar', alpha=.5)\n",
    "plt.title('Siblings-Spouses')\n",
    "\n",
    "plt.subplot2grid((4,3),(1,0))\n",
    "train.Parch.value_counts(normalize=True).plot(kind='bar', alpha=.5)\n",
    "plt.title('Parents-Children')\n",
    "\n",
    "\n",
    "plt.subplot2grid((4,3),(1,1))\n",
    "train.Embarked.value_counts(normalize=True).plot(kind='bar', alpha=.5)\n",
    "plt.title('Embarked')\n",
    "\n",
    "plt.subplot2grid((4,3),(1,2))\n",
    "plt.scatter(train.Age, train.Survived, alpha=.2)\n",
    "plt.title('Age v.s. Survived')\n",
    "\n",
    "\n",
    "plt.subplot2grid((4,3),(2,0))\n",
    "for x in [1,2,3]:\n",
    "    train.Age[train.Pclass == x].plot(kind='kde')\n",
    "plt.title('Age v.s. Pclass')\n",
    "plt.legend(('Class1', 'Class2','Class3'))\n",
    "\n",
    "plt.subplot2grid((4,3),(2,1))\n",
    "plt.scatter(train.Fare, train.Pclass, alpha=.2)\n",
    "plt.title('Fare v.s. Pclass')\n",
    "\n",
    "plt.subplot2grid((4,3),(2,2))\n",
    "plt.scatter(train.Fare, train.Survived, alpha=.2)\n",
    "plt.title('Fare v.s. Survived')\n",
    "\n",
    "plt.show()"
   ]
  },
  {
   "cell_type": "code",
   "execution_count": 7,
   "metadata": {
    "execution": {
     "iopub.execute_input": "2020-08-09T22:43:17.972633Z",
     "iopub.status.busy": "2020-08-09T22:43:17.971881Z",
     "iopub.status.idle": "2020-08-09T22:43:18.141118Z",
     "shell.execute_reply": "2020-08-09T22:43:18.140401Z"
    },
    "papermill": {
     "duration": 0.197064,
     "end_time": "2020-08-09T22:43:18.141243",
     "exception": false,
     "start_time": "2020-08-09T22:43:17.944179",
     "status": "completed"
    },
    "tags": []
   },
   "outputs": [
    {
     "name": "stdout",
     "output_type": "stream",
     "text": [
      "Sex       female  male\n",
      "Survived              \n",
      "0             81   468\n",
      "1            233   109\n"
     ]
    },
    {
     "data": {
      "text/plain": [
       "Text(0.5, 1.0, 'Sex v.s. Survived')"
      ]
     },
     "execution_count": 7,
     "metadata": {},
     "output_type": "execute_result"
    },
    {
     "data": {
      "image/png": "[encoded data removed]",
      "text/plain": [
       "<Figure size 432x288 with 1 Axes>"
      ]
     },
     "metadata": {
      "needs_background": "light"
     },
     "output_type": "display_data"
    }
   ],
   "source": [
    "print(pd.pivot_table(train,values='PassengerId',index='Survived',\n",
    "                  columns='Sex',aggfunc='count'))\n",
    "\n",
    "Male_sur=train.Survived[train.Sex=='male'].value_counts()\n",
    "Female_sur=train.Survived[train.Sex=='female'].value_counts()\n",
    "sig_sex=pd.DataFrame({'Male':Male_sur,'Female':Female_sur})\n",
    "sig_sex.plot(kind='bar',stacked=True)\n",
    "plt.title('Sex v.s. Survived')"
   ]
  },
  {
   "cell_type": "code",
   "execution_count": 8,
   "metadata": {
    "execution": {
     "iopub.execute_input": "2020-08-09T22:43:18.190099Z",
     "iopub.status.busy": "2020-08-09T22:43:18.189401Z",
     "iopub.status.idle": "2020-08-09T22:43:18.363961Z",
     "shell.execute_reply": "2020-08-09T22:43:18.363398Z"
    },
    "papermill": {
     "duration": 0.203662,
     "end_time": "2020-08-09T22:43:18.364097",
     "exception": false,
     "start_time": "2020-08-09T22:43:18.160435",
     "status": "completed"
    },
    "tags": []
   },
   "outputs": [
    {
     "name": "stdout",
     "output_type": "stream",
     "text": [
      "Pclass      1   2    3\n",
      "Survived              \n",
      "0          80  97  372\n",
      "1         136  87  119\n"
     ]
    },
    {
     "data": {
      "text/plain": [
       "Text(0.5, 1.0, 'Class v.s. Survived')"
      ]
     },
     "execution_count": 8,
     "metadata": {},
     "output_type": "execute_result"
    },
    {
     "data": {
      "image/png": "[encoded data removed]",
      "text/plain": [
       "<Figure size 432x288 with 1 Axes>"
      ]
     },
     "metadata": {
      "needs_background": "light"
     },
     "output_type": "display_data"
    }
   ],
   "source": [
    "print(pd.pivot_table(train,values='PassengerId',index='Survived',\n",
    "                  columns='Pclass',aggfunc='count'))\n",
    "\n",
    "C1_sur=train.Survived[train.Pclass==1].value_counts()\n",
    "C2_sur=train.Survived[train.Pclass==2].value_counts()\n",
    "C3_sur=train.Survived[train.Pclass==3].value_counts()\n",
    "sig_class=pd.DataFrame({'Class 1':C1_sur,'Class 2':C2_sur,'Class 3':C3_sur})\n",
    "sig_class.plot(kind='bar',stacked=True)\n",
    "plt.title('Class v.s. Survived')"
   ]
  },
  {
   "cell_type": "code",
   "execution_count": 9,
   "metadata": {
    "execution": {
     "iopub.execute_input": "2020-08-09T22:43:18.518403Z",
     "iopub.status.busy": "2020-08-09T22:43:18.517609Z",
     "iopub.status.idle": "2020-08-09T22:43:19.197408Z",
     "shell.execute_reply": "2020-08-09T22:43:19.196764Z"
    },
    "papermill": {
     "duration": 0.813991,
     "end_time": "2020-08-09T22:43:19.197574",
     "exception": false,
     "start_time": "2020-08-09T22:43:18.383583",
     "status": "completed"
    },
    "tags": []
   },
   "outputs": [
    {
     "name": "stdout",
     "output_type": "stream",
     "text": [
      "Pclass            1   2    3\n",
      "Sex    Survived             \n",
      "female 0          3   6   72\n",
      "       1         91  70   72\n",
      "male   0         77  91  300\n",
      "       1         45  17   47\n"
     ]
    },
    {
     "data": {
      "text/plain": [
       "Text(0.5, 1.0, 'Unsurvived Male v.s. Unsurvived Female')"
      ]
     },
     "execution_count": 9,
     "metadata": {},
     "output_type": "execute_result"
    },
    {
     "data": {
      "image/png": "[encoded data removed]",
      "text/plain": [
       "<Figure size 720x720 with 6 Axes>"
      ]
     },
     "metadata": {
      "needs_background": "light"
     },
     "output_type": "display_data"
    }
   ],
   "source": [
    "print(pd.pivot_table(train,values='PassengerId',index=['Sex','Survived'],\n",
    "                  columns='Pclass',aggfunc='count'))\n",
    "\n",
    "\n",
    "C12_m_sur=train.Survived[train.Pclass!=3][train.Sex=='male'].value_counts()\n",
    "C3_m_sur=train.Survived[train.Pclass==3][train.Sex=='male'].value_counts()\n",
    "C12_f_sur=train.Survived[train.Pclass!=3][train.Sex=='female'].value_counts()\n",
    "C3_f_sur=train.Survived[train.Pclass==3][train.Sex=='female'].value_counts()\n",
    "\n",
    "fig = plt.figure(figsize=(10,10))\n",
    "plt.subplot2grid((3,2),(0,0))\n",
    "train.Survived[train.Pclass!=3][train.Sex=='male'].value_counts().plot(kind='bar',color='blue')\n",
    "plt.title('Poor Male v.s. Survived')\n",
    "\n",
    "plt.subplot2grid((3,2),(0,1))\n",
    "train.Survived[train.Pclass==3][train.Sex=='male'].value_counts().plot(kind='bar',color='blue')\n",
    "plt.title('Rich Male v.s. Survived')\n",
    "\n",
    "plt.subplot2grid((3,2),(1,0))\n",
    "train.Survived[train.Pclass!=3][train.Sex=='female'].value_counts().plot(kind='bar',color='red')\n",
    "plt.title('Poor Female v.s. Survived')\n",
    "\n",
    "plt.subplot2grid((3,2),(1,1))\n",
    "train.Survived[train.Pclass==3][train.Sex=='female'].value_counts().plot(kind='bar',color='red')\n",
    "plt.title('Rich Female v.s. Survived')\n",
    "\n",
    "plt.subplot2grid((3,2),(2,0))\n",
    "train.Sex[train.Survived==1].value_counts().plot(kind='bar', color=['blue', 'red'])\n",
    "plt.title('Survived Male v.s. Survived Female')\n",
    "\n",
    "plt.subplot2grid((3,2),(2,1))\n",
    "train.Sex[train.Survived==0].value_counts().plot(kind='bar', color=['blue', 'red'])\n",
    "plt.title('Unsurvived Male v.s. Unsurvived Female')\n"
   ]
  },
  {
   "cell_type": "code",
   "execution_count": 10,
   "metadata": {
    "execution": {
     "iopub.execute_input": "2020-08-09T22:43:19.251020Z",
     "iopub.status.busy": "2020-08-09T22:43:19.250109Z",
     "iopub.status.idle": "2020-08-09T22:43:19.751482Z",
     "shell.execute_reply": "2020-08-09T22:43:19.750723Z"
    },
    "papermill": {
     "duration": 0.530327,
     "end_time": "2020-08-09T22:43:19.751622",
     "exception": false,
     "start_time": "2020-08-09T22:43:19.221295",
     "status": "completed"
    },
    "tags": []
   },
   "outputs": [
    {
     "data": {
      "text/plain": [
       "<matplotlib.axes._subplots.AxesSubplot at 0x7f93d584a750>"
      ]
     },
     "execution_count": 10,
     "metadata": {},
     "output_type": "execute_result"
    },
    {
     "data": {
      "image/png": "[encoded data removed]",
      "text/plain": [
       "<Figure size 576x576 with 2 Axes>"
      ]
     },
     "metadata": {
      "needs_background": "light"
     },
     "output_type": "display_data"
    }
   ],
   "source": [
    "import seaborn as sns\n",
    "\n",
    "dfc = train.copy()\n",
    "dfc = dfc.drop(['PassengerId','Survived'], axis=1)\n",
    "corr = dfc.corr()\n",
    "plt.figure(figsize=(8, 8))\n",
    "sns.heatmap(corr,cmap='viridis',vmax=1.0,vmin=-1.0,linewidths=0.1,annot=True, annot_kws={\"size\": 10}, square=True)"
   ]
  },
  {
   "cell_type": "code",
   "execution_count": 11,
   "metadata": {
    "execution": {
     "iopub.execute_input": "2020-08-09T22:43:19.806227Z",
     "iopub.status.busy": "2020-08-09T22:43:19.805439Z",
     "iopub.status.idle": "2020-08-09T22:43:19.827630Z",
     "shell.execute_reply": "2020-08-09T22:43:19.826951Z"
    },
    "papermill": {
     "duration": 0.05224,
     "end_time": "2020-08-09T22:43:19.827757",
     "exception": false,
     "start_time": "2020-08-09T22:43:19.775517",
     "status": "completed"
    },
    "tags": []
   },
   "outputs": [
    {
     "data": {
      "text/plain": [
       "(1309, 10)"
      ]
     },
     "execution_count": 11,
     "metadata": {},
     "output_type": "execute_result"
    }
   ],
   "source": [
    "train = pd.read_csv('/kaggle/input/titanic/train.csv')\n",
    "test = pd.read_csv('/kaggle/input/titanic/test.csv')\n",
    "\n",
    "y_train = train.Survived\n",
    "X_train = train.drop(['PassengerId','Survived'], axis=1)\n",
    "\n",
    "X_test = test.drop(['PassengerId'], axis=1)\n",
    "\n",
    "alldata = X_train.append(X_test)\n",
    "alldata.shape"
   ]
  },
  {
   "cell_type": "code",
   "execution_count": 12,
   "metadata": {
    "execution": {
     "iopub.execute_input": "2020-08-09T22:43:19.897646Z",
     "iopub.status.busy": "2020-08-09T22:43:19.896550Z",
     "iopub.status.idle": "2020-08-09T22:43:19.901442Z",
     "shell.execute_reply": "2020-08-09T22:43:19.900389Z"
    },
    "papermill": {
     "duration": 0.050306,
     "end_time": "2020-08-09T22:43:19.901636",
     "exception": false,
     "start_time": "2020-08-09T22:43:19.851330",
     "status": "completed"
    },
    "tags": []
   },
   "outputs": [
    {
     "name": "stdout",
     "output_type": "stream",
     "text": [
      "<class 'pandas.core.frame.DataFrame'>\n",
      "RangeIndex: 891 entries, 0 to 890\n",
      "Data columns (total 10 columns):\n",
      " #   Column    Non-Null Count  Dtype  \n",
      "---  ------    --------------  -----  \n",
      " 0   Pclass    891 non-null    int64  \n",
      " 1   Name      891 non-null    object \n",
      " 2   Sex       891 non-null    object \n",
      " 3   Age       714 non-null    float64\n",
      " 4   SibSp     891 non-null    int64  \n",
      " 5   Parch     891 non-null    int64  \n",
      " 6   Ticket    891 non-null    object \n",
      " 7   Fare      891 non-null    float64\n",
      " 8   Cabin     204 non-null    object \n",
      " 9   Embarked  889 non-null    object \n",
      "dtypes: float64(2), int64(3), object(5)\n",
      "memory usage: 69.7+ KB\n",
      "train set shape (891, 10)\n",
      "Age missing 177     19.865319865319865 %\n",
      "Cabin missing 687     77.10437710437711 %\n",
      "Embarked missing 2     0.22446689113355783 %\n"
     ]
    }
   ],
   "source": [
    "X_train.info()\n",
    "print('train set shape',X_train.shape)\n",
    "n_alldata = int(891)\n",
    "print('Age missing',train.iloc[:n_alldata].Age.isnull().sum(),'   ',\n",
    "      (train.iloc[:n_alldata].Age.isnull().sum())/n_alldata*int(100),'%')\n",
    "print('Cabin missing',train.iloc[:n_alldata].Cabin.isnull().sum(),'   ',\n",
    "      (train.iloc[:n_alldata].Cabin.isnull().sum())/n_alldata*int(100),'%')\n",
    "print('Embarked missing',train.iloc[:n_alldata].Embarked.isnull().sum(),'   ',\n",
    "      (train.iloc[:n_alldata].Embarked.isnull().sum())/n_alldata*int(100),'%')"
   ]
  },
  {
   "cell_type": "code",
   "execution_count": 13,
   "metadata": {
    "execution": {
     "iopub.execute_input": "2020-08-09T22:43:19.972034Z",
     "iopub.status.busy": "2020-08-09T22:43:19.962155Z",
     "iopub.status.idle": "2020-08-09T22:43:19.976427Z",
     "shell.execute_reply": "2020-08-09T22:43:19.975567Z"
    },
    "papermill": {
     "duration": 0.047641,
     "end_time": "2020-08-09T22:43:19.976560",
     "exception": false,
     "start_time": "2020-08-09T22:43:19.928919",
     "status": "completed"
    },
    "tags": []
   },
   "outputs": [
    {
     "name": "stdout",
     "output_type": "stream",
     "text": [
      "<class 'pandas.core.frame.DataFrame'>\n",
      "RangeIndex: 418 entries, 0 to 417\n",
      "Data columns (total 10 columns):\n",
      " #   Column    Non-Null Count  Dtype  \n",
      "---  ------    --------------  -----  \n",
      " 0   Pclass    418 non-null    int64  \n",
      " 1   Name      418 non-null    object \n",
      " 2   Sex       418 non-null    object \n",
      " 3   Age       332 non-null    float64\n",
      " 4   SibSp     418 non-null    int64  \n",
      " 5   Parch     418 non-null    int64  \n",
      " 6   Ticket    418 non-null    object \n",
      " 7   Fare      417 non-null    float64\n",
      " 8   Cabin     91 non-null     object \n",
      " 9   Embarked  418 non-null    object \n",
      "dtypes: float64(2), int64(3), object(5)\n",
      "memory usage: 32.8+ KB\n",
      "test set shape (418, 10)\n",
      "Age missing 83     19.85645933014354 %\n",
      "Cabin missing 326     77.99043062200957 %\n",
      "Fare missing 0     0.0 %\n"
     ]
    }
   ],
   "source": [
    "X_test.info()\n",
    "print('test set shape',X_test.shape)\n",
    "n_alldata = int(418)\n",
    "print('Age missing',train.iloc[:n_alldata].Age.isnull().sum(),'   ',\n",
    "      (train.iloc[:n_alldata].Age.isnull().sum())/n_alldata*int(100),'%')\n",
    "print('Cabin missing',train.iloc[:n_alldata].Cabin.isnull().sum(),'   ',\n",
    "      (train.iloc[:n_alldata].Cabin.isnull().sum())/n_alldata*int(100),'%')\n",
    "print('Fare missing',train.iloc[:n_alldata].Fare.isnull().sum(),'   ',\n",
    "      (train.iloc[:n_alldata].Fare.isnull().sum())/n_alldata*int(100),'%')"
   ]
  },
  {
   "cell_type": "code",
   "execution_count": 14,
   "metadata": {
    "execution": {
     "iopub.execute_input": "2020-08-09T22:43:20.050408Z",
     "iopub.status.busy": "2020-08-09T22:43:20.035959Z",
     "iopub.status.idle": "2020-08-09T22:43:20.055425Z",
     "shell.execute_reply": "2020-08-09T22:43:20.054598Z"
    },
    "papermill": {
     "duration": 0.054813,
     "end_time": "2020-08-09T22:43:20.055617",
     "exception": false,
     "start_time": "2020-08-09T22:43:20.000804",
     "status": "completed"
    },
    "tags": []
   },
   "outputs": [
    {
     "name": "stdout",
     "output_type": "stream",
     "text": [
      "<class 'pandas.core.frame.DataFrame'>\n",
      "Int64Index: 1309 entries, 0 to 417\n",
      "Data columns (total 10 columns):\n",
      " #   Column    Non-Null Count  Dtype  \n",
      "---  ------    --------------  -----  \n",
      " 0   Pclass    1309 non-null   int64  \n",
      " 1   Name      1309 non-null   object \n",
      " 2   Sex       1309 non-null   object \n",
      " 3   Age       1046 non-null   float64\n",
      " 4   SibSp     1309 non-null   int64  \n",
      " 5   Parch     1309 non-null   int64  \n",
      " 6   Ticket    1309 non-null   object \n",
      " 7   Fare      1308 non-null   float64\n",
      " 8   Cabin     295 non-null    object \n",
      " 9   Embarked  1307 non-null   object \n",
      "dtypes: float64(2), int64(3), object(5)\n",
      "memory usage: 112.5+ KB\n",
      "alldata shape (1309, 10)\n",
      "Age missing 177     13.521772345301757 %\n",
      "Cabin missing 687     52.482811306340714 %\n",
      "Embarked missing 2     0.15278838808250572 %\n",
      "Fare missing 0     0.0 %\n"
     ]
    }
   ],
   "source": [
    "alldata.info()\n",
    "print('alldata shape',alldata.shape)\n",
    "n_alldata = int(1309)\n",
    "print('Age missing',train.iloc[:n_alldata].Age.isnull().sum(),'   ',\n",
    "      (train.iloc[:n_alldata].Age.isnull().sum())/n_alldata*int(100),'%')\n",
    "print('Cabin missing',train.iloc[:n_alldata].Cabin.isnull().sum(),'   ',\n",
    "      (train.iloc[:n_alldata].Cabin.isnull().sum())/n_alldata*int(100),'%')\n",
    "print('Embarked missing',train.iloc[:n_alldata].Embarked.isnull().sum(),'   ',\n",
    "      (train.iloc[:n_alldata].Embarked.isnull().sum())/n_alldata*int(100),'%')\n",
    "print('Fare missing',train.iloc[:n_alldata].Fare.isnull().sum(),'   ',\n",
    "      (train.iloc[:n_alldata].Fare.isnull().sum())/n_alldata*int(100),'%')"
   ]
  },
  {
   "cell_type": "code",
   "execution_count": 15,
   "metadata": {
    "execution": {
     "iopub.execute_input": "2020-08-09T22:43:20.135233Z",
     "iopub.status.busy": "2020-08-09T22:43:20.114554Z",
     "iopub.status.idle": "2020-08-09T22:43:20.185933Z",
     "shell.execute_reply": "2020-08-09T22:43:20.185246Z"
    },
    "papermill": {
     "duration": 0.106328,
     "end_time": "2020-08-09T22:43:20.186119",
     "exception": false,
     "start_time": "2020-08-09T22:43:20.079791",
     "status": "completed"
    },
    "tags": []
   },
   "outputs": [
    {
     "name": "stdout",
     "output_type": "stream",
     "text": [
      "Null Embarked:  0\n",
      "Null Fare:  0\n",
      "Null Age:  0\n",
      "Null Cabin:  0\n",
      "(1309, 14)\n",
      "{'Major', 'Dona', 'Mr', 'Sir', 'Master', 'Jonkheer', 'Mlle', 'Mrs', 'Miss', 'the Countess', 'Ms', 'Dr', 'Col', 'Lady', 'Capt', 'Rev', 'Mme', 'Don'}\n",
      "(1309, 32)\n"
     ]
    },
    {
     "name": "stderr",
     "output_type": "stream",
     "text": [
      "/opt/conda/lib/python3.7/site-packages/ipykernel_launcher.py:4: SettingWithCopyWarning: \n",
      "A value is trying to be set on a copy of a slice from a DataFrame\n",
      "\n",
      "See the caveats in the documentation: https://pandas.pydata.org/pandas-docs/stable/user_guide/indexing.html#returning-a-view-versus-a-copy\n",
      "  after removing the cwd from sys.path.\n",
      "/opt/conda/lib/python3.7/site-packages/ipykernel_launcher.py:5: SettingWithCopyWarning: \n",
      "A value is trying to be set on a copy of a slice from a DataFrame\n",
      "\n",
      "See the caveats in the documentation: https://pandas.pydata.org/pandas-docs/stable/user_guide/indexing.html#returning-a-view-versus-a-copy\n",
      "  \"\"\"\n"
     ]
    },
    {
     "data": {
      "text/html": [
       "<div>\n",
       "<style scoped>\n",
       "    .dataframe tbody tr th:only-of-type {\n",
       "        vertical-align: middle;\n",
       "    }\n",
       "\n",
       "    .dataframe tbody tr th {\n",
       "        vertical-align: top;\n",
       "    }\n",
       "\n",
       "    .dataframe thead th {\n",
       "        text-align: right;\n",
       "    }\n",
       "</style>\n",
       "<table border=\"1\" class=\"dataframe\">\n",
       "  <thead>\n",
       "    <tr style=\"text-align: right;\">\n",
       "      <th></th>\n",
       "      <th>Pclass_1</th>\n",
       "      <th>Pclass_2</th>\n",
       "      <th>Pclass_3</th>\n",
       "      <th>Age_revised</th>\n",
       "      <th>SibSp</th>\n",
       "      <th>Parch</th>\n",
       "      <th>Fare_revised</th>\n",
       "      <th>Sex_female</th>\n",
       "      <th>Sex_male</th>\n",
       "      <th>Embarked_revised_C</th>\n",
       "      <th>...</th>\n",
       "      <th>Name_Master</th>\n",
       "      <th>Name_Miss</th>\n",
       "      <th>Name_Mlle</th>\n",
       "      <th>Name_Mme</th>\n",
       "      <th>Name_Mr</th>\n",
       "      <th>Name_Mrs</th>\n",
       "      <th>Name_Ms</th>\n",
       "      <th>Name_Rev</th>\n",
       "      <th>Name_Sir</th>\n",
       "      <th>Name_the Countess</th>\n",
       "    </tr>\n",
       "  </thead>\n",
       "  <tbody>\n",
       "    <tr>\n",
       "      <th>0</th>\n",
       "      <td>0</td>\n",
       "      <td>0</td>\n",
       "      <td>1</td>\n",
       "      <td>22.0</td>\n",
       "      <td>1</td>\n",
       "      <td>0</td>\n",
       "      <td>7.2500</td>\n",
       "      <td>0</td>\n",
       "      <td>1</td>\n",
       "      <td>0</td>\n",
       "      <td>...</td>\n",
       "      <td>0</td>\n",
       "      <td>0</td>\n",
       "      <td>0</td>\n",
       "      <td>0</td>\n",
       "      <td>1</td>\n",
       "      <td>0</td>\n",
       "      <td>0</td>\n",
       "      <td>0</td>\n",
       "      <td>0</td>\n",
       "      <td>0</td>\n",
       "    </tr>\n",
       "    <tr>\n",
       "      <th>1</th>\n",
       "      <td>1</td>\n",
       "      <td>0</td>\n",
       "      <td>0</td>\n",
       "      <td>38.0</td>\n",
       "      <td>1</td>\n",
       "      <td>0</td>\n",
       "      <td>71.2833</td>\n",
       "      <td>1</td>\n",
       "      <td>0</td>\n",
       "      <td>1</td>\n",
       "      <td>...</td>\n",
       "      <td>0</td>\n",
       "      <td>0</td>\n",
       "      <td>0</td>\n",
       "      <td>0</td>\n",
       "      <td>0</td>\n",
       "      <td>1</td>\n",
       "      <td>0</td>\n",
       "      <td>0</td>\n",
       "      <td>0</td>\n",
       "      <td>0</td>\n",
       "    </tr>\n",
       "    <tr>\n",
       "      <th>2</th>\n",
       "      <td>0</td>\n",
       "      <td>0</td>\n",
       "      <td>1</td>\n",
       "      <td>26.0</td>\n",
       "      <td>0</td>\n",
       "      <td>0</td>\n",
       "      <td>7.9250</td>\n",
       "      <td>1</td>\n",
       "      <td>0</td>\n",
       "      <td>0</td>\n",
       "      <td>...</td>\n",
       "      <td>0</td>\n",
       "      <td>1</td>\n",
       "      <td>0</td>\n",
       "      <td>0</td>\n",
       "      <td>0</td>\n",
       "      <td>0</td>\n",
       "      <td>0</td>\n",
       "      <td>0</td>\n",
       "      <td>0</td>\n",
       "      <td>0</td>\n",
       "    </tr>\n",
       "    <tr>\n",
       "      <th>3</th>\n",
       "      <td>1</td>\n",
       "      <td>0</td>\n",
       "      <td>0</td>\n",
       "      <td>35.0</td>\n",
       "      <td>1</td>\n",
       "      <td>0</td>\n",
       "      <td>53.1000</td>\n",
       "      <td>1</td>\n",
       "      <td>0</td>\n",
       "      <td>0</td>\n",
       "      <td>...</td>\n",
       "      <td>0</td>\n",
       "      <td>0</td>\n",
       "      <td>0</td>\n",
       "      <td>0</td>\n",
       "      <td>0</td>\n",
       "      <td>1</td>\n",
       "      <td>0</td>\n",
       "      <td>0</td>\n",
       "      <td>0</td>\n",
       "      <td>0</td>\n",
       "    </tr>\n",
       "    <tr>\n",
       "      <th>4</th>\n",
       "      <td>0</td>\n",
       "      <td>0</td>\n",
       "      <td>1</td>\n",
       "      <td>35.0</td>\n",
       "      <td>0</td>\n",
       "      <td>0</td>\n",
       "      <td>8.0500</td>\n",
       "      <td>0</td>\n",
       "      <td>1</td>\n",
       "      <td>0</td>\n",
       "      <td>...</td>\n",
       "      <td>0</td>\n",
       "      <td>0</td>\n",
       "      <td>0</td>\n",
       "      <td>0</td>\n",
       "      <td>1</td>\n",
       "      <td>0</td>\n",
       "      <td>0</td>\n",
       "      <td>0</td>\n",
       "      <td>0</td>\n",
       "      <td>0</td>\n",
       "    </tr>\n",
       "  </tbody>\n",
       "</table>\n",
       "<p>5 rows × 32 columns</p>\n",
       "</div>"
      ],
      "text/plain": [
       "   Pclass_1  Pclass_2  Pclass_3  Age_revised  SibSp  Parch  Fare_revised  \\\n",
       "0         0         0         1         22.0      1      0        7.2500   \n",
       "1         1         0         0         38.0      1      0       71.2833   \n",
       "2         0         0         1         26.0      0      0        7.9250   \n",
       "3         1         0         0         35.0      1      0       53.1000   \n",
       "4         0         0         1         35.0      0      0        8.0500   \n",
       "\n",
       "   Sex_female  Sex_male  Embarked_revised_C  ...  Name_Master  Name_Miss  \\\n",
       "0           0         1                   0  ...            0          0   \n",
       "1           1         0                   1  ...            0          0   \n",
       "2           1         0                   0  ...            0          1   \n",
       "3           1         0                   0  ...            0          0   \n",
       "4           0         1                   0  ...            0          0   \n",
       "\n",
       "   Name_Mlle  Name_Mme  Name_Mr  Name_Mrs  Name_Ms  Name_Rev  Name_Sir  \\\n",
       "0          0         0        1         0        0         0         0   \n",
       "1          0         0        0         1        0         0         0   \n",
       "2          0         0        0         0        0         0         0   \n",
       "3          0         0        0         1        0         0         0   \n",
       "4          0         0        1         0        0         0         0   \n",
       "\n",
       "   Name_the Countess  \n",
       "0                  0  \n",
       "1                  0  \n",
       "2                  0  \n",
       "3                  0  \n",
       "4                  0  \n",
       "\n",
       "[5 rows x 32 columns]"
      ]
     },
     "execution_count": 15,
     "metadata": {},
     "output_type": "execute_result"
    }
   ],
   "source": [
    "alldata['Embarked_revised'] = alldata['Embarked']\n",
    "alldata.Embarked_revised.fillna('S', inplace=True) # replace with the most frequent one. Use train.Embarked.value_counts()\n",
    "alldata['Cabin_revised'] = alldata['Cabin'] \n",
    "alldata.Cabin_revised[alldata.Cabin_revised.notnull()]=1\n",
    "alldata.Cabin_revised[alldata.Cabin_revised.isnull()]=0\n",
    "alldata['Age_revised'] = alldata.Age.fillna(alldata.Age.median())\n",
    "alldata['Fare_revised'] = alldata.Fare.fillna(alldata.Fare.median())\n",
    "print('Null Embarked: ',alldata.Embarked_revised.isnull().sum())\n",
    "print('Null Fare: ',alldata.Fare_revised.isnull().sum())\n",
    "print('Null Age: ',alldata.Age_revised.isnull().sum())\n",
    "print('Null Cabin: ',alldata.Cabin_revised.isnull().sum())\n",
    "\n",
    "\n",
    "dummy_features = pd.get_dummies(alldata[['Sex','Embarked_revised','Cabin_revised']])\n",
    "dummy_Pclass = pd.get_dummies(alldata['Pclass'], prefix= 'Pclass')\n",
    "alldata_set = pd.concat([dummy_Pclass,alldata['Age_revised'],alldata['SibSp'],\n",
    "                         alldata['Parch'],alldata['Fare_revised'],dummy_features],axis=1)\n",
    "print(alldata_set.shape)\n",
    "\n",
    "\n",
    "names = set() # adds a given element to a set if the element is not present in the set\n",
    "for name in alldata['Name']:\n",
    "    names.add(name.split(',')[1].split('.')[0].strip())\n",
    "print(names)\n",
    "tmp = pd.DataFrame()\n",
    "tmp['Pre_Name'] = alldata['Name'].map(lambda x:x.split(',')[1].split('.')[0].strip())\n",
    "dummy_Name = pd.get_dummies(tmp['Pre_Name'], prefix= 'Name')\n",
    "alldata_set = pd.concat([alldata_set,dummy_Name],axis=1)\n",
    "print(alldata_set.shape)\n",
    "alldata_set.head()"
   ]
  },
  {
   "cell_type": "code",
   "execution_count": 16,
   "metadata": {
    "execution": {
     "iopub.execute_input": "2020-08-09T22:43:20.246962Z",
     "iopub.status.busy": "2020-08-09T22:43:20.246248Z",
     "iopub.status.idle": "2020-08-09T22:43:20.354023Z",
     "shell.execute_reply": "2020-08-09T22:43:20.354784Z"
    },
    "papermill": {
     "duration": 0.14238,
     "end_time": "2020-08-09T22:43:20.354965",
     "exception": false,
     "start_time": "2020-08-09T22:43:20.212585",
     "status": "completed"
    },
    "tags": []
   },
   "outputs": [
    {
     "name": "stdout",
     "output_type": "stream",
     "text": [
      "(1309, 32)\n"
     ]
    },
    {
     "data": {
      "text/html": [
       "<div>\n",
       "<style scoped>\n",
       "    .dataframe tbody tr th:only-of-type {\n",
       "        vertical-align: middle;\n",
       "    }\n",
       "\n",
       "    .dataframe tbody tr th {\n",
       "        vertical-align: top;\n",
       "    }\n",
       "\n",
       "    .dataframe thead th {\n",
       "        text-align: right;\n",
       "    }\n",
       "</style>\n",
       "<table border=\"1\" class=\"dataframe\">\n",
       "  <thead>\n",
       "    <tr style=\"text-align: right;\">\n",
       "      <th></th>\n",
       "      <th>Pclass_1</th>\n",
       "      <th>Pclass_2</th>\n",
       "      <th>Pclass_3</th>\n",
       "      <th>Age_revised</th>\n",
       "      <th>SibSp</th>\n",
       "      <th>Parch</th>\n",
       "      <th>Fare_revised</th>\n",
       "      <th>Sex_female</th>\n",
       "      <th>Sex_male</th>\n",
       "      <th>Embarked_revised_C</th>\n",
       "      <th>...</th>\n",
       "      <th>Name_Master</th>\n",
       "      <th>Name_Miss</th>\n",
       "      <th>Name_Mlle</th>\n",
       "      <th>Name_Mme</th>\n",
       "      <th>Name_Mr</th>\n",
       "      <th>Name_Mrs</th>\n",
       "      <th>Name_Ms</th>\n",
       "      <th>Name_Rev</th>\n",
       "      <th>Name_Sir</th>\n",
       "      <th>Name_the Countess</th>\n",
       "    </tr>\n",
       "  </thead>\n",
       "  <tbody>\n",
       "    <tr>\n",
       "      <th>0</th>\n",
       "      <td>0</td>\n",
       "      <td>0</td>\n",
       "      <td>1</td>\n",
       "      <td>-0.581628</td>\n",
       "      <td>1</td>\n",
       "      <td>0</td>\n",
       "      <td>-0.503291</td>\n",
       "      <td>0</td>\n",
       "      <td>1</td>\n",
       "      <td>0</td>\n",
       "      <td>...</td>\n",
       "      <td>0</td>\n",
       "      <td>0</td>\n",
       "      <td>0</td>\n",
       "      <td>0</td>\n",
       "      <td>1</td>\n",
       "      <td>0</td>\n",
       "      <td>0</td>\n",
       "      <td>0</td>\n",
       "      <td>0</td>\n",
       "      <td>0</td>\n",
       "    </tr>\n",
       "    <tr>\n",
       "      <th>1</th>\n",
       "      <td>1</td>\n",
       "      <td>0</td>\n",
       "      <td>0</td>\n",
       "      <td>0.658652</td>\n",
       "      <td>1</td>\n",
       "      <td>0</td>\n",
       "      <td>0.734744</td>\n",
       "      <td>1</td>\n",
       "      <td>0</td>\n",
       "      <td>1</td>\n",
       "      <td>...</td>\n",
       "      <td>0</td>\n",
       "      <td>0</td>\n",
       "      <td>0</td>\n",
       "      <td>0</td>\n",
       "      <td>0</td>\n",
       "      <td>1</td>\n",
       "      <td>0</td>\n",
       "      <td>0</td>\n",
       "      <td>0</td>\n",
       "      <td>0</td>\n",
       "    </tr>\n",
       "    <tr>\n",
       "      <th>2</th>\n",
       "      <td>0</td>\n",
       "      <td>0</td>\n",
       "      <td>1</td>\n",
       "      <td>-0.271558</td>\n",
       "      <td>0</td>\n",
       "      <td>0</td>\n",
       "      <td>-0.490240</td>\n",
       "      <td>1</td>\n",
       "      <td>0</td>\n",
       "      <td>0</td>\n",
       "      <td>...</td>\n",
       "      <td>0</td>\n",
       "      <td>1</td>\n",
       "      <td>0</td>\n",
       "      <td>0</td>\n",
       "      <td>0</td>\n",
       "      <td>0</td>\n",
       "      <td>0</td>\n",
       "      <td>0</td>\n",
       "      <td>0</td>\n",
       "      <td>0</td>\n",
       "    </tr>\n",
       "    <tr>\n",
       "      <th>3</th>\n",
       "      <td>1</td>\n",
       "      <td>0</td>\n",
       "      <td>0</td>\n",
       "      <td>0.426099</td>\n",
       "      <td>1</td>\n",
       "      <td>0</td>\n",
       "      <td>0.383183</td>\n",
       "      <td>1</td>\n",
       "      <td>0</td>\n",
       "      <td>0</td>\n",
       "      <td>...</td>\n",
       "      <td>0</td>\n",
       "      <td>0</td>\n",
       "      <td>0</td>\n",
       "      <td>0</td>\n",
       "      <td>0</td>\n",
       "      <td>1</td>\n",
       "      <td>0</td>\n",
       "      <td>0</td>\n",
       "      <td>0</td>\n",
       "      <td>0</td>\n",
       "    </tr>\n",
       "    <tr>\n",
       "      <th>4</th>\n",
       "      <td>0</td>\n",
       "      <td>0</td>\n",
       "      <td>1</td>\n",
       "      <td>0.426099</td>\n",
       "      <td>0</td>\n",
       "      <td>0</td>\n",
       "      <td>-0.487824</td>\n",
       "      <td>0</td>\n",
       "      <td>1</td>\n",
       "      <td>0</td>\n",
       "      <td>...</td>\n",
       "      <td>0</td>\n",
       "      <td>0</td>\n",
       "      <td>0</td>\n",
       "      <td>0</td>\n",
       "      <td>1</td>\n",
       "      <td>0</td>\n",
       "      <td>0</td>\n",
       "      <td>0</td>\n",
       "      <td>0</td>\n",
       "      <td>0</td>\n",
       "    </tr>\n",
       "  </tbody>\n",
       "</table>\n",
       "<p>5 rows × 32 columns</p>\n",
       "</div>"
      ],
      "text/plain": [
       "   Pclass_1  Pclass_2  Pclass_3  Age_revised  SibSp  Parch  Fare_revised  \\\n",
       "0         0         0         1    -0.581628      1      0     -0.503291   \n",
       "1         1         0         0     0.658652      1      0      0.734744   \n",
       "2         0         0         1    -0.271558      0      0     -0.490240   \n",
       "3         1         0         0     0.426099      1      0      0.383183   \n",
       "4         0         0         1     0.426099      0      0     -0.487824   \n",
       "\n",
       "   Sex_female  Sex_male  Embarked_revised_C  ...  Name_Master  Name_Miss  \\\n",
       "0           0         1                   0  ...            0          0   \n",
       "1           1         0                   1  ...            0          0   \n",
       "2           1         0                   0  ...            0          1   \n",
       "3           1         0                   0  ...            0          0   \n",
       "4           0         1                   0  ...            0          0   \n",
       "\n",
       "   Name_Mlle  Name_Mme  Name_Mr  Name_Mrs  Name_Ms  Name_Rev  Name_Sir  \\\n",
       "0          0         0        1         0        0         0         0   \n",
       "1          0         0        0         1        0         0         0   \n",
       "2          0         0        0         0        0         0         0   \n",
       "3          0         0        0         1        0         0         0   \n",
       "4          0         0        1         0        0         0         0   \n",
       "\n",
       "   Name_the Countess  \n",
       "0                  0  \n",
       "1                  0  \n",
       "2                  0  \n",
       "3                  0  \n",
       "4                  0  \n",
       "\n",
       "[5 rows x 32 columns]"
      ]
     },
     "execution_count": 16,
     "metadata": {},
     "output_type": "execute_result"
    }
   ],
   "source": [
    "from sklearn.preprocessing import StandardScaler\n",
    "scale = StandardScaler()\n",
    "alldata_set[['Age_revised','Fare_revised']]= scale.fit_transform(alldata_set[['Age_revised','Fare_revised']])\n",
    "print(alldata_set.shape)\n",
    "alldata_set.head()"
   ]
  },
  {
   "cell_type": "code",
   "execution_count": 17,
   "metadata": {
    "execution": {
     "iopub.execute_input": "2020-08-09T22:43:20.416229Z",
     "iopub.status.busy": "2020-08-09T22:43:20.415490Z",
     "iopub.status.idle": "2020-08-09T22:43:24.484979Z",
     "shell.execute_reply": "2020-08-09T22:43:24.484458Z"
    },
    "papermill": {
     "duration": 4.103466,
     "end_time": "2020-08-09T22:43:24.485124",
     "exception": false,
     "start_time": "2020-08-09T22:43:20.381658",
     "status": "completed"
    },
    "tags": []
   },
   "outputs": [
    {
     "name": "stdout",
     "output_type": "stream",
     "text": [
      "[0.77777778 0.91111111 0.8        0.86666667 0.77777778 0.75555556\n",
      " 0.8        0.91111111 0.88888889 0.84444444 0.8        0.75\n",
      " 0.79545455 0.86363636 0.84090909 0.77272727 0.81818182 0.90909091\n",
      " 0.84090909 0.86363636]\n",
      "0.8293939393939395\n"
     ]
    }
   ],
   "source": [
    "from sklearn.ensemble import RandomForestClassifier\n",
    "from sklearn.model_selection import cross_val_score\n",
    "from sklearn import model_selection\n",
    "from sklearn import tree\n",
    "\n",
    "array = alldata_set.values\n",
    "X = array[:891,:]\n",
    "y = y_train.values\n",
    "X_test = array[891:,:]\n",
    "\n",
    "rf = RandomForestClassifier(max_depth=5,random_state = 1)\n",
    "rf = rf.fit(X,y)\n",
    "cv = cross_val_score(rf,X,y,cv=20)\n",
    "print(cv)\n",
    "print(cv.mean())"
   ]
  },
  {
   "cell_type": "code",
   "execution_count": 18,
   "metadata": {
    "execution": {
     "iopub.execute_input": "2020-08-09T22:43:24.571929Z",
     "iopub.status.busy": "2020-08-09T22:43:24.571224Z",
     "iopub.status.idle": "2020-08-09T22:43:24.901490Z",
     "shell.execute_reply": "2020-08-09T22:43:24.902018Z"
    },
    "papermill": {
     "duration": 0.389572,
     "end_time": "2020-08-09T22:43:24.902226",
     "exception": false,
     "start_time": "2020-08-09T22:43:24.512654",
     "status": "completed"
    },
    "tags": []
   },
   "outputs": [
    {
     "name": "stdout",
     "output_type": "stream",
     "text": [
      "   Pclass_1  Pclass_2  Pclass_3  Age_revised  SibSp  Parch  Fare_revised  \\\n",
      "0         0         0         1    -0.581628      1      0     -0.503291   \n",
      "1         1         0         0     0.658652      1      0      0.734744   \n",
      "2         0         0         1    -0.271558      0      0     -0.490240   \n",
      "3         1         0         0     0.426099      1      0      0.383183   \n",
      "4         0         0         1     0.426099      0      0     -0.487824   \n",
      "\n",
      "   Sex_female  Sex_male  Embarked_revised_C  ...  Name_Master  Name_Miss  \\\n",
      "0           0         1                   0  ...            0          0   \n",
      "1           1         0                   1  ...            0          0   \n",
      "2           1         0                   0  ...            0          1   \n",
      "3           1         0                   0  ...            0          0   \n",
      "4           0         1                   0  ...            0          0   \n",
      "\n",
      "   Name_Mlle  Name_Mme  Name_Mr  Name_Mrs  Name_Ms  Name_Rev  Name_Sir  \\\n",
      "0          0         0        1         0        0         0         0   \n",
      "1          0         0        0         1        0         0         0   \n",
      "2          0         0        0         0        0         0         0   \n",
      "3          0         0        0         1        0         0         0   \n",
      "4          0         0        1         0        0         0         0   \n",
      "\n",
      "   Name_the Countess  \n",
      "0                  0  \n",
      "1                  0  \n",
      "2                  0  \n",
      "3                  0  \n",
      "4                  0  \n",
      "\n",
      "[5 rows x 32 columns]\n"
     ]
    },
    {
     "data": {
      "text/plain": [
       "<matplotlib.axes._subplots.AxesSubplot at 0x7f93d40381d0>"
      ]
     },
     "execution_count": 18,
     "metadata": {},
     "output_type": "execute_result"
    },
    {
     "data": {
      "image/png": "[encoded data removed]",
      "text/plain": [
       "<Figure size 576x576 with 1 Axes>"
      ]
     },
     "metadata": {
      "needs_background": "light"
     },
     "output_type": "display_data"
    }
   ],
   "source": [
    "feature_set = pd.DataFrame()\n",
    "feature_set = alldata_set\n",
    "print(feature_set.head())\n",
    "\n",
    "features = pd.DataFrame()\n",
    "features['features'] = feature_set.columns\n",
    "features['importance'] = rf.feature_importances_\n",
    "features.sort_values(by=['importance'], ascending=True, inplace=True)\n",
    "features.set_index('features', inplace=True)\n",
    "\n",
    "features.plot(kind='barh', figsize=(8, 8))"
   ]
  },
  {
   "cell_type": "code",
   "execution_count": 19,
   "metadata": {
    "execution": {
     "iopub.execute_input": "2020-08-09T22:43:24.969040Z",
     "iopub.status.busy": "2020-08-09T22:43:24.968251Z",
     "iopub.status.idle": "2020-08-09T22:43:25.149122Z",
     "shell.execute_reply": "2020-08-09T22:43:25.148350Z"
    },
    "papermill": {
     "duration": 0.215989,
     "end_time": "2020-08-09T22:43:25.149262",
     "exception": false,
     "start_time": "2020-08-09T22:43:24.933273",
     "status": "completed"
    },
    "tags": []
   },
   "outputs": [
    {
     "name": "stdout",
     "output_type": "stream",
     "text": [
      "(891, 32)\n",
      "(891, 11)\n",
      "(418, 32)\n",
      "(418, 11)\n"
     ]
    }
   ],
   "source": [
    "from sklearn.feature_selection import SelectFromModel\n",
    "print(X.shape)\n",
    "SFM = SelectFromModel(rf, prefit=True)\n",
    "X_reduced = SFM.transform(X)\n",
    "print(X_reduced.shape)\n",
    "print(X_test.shape)\n",
    "X_test_reduced = SFM.transform(X_test)\n",
    "print(X_test_reduced.shape)"
   ]
  },
  {
   "cell_type": "code",
   "execution_count": 20,
   "metadata": {
    "execution": {
     "iopub.execute_input": "2020-08-09T22:43:25.221145Z",
     "iopub.status.busy": "2020-08-09T22:43:25.219732Z",
     "iopub.status.idle": "2020-08-09T22:43:29.050904Z",
     "shell.execute_reply": "2020-08-09T22:43:29.051510Z"
    },
    "papermill": {
     "duration": 3.871451,
     "end_time": "2020-08-09T22:43:29.051678",
     "exception": false,
     "start_time": "2020-08-09T22:43:25.180227",
     "status": "completed"
    },
    "tags": []
   },
   "outputs": [
    {
     "name": "stdout",
     "output_type": "stream",
     "text": [
      "[0.77777778 0.88888889 0.77777778 0.88888889 0.77777778 0.75555556\n",
      " 0.8        0.93333333 0.88888889 0.82222222 0.82222222 0.77272727\n",
      " 0.75       0.86363636 0.84090909 0.77272727 0.79545455 0.90909091\n",
      " 0.84090909 0.86363636]\n",
      "0.8271212121212121\n"
     ]
    }
   ],
   "source": [
    "rf = RandomForestClassifier(max_depth=5,random_state = 1)\n",
    "rf = rf.fit(X_reduced,y)\n",
    "cv = cross_val_score(rf,X_reduced,y,cv=20)\n",
    "print(cv)\n",
    "print(cv.mean())"
   ]
  },
  {
   "cell_type": "code",
   "execution_count": 21,
   "metadata": {
    "execution": {
     "iopub.execute_input": "2020-08-09T22:43:29.120344Z",
     "iopub.status.busy": "2020-08-09T22:43:29.119443Z",
     "iopub.status.idle": "2020-08-09T22:43:29.235027Z",
     "shell.execute_reply": "2020-08-09T22:43:29.234244Z"
    },
    "papermill": {
     "duration": 0.15371,
     "end_time": "2020-08-09T22:43:29.235347",
     "exception": false,
     "start_time": "2020-08-09T22:43:29.081637",
     "status": "completed"
    },
    "tags": []
   },
   "outputs": [],
   "source": [
    "prediction_y = rf.predict(X_test_reduced).astype(np.int32)\n",
    "submission = pd.DataFrame({'PassengerId': test.PassengerId, 'Survived': prediction_y})\n",
    "submission.to_csv('submission_v4.csv', index=False)"
   ]
  },
  {
   "cell_type": "code",
   "execution_count": null,
   "metadata": {
    "papermill": {
     "duration": 0.031521,
     "end_time": "2020-08-09T22:43:29.297826",
     "exception": false,
     "start_time": "2020-08-09T22:43:29.266305",
     "status": "completed"
    },
    "tags": []
   },
   "outputs": [],
   "source": []
  }
 ],
 "metadata": {
  "kernelspec": {
   "display_name": "Python 3",
   "language": "python",
   "name": "python3"
  },
  "language_info": {
   "codemirror_mode": {
    "name": "ipython",
    "version": 3
   },
   "file_extension": ".py",
   "mimetype": "text/x-python",
   "name": "python",
   "nbconvert_exporter": "python",
   "pygments_lexer": "ipython3",
   "version": "3.7.6"
  },
  "papermill": {
   "duration": 19.581707,
   "end_time": "2020-08-09T22:43:29.439347",
   "environment_variables": {},
   "exception": null,
   "input_path": "__notebook__.ipynb",
   "output_path": "__notebook__.ipynb",
   "parameters": {},
   "start_time": "2020-08-09T22:43:09.857640",
   "version": "2.1.0"
  }
 },
 "nbformat": 4,
 "nbformat_minor": 4
}
